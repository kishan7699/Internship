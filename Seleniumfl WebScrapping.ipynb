{
 "cells": [
  {
   "cell_type": "code",
   "execution_count": 7,
   "id": "7ed9241b",
   "metadata": {},
   "outputs": [
    {
     "name": "stdout",
     "output_type": "stream",
     "text": [
      "Requirement already satisfied: selenium in c:\\users\\91954\\anaconda3\\lib\\site-packages (4.1.0)\n",
      "Requirement already satisfied: urllib3[secure]~=1.26 in c:\\users\\91954\\anaconda3\\lib\\site-packages (from selenium) (1.26.4)\n",
      "Requirement already satisfied: trio~=0.17 in c:\\users\\91954\\anaconda3\\lib\\site-packages (from selenium) (0.19.0)\n",
      "Requirement already satisfied: trio-websocket~=0.9 in c:\\users\\91954\\anaconda3\\lib\\site-packages (from selenium) (0.9.2)\n",
      "Requirement already satisfied: cffi>=1.14 in c:\\users\\91954\\anaconda3\\lib\\site-packages (from trio~=0.17->selenium) (1.14.5)\n",
      "Requirement already satisfied: outcome in c:\\users\\91954\\anaconda3\\lib\\site-packages (from trio~=0.17->selenium) (1.1.0)\n",
      "Requirement already satisfied: idna in c:\\users\\91954\\anaconda3\\lib\\site-packages (from trio~=0.17->selenium) (2.10)\n",
      "Requirement already satisfied: sortedcontainers in c:\\users\\91954\\anaconda3\\lib\\site-packages (from trio~=0.17->selenium) (2.3.0)\n",
      "Requirement already satisfied: async-generator>=1.9 in c:\\users\\91954\\anaconda3\\lib\\site-packages (from trio~=0.17->selenium) (1.10)\n",
      "Requirement already satisfied: attrs>=19.2.0 in c:\\users\\91954\\anaconda3\\lib\\site-packages (from trio~=0.17->selenium) (20.3.0)\n",
      "Requirement already satisfied: sniffio in c:\\users\\91954\\anaconda3\\lib\\site-packages (from trio~=0.17->selenium) (1.2.0)\n",
      "Requirement already satisfied: pycparser in c:\\users\\91954\\anaconda3\\lib\\site-packages (from cffi>=1.14->trio~=0.17->selenium) (2.20)\n",
      "Requirement already satisfied: wsproto>=0.14 in c:\\users\\91954\\anaconda3\\lib\\site-packages (from trio-websocket~=0.9->selenium) (1.0.0)\n",
      "Requirement already satisfied: pyOpenSSL>=0.14 in c:\\users\\91954\\anaconda3\\lib\\site-packages (from urllib3[secure]~=1.26->selenium) (20.0.1)\n",
      "Requirement already satisfied: certifi in c:\\users\\91954\\anaconda3\\lib\\site-packages (from urllib3[secure]~=1.26->selenium) (2020.12.5)\n",
      "Requirement already satisfied: cryptography>=1.3.4 in c:\\users\\91954\\anaconda3\\lib\\site-packages (from urllib3[secure]~=1.26->selenium) (3.4.7)\n",
      "Requirement already satisfied: six>=1.5.2 in c:\\users\\91954\\anaconda3\\lib\\site-packages (from pyOpenSSL>=0.14->urllib3[secure]~=1.26->selenium) (1.15.0)\n",
      "Requirement already satisfied: h11<1,>=0.9.0 in c:\\users\\91954\\anaconda3\\lib\\site-packages (from wsproto>=0.14->trio-websocket~=0.9->selenium) (0.12.0)\n"
     ]
    }
   ],
   "source": [
    "!pip install selenium"
   ]
  },
  {
   "cell_type": "code",
   "execution_count": 153,
   "id": "d827b56e",
   "metadata": {},
   "outputs": [],
   "source": [
    "import selenium\n",
    "import pandas as pd\n",
    "from selenium import webdriver"
   ]
  },
  {
   "cell_type": "code",
   "execution_count": 154,
   "id": "95e729a1",
   "metadata": {},
   "outputs": [
    {
     "name": "stderr",
     "output_type": "stream",
     "text": [
      "<ipython-input-154-539dda6a696f>:1: DeprecationWarning: executable_path has been deprecated, please pass in a Service object\n",
      "  driver=webdriver.Chrome(r\"C:/Users/91954/data science pg program/chromedriver_win32/chromedriver.exe\")\n"
     ]
    }
   ],
   "source": [
    "driver=webdriver.Chrome(r\"C:/Users/91954/data science pg program/chromedriver_win32/chromedriver.exe\")"
   ]
  },
  {
   "cell_type": "markdown",
   "id": "f6319272",
   "metadata": {},
   "source": [
    "# Q1: Write a python program to scrape data for “Data Analyst” Job position in “Bangalore” location. Youhave to scrape the job-title, job-location, company_name, experience_required. You have to scrape first 10jobs data."
   ]
  },
  {
   "cell_type": "code",
   "execution_count": 43,
   "id": "ece132d4",
   "metadata": {},
   "outputs": [],
   "source": [
    "driver.get('https://www.naukri.com/')"
   ]
  },
  {
   "cell_type": "code",
   "execution_count": 16,
   "id": "46736461",
   "metadata": {},
   "outputs": [
    {
     "name": "stderr",
     "output_type": "stream",
     "text": [
      "<ipython-input-16-e4b25771525e>:1: DeprecationWarning: find_element_by_* commands are deprecated. Please use find_element() instead\n",
      "  search_job=driver.find_element_by_id(\"qsb-keyword-sugg\")\n",
      "<ipython-input-16-e4b25771525e>:3: DeprecationWarning: find_element_by_* commands are deprecated. Please use find_element() instead\n",
      "  search_loc=driver.find_element_by_xpath(\"//input[@id='qsb-location-sugg']\")\n"
     ]
    }
   ],
   "source": [
    "search_job=driver.find_element_by_id(\"qsb-keyword-sugg\")\n",
    "search_job.send_keys('Data Analyst')\n",
    "search_loc=driver.find_element_by_xpath(\"//input[@id='qsb-location-sugg']\")\n",
    "search_loc.send_keys('Bangalore')"
   ]
  },
  {
   "cell_type": "code",
   "execution_count": 17,
   "id": "5cdca38d",
   "metadata": {},
   "outputs": [
    {
     "name": "stderr",
     "output_type": "stream",
     "text": [
      "<ipython-input-17-7653471c6af2>:1: DeprecationWarning: find_element_by_* commands are deprecated. Please use find_element() instead\n",
      "  search_bttn=driver .find_element_by_xpath(\"//div[@class='search-btn']/button\")\n"
     ]
    }
   ],
   "source": [
    "search_bttn=driver .find_element_by_xpath(\"//div[@class='search-btn']/button\")\n",
    "search_bttn.click()"
   ]
  },
  {
   "cell_type": "code",
   "execution_count": 18,
   "id": "22e93e73",
   "metadata": {},
   "outputs": [],
   "source": [
    "jobtitle=[]\n",
    "company_name=[]\n",
    "location=[]\n",
    "experience_list=[]"
   ]
  },
  {
   "cell_type": "code",
   "execution_count": 19,
   "id": "33342857",
   "metadata": {},
   "outputs": [
    {
     "name": "stderr",
     "output_type": "stream",
     "text": [
      "<ipython-input-19-5ded21013737>:1: DeprecationWarning: find_elements_by_* commands are deprecated. Please use find_elements() instead\n",
      "  title_tag=driver.find_elements_by_xpath(\"//a[@class='title fw500 ellipsis']\")\n"
     ]
    },
    {
     "data": {
      "text/plain": [
       "[<selenium.webdriver.remote.webelement.WebElement (session=\"d02f7731d46109e80b8baa428397227f\", element=\"f36d89c5-6a8d-4e92-bce4-02041e0e616b\")>,\n",
       " <selenium.webdriver.remote.webelement.WebElement (session=\"d02f7731d46109e80b8baa428397227f\", element=\"59d9e5fc-29d8-4fd2-8dbc-73571484290f\")>,\n",
       " <selenium.webdriver.remote.webelement.WebElement (session=\"d02f7731d46109e80b8baa428397227f\", element=\"7f1cc566-fc9e-4e08-b533-5b483189dd45\")>,\n",
       " <selenium.webdriver.remote.webelement.WebElement (session=\"d02f7731d46109e80b8baa428397227f\", element=\"e4b7d929-4925-4152-a4b5-63ef9708b07f\")>,\n",
       " <selenium.webdriver.remote.webelement.WebElement (session=\"d02f7731d46109e80b8baa428397227f\", element=\"db826ec2-9b51-4ac5-b4ea-22e8c7d8e499\")>,\n",
       " <selenium.webdriver.remote.webelement.WebElement (session=\"d02f7731d46109e80b8baa428397227f\", element=\"d0362c0b-d6eb-458e-821b-335c467cb0e4\")>,\n",
       " <selenium.webdriver.remote.webelement.WebElement (session=\"d02f7731d46109e80b8baa428397227f\", element=\"aef2b8bb-ff6c-4588-990b-7a5721f35e54\")>,\n",
       " <selenium.webdriver.remote.webelement.WebElement (session=\"d02f7731d46109e80b8baa428397227f\", element=\"24049ffc-1ffe-4b86-998c-02c403695d73\")>,\n",
       " <selenium.webdriver.remote.webelement.WebElement (session=\"d02f7731d46109e80b8baa428397227f\", element=\"8bc9b5ac-86ee-4d51-ae3b-c0b3f74150d5\")>,\n",
       " <selenium.webdriver.remote.webelement.WebElement (session=\"d02f7731d46109e80b8baa428397227f\", element=\"c857c770-a0e7-4a2b-8e26-9acdff7f83a2\")>,\n",
       " <selenium.webdriver.remote.webelement.WebElement (session=\"d02f7731d46109e80b8baa428397227f\", element=\"a23f03b3-66d1-40bb-b29d-ff02617c3515\")>,\n",
       " <selenium.webdriver.remote.webelement.WebElement (session=\"d02f7731d46109e80b8baa428397227f\", element=\"ae75c145-6be1-48e8-a5a1-8b3e3fd2d5dd\")>,\n",
       " <selenium.webdriver.remote.webelement.WebElement (session=\"d02f7731d46109e80b8baa428397227f\", element=\"171393b5-b1b7-47b3-988c-12378cbdbe26\")>,\n",
       " <selenium.webdriver.remote.webelement.WebElement (session=\"d02f7731d46109e80b8baa428397227f\", element=\"8c8642c6-a8f2-4dad-a6a6-f6a2c7f5aa1c\")>,\n",
       " <selenium.webdriver.remote.webelement.WebElement (session=\"d02f7731d46109e80b8baa428397227f\", element=\"4667b43f-b22b-4245-952e-7095a8fa5c22\")>,\n",
       " <selenium.webdriver.remote.webelement.WebElement (session=\"d02f7731d46109e80b8baa428397227f\", element=\"ff1f3841-4a2a-4e72-adf6-88353dfbc9ce\")>,\n",
       " <selenium.webdriver.remote.webelement.WebElement (session=\"d02f7731d46109e80b8baa428397227f\", element=\"1d50bbd1-e9d0-496e-893e-c3fb137c92a2\")>,\n",
       " <selenium.webdriver.remote.webelement.WebElement (session=\"d02f7731d46109e80b8baa428397227f\", element=\"25b8cba5-f62f-4f9e-aac8-535473e1466c\")>,\n",
       " <selenium.webdriver.remote.webelement.WebElement (session=\"d02f7731d46109e80b8baa428397227f\", element=\"ba172447-1e81-4d07-bccd-6b0ccd101341\")>,\n",
       " <selenium.webdriver.remote.webelement.WebElement (session=\"d02f7731d46109e80b8baa428397227f\", element=\"c8e26205-851f-4510-91d3-855f1acac272\")>]"
      ]
     },
     "execution_count": 19,
     "metadata": {},
     "output_type": "execute_result"
    }
   ],
   "source": [
    "title_tag=driver.find_elements_by_xpath(\"//a[@class='title fw500 ellipsis']\")\n",
    "title_tag"
   ]
  },
  {
   "cell_type": "code",
   "execution_count": 20,
   "id": "c68e729f",
   "metadata": {},
   "outputs": [
    {
     "data": {
      "text/plain": [
       "['Assistant/deputy Manager - Geo-spatial Data Analyst',\n",
       " 'Senior Data Analyst',\n",
       " 'Senior Data Analyst',\n",
       " 'SENIOR ASSOCIATE ENGINEER - SCM - DATA ANALYST',\n",
       " 'Senior Data Analyst',\n",
       " 'Data Analyst',\n",
       " 'Data Analyst / Engineer',\n",
       " 'Data Analyst (On Contract)',\n",
       " 'Senior Data Analyst',\n",
       " 'Senior Data Analyst for HANA Platform',\n",
       " 'Data Analyst',\n",
       " 'Supervisor Role, Data Analyst, six sigma, Analytical skills, Database',\n",
       " 'Data Analyst',\n",
       " 'Jr . Data Analyst',\n",
       " 'Hiring Business Data Analyst +ETL- Tech Mahindra, Bangalore',\n",
       " 'Business Analyst / Data Analyst',\n",
       " 'Job Opportunity For Clinical Data Analyst - CDM',\n",
       " 'Data Analyst',\n",
       " 'Data Analyst',\n",
       " 'Financial Data Analyst']"
      ]
     },
     "execution_count": 20,
     "metadata": {},
     "output_type": "execute_result"
    }
   ],
   "source": [
    "for i in title_tag:\n",
    "    title=i.text\n",
    "    jobtitle.append(title)\n",
    "\n",
    "    \n",
    "jobtitle    \n",
    "    \n",
    "    "
   ]
  },
  {
   "cell_type": "code",
   "execution_count": 21,
   "id": "11419953",
   "metadata": {},
   "outputs": [
    {
     "data": {
      "text/plain": [
       "20"
      ]
     },
     "execution_count": 21,
     "metadata": {},
     "output_type": "execute_result"
    }
   ],
   "source": [
    "len(jobtitle)"
   ]
  },
  {
   "cell_type": "code",
   "execution_count": 22,
   "id": "79121eb0",
   "metadata": {},
   "outputs": [],
   "source": [
    "jobtitle=jobtitle[0:10]"
   ]
  },
  {
   "cell_type": "code",
   "execution_count": 23,
   "id": "88ef8de3",
   "metadata": {},
   "outputs": [
    {
     "data": {
      "text/plain": [
       "['Assistant/deputy Manager - Geo-spatial Data Analyst',\n",
       " 'Senior Data Analyst',\n",
       " 'Senior Data Analyst',\n",
       " 'SENIOR ASSOCIATE ENGINEER - SCM - DATA ANALYST',\n",
       " 'Senior Data Analyst',\n",
       " 'Data Analyst',\n",
       " 'Data Analyst / Engineer',\n",
       " 'Data Analyst (On Contract)',\n",
       " 'Senior Data Analyst',\n",
       " 'Senior Data Analyst for HANA Platform']"
      ]
     },
     "execution_count": 23,
     "metadata": {},
     "output_type": "execute_result"
    }
   ],
   "source": [
    "jobtitle"
   ]
  },
  {
   "cell_type": "code",
   "execution_count": 24,
   "id": "4e1e2672",
   "metadata": {},
   "outputs": [
    {
     "name": "stderr",
     "output_type": "stream",
     "text": [
      "<ipython-input-24-5e12a2341a55>:1: DeprecationWarning: find_elements_by_* commands are deprecated. Please use find_elements() instead\n",
      "  comp=driver.find_elements_by_xpath(\"//a[@class='subTitle ellipsis fleft']\")\n"
     ]
    }
   ],
   "source": [
    "comp=driver.find_elements_by_xpath(\"//a[@class='subTitle ellipsis fleft']\")"
   ]
  },
  {
   "cell_type": "code",
   "execution_count": 25,
   "id": "9dec409e",
   "metadata": {},
   "outputs": [
    {
     "data": {
      "text/plain": [
       "['Maruti Suzuki India',\n",
       " 'Rapido',\n",
       " 'SYREN TECHNOLOGIES PRIVATE LIMITED',\n",
       " 'Collins Aerospace',\n",
       " 'Flipkart',\n",
       " 'GlaxoSmithKline Pharmaceuticals Limited',\n",
       " 'Animaker India Private Limited',\n",
       " 'Rupeek Fintech Pvt Ltd',\n",
       " 'Flipkart',\n",
       " 'Intel',\n",
       " 'NetraDyne Technology India Private Limited',\n",
       " 'Concentrix Daksh Services',\n",
       " 'Slice',\n",
       " 'Armorblox',\n",
       " 'Tech Mahindra',\n",
       " 'GetSimpl',\n",
       " 'Paradigm IT',\n",
       " 'Ola Cabs',\n",
       " 'ExecBoardinAsia',\n",
       " 'UnitedLex']"
      ]
     },
     "execution_count": 25,
     "metadata": {},
     "output_type": "execute_result"
    }
   ],
   "source": [
    "for i in comp:\n",
    "    comp_=i.text\n",
    "    company_name.append(comp_)\n",
    "\n",
    "    \n",
    "company_name   "
   ]
  },
  {
   "cell_type": "code",
   "execution_count": 26,
   "id": "c37e199c",
   "metadata": {},
   "outputs": [],
   "source": [
    "company_name=company_name[0:10]"
   ]
  },
  {
   "cell_type": "code",
   "execution_count": 27,
   "id": "1cdd8e37",
   "metadata": {},
   "outputs": [
    {
     "data": {
      "text/plain": [
       "['Maruti Suzuki India',\n",
       " 'Rapido',\n",
       " 'SYREN TECHNOLOGIES PRIVATE LIMITED',\n",
       " 'Collins Aerospace',\n",
       " 'Flipkart',\n",
       " 'GlaxoSmithKline Pharmaceuticals Limited',\n",
       " 'Animaker India Private Limited',\n",
       " 'Rupeek Fintech Pvt Ltd',\n",
       " 'Flipkart',\n",
       " 'Intel']"
      ]
     },
     "execution_count": 27,
     "metadata": {},
     "output_type": "execute_result"
    }
   ],
   "source": [
    "company_name"
   ]
  },
  {
   "cell_type": "code",
   "execution_count": 28,
   "id": "e6015f50",
   "metadata": {},
   "outputs": [
    {
     "name": "stderr",
     "output_type": "stream",
     "text": [
      "<ipython-input-28-ff542430ce04>:1: DeprecationWarning: find_elements_by_* commands are deprecated. Please use find_elements() instead\n",
      "  loc=driver.find_elements_by_xpath(\"//li[@class='fleft grey-text br2 placeHolderLi location']/span\")\n"
     ]
    }
   ],
   "source": [
    "loc=driver.find_elements_by_xpath(\"//li[@class='fleft grey-text br2 placeHolderLi location']/span\")"
   ]
  },
  {
   "cell_type": "code",
   "execution_count": 29,
   "id": "da891154",
   "metadata": {},
   "outputs": [
    {
     "data": {
      "text/plain": [
       "['Gurgaon/Gurugram, bangalore',\n",
       " 'Bangalore/Bengaluru',\n",
       " 'Kolkata, Hyderabad/Secunderabad, Pune, Ahmedabad, Chennai, Bangalore/Bengaluru, Delhi / NCR, Mumbai (All Areas)',\n",
       " '(WFH during Covid)',\n",
       " 'Bangalore/Bengaluru',\n",
       " 'Bengaluru/Bangalore',\n",
       " 'Bangalore/Bengaluru',\n",
       " 'Chennai, Bangalore/Bengaluru',\n",
       " 'Bangalore/Bengaluru',\n",
       " 'Bangalore/Bengaluru',\n",
       " 'Bangalore/Bengaluru',\n",
       " 'Bangalore/Bengaluru',\n",
       " 'Bangalore/Bengaluru',\n",
       " 'Bangalore/Bengaluru',\n",
       " 'Bangalore/Bengaluru',\n",
       " 'Bangalore/Bengaluru',\n",
       " 'Bangalore/Bengaluru',\n",
       " '(WFH during Covid)',\n",
       " 'Kolkata, Hyderabad/Secunderabad, Pune, Chennai, Bangalore/Bengaluru, Delhi / NCR, Mumbai (All Areas)',\n",
       " '(WFH during Covid)',\n",
       " 'Bangalore/Bengaluru',\n",
       " 'Bangalore/Bengaluru',\n",
       " 'Hyderabad/Secunderabad, Chennai, Bangalore/Bengaluru']"
      ]
     },
     "execution_count": 29,
     "metadata": {},
     "output_type": "execute_result"
    }
   ],
   "source": [
    "for i in loc:\n",
    "    loc_=i.text\n",
    "    location.append(loc_)\n",
    "\n",
    "    \n",
    "location   "
   ]
  },
  {
   "cell_type": "code",
   "execution_count": 30,
   "id": "3725d337",
   "metadata": {},
   "outputs": [],
   "source": [
    "location=location[0:10]"
   ]
  },
  {
   "cell_type": "code",
   "execution_count": 31,
   "id": "3e948c27",
   "metadata": {},
   "outputs": [
    {
     "data": {
      "text/plain": [
       "['Gurgaon/Gurugram, bangalore',\n",
       " 'Bangalore/Bengaluru',\n",
       " 'Kolkata, Hyderabad/Secunderabad, Pune, Ahmedabad, Chennai, Bangalore/Bengaluru, Delhi / NCR, Mumbai (All Areas)',\n",
       " '(WFH during Covid)',\n",
       " 'Bangalore/Bengaluru',\n",
       " 'Bengaluru/Bangalore',\n",
       " 'Bangalore/Bengaluru',\n",
       " 'Chennai, Bangalore/Bengaluru',\n",
       " 'Bangalore/Bengaluru',\n",
       " 'Bangalore/Bengaluru']"
      ]
     },
     "execution_count": 31,
     "metadata": {},
     "output_type": "execute_result"
    }
   ],
   "source": [
    "location"
   ]
  },
  {
   "cell_type": "code",
   "execution_count": 32,
   "id": "39c664f4",
   "metadata": {},
   "outputs": [
    {
     "name": "stderr",
     "output_type": "stream",
     "text": [
      "<ipython-input-32-a90c16b12762>:1: DeprecationWarning: find_elements_by_* commands are deprecated. Please use find_elements() instead\n",
      "  exp=driver.find_elements_by_xpath(\"//li[@class='fleft grey-text br2 placeHolderLi experience']/span\")\n"
     ]
    }
   ],
   "source": [
    "exp=driver.find_elements_by_xpath(\"//li[@class='fleft grey-text br2 placeHolderLi experience']/span\")"
   ]
  },
  {
   "cell_type": "code",
   "execution_count": 33,
   "id": "cee41dc1",
   "metadata": {},
   "outputs": [
    {
     "data": {
      "text/plain": [
       "['3-5 Yrs',\n",
       " '1-6 Yrs',\n",
       " '5-10 Yrs',\n",
       " '9-12 Yrs',\n",
       " '4-5 Yrs',\n",
       " '3-8 Yrs',\n",
       " '4-9 Yrs',\n",
       " '0-2 Yrs',\n",
       " '3-7 Yrs',\n",
       " '5-10 Yrs',\n",
       " '2-5 Yrs',\n",
       " '3-6 Yrs',\n",
       " '0-2 Yrs',\n",
       " '0-2 Yrs',\n",
       " '6-10 Yrs',\n",
       " '2-4 Yrs',\n",
       " '3-8 Yrs',\n",
       " '1-3 Yrs',\n",
       " '5-10 Yrs',\n",
       " '2-5 Yrs']"
      ]
     },
     "execution_count": 33,
     "metadata": {},
     "output_type": "execute_result"
    }
   ],
   "source": [
    "for i in exp:\n",
    "    exp_=i.text\n",
    "    experience_list.append(exp_)\n",
    "\n",
    "    \n",
    "experience_list"
   ]
  },
  {
   "cell_type": "code",
   "execution_count": 34,
   "id": "fe74499d",
   "metadata": {},
   "outputs": [],
   "source": [
    "expe=experience_list[0:10]"
   ]
  },
  {
   "cell_type": "code",
   "execution_count": 35,
   "id": "4415f3c4",
   "metadata": {},
   "outputs": [
    {
     "data": {
      "text/plain": [
       "['3-5 Yrs',\n",
       " '1-6 Yrs',\n",
       " '5-10 Yrs',\n",
       " '9-12 Yrs',\n",
       " '4-5 Yrs',\n",
       " '3-8 Yrs',\n",
       " '4-9 Yrs',\n",
       " '0-2 Yrs',\n",
       " '3-7 Yrs',\n",
       " '5-10 Yrs']"
      ]
     },
     "execution_count": 35,
     "metadata": {},
     "output_type": "execute_result"
    }
   ],
   "source": [
    "expe"
   ]
  },
  {
   "cell_type": "code",
   "execution_count": 36,
   "id": "a52456c5",
   "metadata": {},
   "outputs": [],
   "source": [
    "jobs=pd.DataFrame({})\n",
    "jobs['titles']=jobtitle\n",
    "jobs['company']=company_name\n",
    "jobs['location']=location\n",
    "jobs['experience required']=expe\n"
   ]
  },
  {
   "cell_type": "code",
   "execution_count": 37,
   "id": "28cecafb",
   "metadata": {},
   "outputs": [
    {
     "data": {
      "text/html": [
       "<div>\n",
       "<style scoped>\n",
       "    .dataframe tbody tr th:only-of-type {\n",
       "        vertical-align: middle;\n",
       "    }\n",
       "\n",
       "    .dataframe tbody tr th {\n",
       "        vertical-align: top;\n",
       "    }\n",
       "\n",
       "    .dataframe thead th {\n",
       "        text-align: right;\n",
       "    }\n",
       "</style>\n",
       "<table border=\"1\" class=\"dataframe\">\n",
       "  <thead>\n",
       "    <tr style=\"text-align: right;\">\n",
       "      <th></th>\n",
       "      <th>titles</th>\n",
       "      <th>company</th>\n",
       "      <th>location</th>\n",
       "      <th>experience required</th>\n",
       "    </tr>\n",
       "  </thead>\n",
       "  <tbody>\n",
       "    <tr>\n",
       "      <th>0</th>\n",
       "      <td>Assistant/deputy Manager - Geo-spatial Data An...</td>\n",
       "      <td>Maruti Suzuki India</td>\n",
       "      <td>Gurgaon/Gurugram, bangalore</td>\n",
       "      <td>3-5 Yrs</td>\n",
       "    </tr>\n",
       "    <tr>\n",
       "      <th>1</th>\n",
       "      <td>Senior Data Analyst</td>\n",
       "      <td>Rapido</td>\n",
       "      <td>Bangalore/Bengaluru</td>\n",
       "      <td>1-6 Yrs</td>\n",
       "    </tr>\n",
       "    <tr>\n",
       "      <th>2</th>\n",
       "      <td>Senior Data Analyst</td>\n",
       "      <td>SYREN TECHNOLOGIES PRIVATE LIMITED</td>\n",
       "      <td>Kolkata, Hyderabad/Secunderabad, Pune, Ahmedab...</td>\n",
       "      <td>5-10 Yrs</td>\n",
       "    </tr>\n",
       "    <tr>\n",
       "      <th>3</th>\n",
       "      <td>SENIOR ASSOCIATE ENGINEER - SCM - DATA ANALYST</td>\n",
       "      <td>Collins Aerospace</td>\n",
       "      <td>(WFH during Covid)</td>\n",
       "      <td>9-12 Yrs</td>\n",
       "    </tr>\n",
       "    <tr>\n",
       "      <th>4</th>\n",
       "      <td>Senior Data Analyst</td>\n",
       "      <td>Flipkart</td>\n",
       "      <td>Bangalore/Bengaluru</td>\n",
       "      <td>4-5 Yrs</td>\n",
       "    </tr>\n",
       "    <tr>\n",
       "      <th>5</th>\n",
       "      <td>Data Analyst</td>\n",
       "      <td>GlaxoSmithKline Pharmaceuticals Limited</td>\n",
       "      <td>Bengaluru/Bangalore</td>\n",
       "      <td>3-8 Yrs</td>\n",
       "    </tr>\n",
       "    <tr>\n",
       "      <th>6</th>\n",
       "      <td>Data Analyst / Engineer</td>\n",
       "      <td>Animaker India Private Limited</td>\n",
       "      <td>Bangalore/Bengaluru</td>\n",
       "      <td>4-9 Yrs</td>\n",
       "    </tr>\n",
       "    <tr>\n",
       "      <th>7</th>\n",
       "      <td>Data Analyst (On Contract)</td>\n",
       "      <td>Rupeek Fintech Pvt Ltd</td>\n",
       "      <td>Chennai, Bangalore/Bengaluru</td>\n",
       "      <td>0-2 Yrs</td>\n",
       "    </tr>\n",
       "    <tr>\n",
       "      <th>8</th>\n",
       "      <td>Senior Data Analyst</td>\n",
       "      <td>Flipkart</td>\n",
       "      <td>Bangalore/Bengaluru</td>\n",
       "      <td>3-7 Yrs</td>\n",
       "    </tr>\n",
       "    <tr>\n",
       "      <th>9</th>\n",
       "      <td>Senior Data Analyst for HANA Platform</td>\n",
       "      <td>Intel</td>\n",
       "      <td>Bangalore/Bengaluru</td>\n",
       "      <td>5-10 Yrs</td>\n",
       "    </tr>\n",
       "  </tbody>\n",
       "</table>\n",
       "</div>"
      ],
      "text/plain": [
       "                                              titles  \\\n",
       "0  Assistant/deputy Manager - Geo-spatial Data An...   \n",
       "1                                Senior Data Analyst   \n",
       "2                                Senior Data Analyst   \n",
       "3     SENIOR ASSOCIATE ENGINEER - SCM - DATA ANALYST   \n",
       "4                                Senior Data Analyst   \n",
       "5                                       Data Analyst   \n",
       "6                            Data Analyst / Engineer   \n",
       "7                         Data Analyst (On Contract)   \n",
       "8                                Senior Data Analyst   \n",
       "9              Senior Data Analyst for HANA Platform   \n",
       "\n",
       "                                   company  \\\n",
       "0                      Maruti Suzuki India   \n",
       "1                                   Rapido   \n",
       "2       SYREN TECHNOLOGIES PRIVATE LIMITED   \n",
       "3                        Collins Aerospace   \n",
       "4                                 Flipkart   \n",
       "5  GlaxoSmithKline Pharmaceuticals Limited   \n",
       "6           Animaker India Private Limited   \n",
       "7                   Rupeek Fintech Pvt Ltd   \n",
       "8                                 Flipkart   \n",
       "9                                    Intel   \n",
       "\n",
       "                                            location experience required  \n",
       "0                        Gurgaon/Gurugram, bangalore             3-5 Yrs  \n",
       "1                                Bangalore/Bengaluru             1-6 Yrs  \n",
       "2  Kolkata, Hyderabad/Secunderabad, Pune, Ahmedab...            5-10 Yrs  \n",
       "3                                 (WFH during Covid)            9-12 Yrs  \n",
       "4                                Bangalore/Bengaluru             4-5 Yrs  \n",
       "5                                Bengaluru/Bangalore             3-8 Yrs  \n",
       "6                                Bangalore/Bengaluru             4-9 Yrs  \n",
       "7                       Chennai, Bangalore/Bengaluru             0-2 Yrs  \n",
       "8                                Bangalore/Bengaluru             3-7 Yrs  \n",
       "9                                Bangalore/Bengaluru            5-10 Yrs  "
      ]
     },
     "execution_count": 37,
     "metadata": {},
     "output_type": "execute_result"
    }
   ],
   "source": [
    "jobs"
   ]
  },
  {
   "cell_type": "markdown",
   "id": "1b4bfeef",
   "metadata": {},
   "source": [
    "# Q2: Write a python program to scrape data for “Data Scientist” Job position in “Bangalore” location. Youhave to scrape the job-title, job-location, company_name. You have to scrape first 10 jobs data.\n"
   ]
  },
  {
   "cell_type": "code",
   "execution_count": 38,
   "id": "3c572ff9",
   "metadata": {},
   "outputs": [],
   "source": [
    "driver.close()"
   ]
  },
  {
   "cell_type": "code",
   "execution_count": 44,
   "id": "abbd7adc",
   "metadata": {},
   "outputs": [
    {
     "name": "stderr",
     "output_type": "stream",
     "text": [
      "<ipython-input-44-1ff34b48c7cd>:1: DeprecationWarning: find_element_by_* commands are deprecated. Please use find_element() instead\n",
      "  search_jobs=driver.find_element_by_id(\"qsb-keyword-sugg\")\n",
      "<ipython-input-44-1ff34b48c7cd>:3: DeprecationWarning: find_element_by_* commands are deprecated. Please use find_element() instead\n",
      "  search_locs=driver.find_element_by_xpath(\"//input[@id='qsb-location-sugg']\")\n"
     ]
    }
   ],
   "source": [
    "search_jobs=driver.find_element_by_id(\"qsb-keyword-sugg\")\n",
    "search_jobs.send_keys('Data Scientist')\n",
    "search_locs=driver.find_element_by_xpath(\"//input[@id='qsb-location-sugg']\")\n",
    "search_locs.send_keys('Bangalore')"
   ]
  },
  {
   "cell_type": "code",
   "execution_count": 46,
   "id": "e7ecd1ec",
   "metadata": {},
   "outputs": [
    {
     "name": "stderr",
     "output_type": "stream",
     "text": [
      "<ipython-input-46-7653471c6af2>:1: DeprecationWarning: find_element_by_* commands are deprecated. Please use find_element() instead\n",
      "  search_bttn=driver .find_element_by_xpath(\"//div[@class='search-btn']/button\")\n"
     ]
    }
   ],
   "source": [
    "search_bttn=driver .find_element_by_xpath(\"//div[@class='search-btn']/button\")\n",
    "search_bttn.click()"
   ]
  },
  {
   "cell_type": "code",
   "execution_count": 50,
   "id": "8c056965",
   "metadata": {},
   "outputs": [
    {
     "name": "stderr",
     "output_type": "stream",
     "text": [
      "<ipython-input-50-f26e05d0d183>:1: DeprecationWarning: find_elements_by_* commands are deprecated. Please use find_elements() instead\n",
      "  title_tags=driver.find_elements_by_xpath(\"//a[@class='title fw500 ellipsis']\")\n"
     ]
    },
    {
     "data": {
      "text/plain": [
       "[<selenium.webdriver.remote.webelement.WebElement (session=\"c3ea05b520e10438cf8ee6514e82e1ed\", element=\"ead7fbfc-c573-416e-a7d0-4aa0c7e1b702\")>,\n",
       " <selenium.webdriver.remote.webelement.WebElement (session=\"c3ea05b520e10438cf8ee6514e82e1ed\", element=\"622995f5-8192-4e62-948d-7e0c7a9f8721\")>,\n",
       " <selenium.webdriver.remote.webelement.WebElement (session=\"c3ea05b520e10438cf8ee6514e82e1ed\", element=\"8948038b-1360-48ca-9eac-993474ae0c8d\")>,\n",
       " <selenium.webdriver.remote.webelement.WebElement (session=\"c3ea05b520e10438cf8ee6514e82e1ed\", element=\"2251370c-e2c0-4ea6-9411-c2f204c43a90\")>,\n",
       " <selenium.webdriver.remote.webelement.WebElement (session=\"c3ea05b520e10438cf8ee6514e82e1ed\", element=\"5f9e7477-578a-4b5a-b457-f1be36c700d6\")>,\n",
       " <selenium.webdriver.remote.webelement.WebElement (session=\"c3ea05b520e10438cf8ee6514e82e1ed\", element=\"f478d8b6-101c-4cda-a6c5-53637c8554eb\")>,\n",
       " <selenium.webdriver.remote.webelement.WebElement (session=\"c3ea05b520e10438cf8ee6514e82e1ed\", element=\"5260df6b-fb64-45bc-bea6-b5487cb42435\")>,\n",
       " <selenium.webdriver.remote.webelement.WebElement (session=\"c3ea05b520e10438cf8ee6514e82e1ed\", element=\"7798f8cc-d911-4e35-864b-7c8fa9c6c103\")>,\n",
       " <selenium.webdriver.remote.webelement.WebElement (session=\"c3ea05b520e10438cf8ee6514e82e1ed\", element=\"df1d4036-8a76-4ac9-a6ac-3c97e245fb30\")>,\n",
       " <selenium.webdriver.remote.webelement.WebElement (session=\"c3ea05b520e10438cf8ee6514e82e1ed\", element=\"c6cf0a1f-699a-4701-b8a9-0059c7832ba9\")>,\n",
       " <selenium.webdriver.remote.webelement.WebElement (session=\"c3ea05b520e10438cf8ee6514e82e1ed\", element=\"8eb8b542-02bc-41f2-a1e1-a3f6ec0af174\")>,\n",
       " <selenium.webdriver.remote.webelement.WebElement (session=\"c3ea05b520e10438cf8ee6514e82e1ed\", element=\"9fa0330b-25ee-46c4-9af4-1c0e96593ef2\")>,\n",
       " <selenium.webdriver.remote.webelement.WebElement (session=\"c3ea05b520e10438cf8ee6514e82e1ed\", element=\"ff6df894-4b6c-43b9-a72b-e6d77a1d5375\")>,\n",
       " <selenium.webdriver.remote.webelement.WebElement (session=\"c3ea05b520e10438cf8ee6514e82e1ed\", element=\"c75553ba-891f-46e2-a6c8-e6145cb93417\")>,\n",
       " <selenium.webdriver.remote.webelement.WebElement (session=\"c3ea05b520e10438cf8ee6514e82e1ed\", element=\"e3c2a6ce-fec2-4cb8-a955-80b085478e1c\")>,\n",
       " <selenium.webdriver.remote.webelement.WebElement (session=\"c3ea05b520e10438cf8ee6514e82e1ed\", element=\"6982283a-42ac-450a-9f28-cfe112f1bc87\")>,\n",
       " <selenium.webdriver.remote.webelement.WebElement (session=\"c3ea05b520e10438cf8ee6514e82e1ed\", element=\"fbb4f375-83e5-409b-9db7-8089b5b32507\")>,\n",
       " <selenium.webdriver.remote.webelement.WebElement (session=\"c3ea05b520e10438cf8ee6514e82e1ed\", element=\"4859da03-f18b-48af-8ec6-3be8c4255852\")>,\n",
       " <selenium.webdriver.remote.webelement.WebElement (session=\"c3ea05b520e10438cf8ee6514e82e1ed\", element=\"e60c8d88-7d5c-4d19-8007-4956613d8dcd\")>,\n",
       " <selenium.webdriver.remote.webelement.WebElement (session=\"c3ea05b520e10438cf8ee6514e82e1ed\", element=\"f53a4762-8b1f-462d-b66d-877fbecf7c7a\")>]"
      ]
     },
     "execution_count": 50,
     "metadata": {},
     "output_type": "execute_result"
    }
   ],
   "source": [
    "title_tags=driver.find_elements_by_xpath(\"//a[@class='title fw500 ellipsis']\")\n",
    "title_tags"
   ]
  },
  {
   "cell_type": "code",
   "execution_count": 51,
   "id": "a4b054a4",
   "metadata": {},
   "outputs": [
    {
     "data": {
      "text/plain": [
       "['Senior Data Scientist',\n",
       " 'Sr. Associate Consultant Data Scientist',\n",
       " 'Data Scientist: Advanced Analytics',\n",
       " 'Cognitive Data Scientist',\n",
       " 'Senior Engineer - AIML - Data Scientist',\n",
       " 'Senior data scientist',\n",
       " 'Cognitive/AI Senior Data Scientist',\n",
       " 'Lead Programmer - Data Scientist',\n",
       " 'Senior Data Scientist',\n",
       " 'Lead/Senior Data Scientist (NLP)',\n",
       " 'Data Scientist',\n",
       " 'Data Scientist',\n",
       " 'Healthcare Data Scientist',\n",
       " 'Senior Data Scientist',\n",
       " 'Sr. Data Scientist - Medical /Marketing Analytics',\n",
       " 'Senior Data Scientist',\n",
       " 'Senior Data Scientist',\n",
       " 'Data Scientist: Artificial Intelligence',\n",
       " 'Data Scientist: Advanced Analytics',\n",
       " 'Data Scientist: Artificial Intelligence']"
      ]
     },
     "execution_count": 51,
     "metadata": {},
     "output_type": "execute_result"
    }
   ],
   "source": [
    "jobtitles=[]\n",
    "for i in title_tags:\n",
    "    title=i.text\n",
    "    jobtitles.append(title)\n",
    "\n",
    "    \n",
    "jobtitles    \n",
    "    "
   ]
  },
  {
   "cell_type": "code",
   "execution_count": 52,
   "id": "cddef7ba",
   "metadata": {},
   "outputs": [
    {
     "data": {
      "text/plain": [
       "20"
      ]
     },
     "execution_count": 52,
     "metadata": {},
     "output_type": "execute_result"
    }
   ],
   "source": [
    "len(jobtitles)"
   ]
  },
  {
   "cell_type": "code",
   "execution_count": 53,
   "id": "568cda91",
   "metadata": {},
   "outputs": [],
   "source": [
    "jobtitles=jobtitles[0:10]"
   ]
  },
  {
   "cell_type": "code",
   "execution_count": 54,
   "id": "c3e9930c",
   "metadata": {},
   "outputs": [
    {
     "name": "stderr",
     "output_type": "stream",
     "text": [
      "<ipython-input-54-28e4bf76553f>:1: DeprecationWarning: find_elements_by_* commands are deprecated. Please use find_elements() instead\n",
      "  compn=driver.find_elements_by_xpath(\"//a[@class='subTitle ellipsis fleft']\")\n"
     ]
    }
   ],
   "source": [
    "compn=driver.find_elements_by_xpath(\"//a[@class='subTitle ellipsis fleft']\")"
   ]
  },
  {
   "cell_type": "code",
   "execution_count": 55,
   "id": "7fbf607c",
   "metadata": {},
   "outputs": [
    {
     "data": {
      "text/plain": [
       "['Visa',\n",
       " 'Eli Lilly and Company',\n",
       " 'IBM India Pvt. Limited',\n",
       " 'IBM India Pvt. Limited',\n",
       " 'Unisys',\n",
       " 'Compile Inc',\n",
       " 'IBM India Pvt. Limited',\n",
       " 'GlaxoSmithKline Pharmaceuticals Limited',\n",
       " 'Juniper Networks',\n",
       " 'Samya.AI A FRACTAL Entity',\n",
       " 'Tata Unistore',\n",
       " 'Tarento Technologies Pvt Ltd',\n",
       " 'Accumed Practice Management DMCC',\n",
       " 'Idexcel Technologies Private Limited',\n",
       " 'Valuable Consulting',\n",
       " 'Idexcel Technologies Private Limited',\n",
       " 'Idexcel Technologies Private Limited',\n",
       " 'IBM India Pvt. Limited',\n",
       " 'IBM India Pvt. Limited',\n",
       " 'IBM India Pvt. Limited']"
      ]
     },
     "execution_count": 55,
     "metadata": {},
     "output_type": "execute_result"
    }
   ],
   "source": [
    "company_names=[]\n",
    "for i in compn:\n",
    "    comp_=i.text\n",
    "    company_names.append(comp_)\n",
    "\n",
    "    \n",
    "company_names   "
   ]
  },
  {
   "cell_type": "code",
   "execution_count": 56,
   "id": "b5fd1266",
   "metadata": {},
   "outputs": [],
   "source": [
    "company_names=company_names[0:10]"
   ]
  },
  {
   "cell_type": "code",
   "execution_count": 57,
   "id": "3ae40b49",
   "metadata": {},
   "outputs": [
    {
     "data": {
      "text/plain": [
       "['Visa',\n",
       " 'Eli Lilly and Company',\n",
       " 'IBM India Pvt. Limited',\n",
       " 'IBM India Pvt. Limited',\n",
       " 'Unisys',\n",
       " 'Compile Inc',\n",
       " 'IBM India Pvt. Limited',\n",
       " 'GlaxoSmithKline Pharmaceuticals Limited',\n",
       " 'Juniper Networks',\n",
       " 'Samya.AI A FRACTAL Entity']"
      ]
     },
     "execution_count": 57,
     "metadata": {},
     "output_type": "execute_result"
    }
   ],
   "source": [
    "company_names"
   ]
  },
  {
   "cell_type": "code",
   "execution_count": 58,
   "id": "3007281f",
   "metadata": {},
   "outputs": [
    {
     "name": "stderr",
     "output_type": "stream",
     "text": [
      "<ipython-input-58-0bf5080adad6>:1: DeprecationWarning: find_elements_by_* commands are deprecated. Please use find_elements() instead\n",
      "  loct=driver.find_elements_by_xpath(\"//li[@class='fleft grey-text br2 placeHolderLi location']/span\")\n"
     ]
    }
   ],
   "source": [
    "loct=driver.find_elements_by_xpath(\"//li[@class='fleft grey-text br2 placeHolderLi location']/span\")"
   ]
  },
  {
   "cell_type": "code",
   "execution_count": 59,
   "id": "7c45dd5e",
   "metadata": {},
   "outputs": [
    {
     "data": {
      "text/plain": [
       "['Bangalore/Bengaluru',\n",
       " 'Bangalore/Bengaluru',\n",
       " 'Bangalore/Bengaluru',\n",
       " 'Bangalore/Bengaluru',\n",
       " 'Bangalore/Bengaluru',\n",
       " 'Bangalore/Bengaluru',\n",
       " 'Bengaluru/Bangalore',\n",
       " 'Bangalore/Bengaluru',\n",
       " 'Bangalore/Bengaluru',\n",
       " 'Bangalore/Bengaluru',\n",
       " '(WFH during Covid)',\n",
       " 'Mumbai, Bangalore/Bengaluru',\n",
       " 'Bangalore/Bengaluru',\n",
       " 'Chennai, Bangalore/Bengaluru',\n",
       " '(WFH during Covid)',\n",
       " 'Bangalore/Bengaluru',\n",
       " 'Bangalore/Bengaluru',\n",
       " 'Bangalore/Bengaluru',\n",
       " 'Bangalore/Bengaluru',\n",
       " 'Bangalore/Bengaluru',\n",
       " 'Bengaluru/Bangalore',\n",
       " 'Bangalore/Bengaluru']"
      ]
     },
     "execution_count": 59,
     "metadata": {},
     "output_type": "execute_result"
    }
   ],
   "source": [
    "locations=[]\n",
    "for i in loct:\n",
    "    loc_=i.text\n",
    "    locations.append(loc_)\n",
    "\n",
    "    \n",
    "locations   "
   ]
  },
  {
   "cell_type": "code",
   "execution_count": 60,
   "id": "597737ab",
   "metadata": {},
   "outputs": [],
   "source": [
    "locations=locations[0:10]"
   ]
  },
  {
   "cell_type": "code",
   "execution_count": 61,
   "id": "137a45d4",
   "metadata": {},
   "outputs": [
    {
     "data": {
      "text/plain": [
       "['Bangalore/Bengaluru',\n",
       " 'Bangalore/Bengaluru',\n",
       " 'Bangalore/Bengaluru',\n",
       " 'Bangalore/Bengaluru',\n",
       " 'Bangalore/Bengaluru',\n",
       " 'Bangalore/Bengaluru',\n",
       " 'Bengaluru/Bangalore',\n",
       " 'Bangalore/Bengaluru',\n",
       " 'Bangalore/Bengaluru',\n",
       " 'Bangalore/Bengaluru']"
      ]
     },
     "execution_count": 61,
     "metadata": {},
     "output_type": "execute_result"
    }
   ],
   "source": [
    "locations"
   ]
  },
  {
   "cell_type": "code",
   "execution_count": 62,
   "id": "5186658c",
   "metadata": {},
   "outputs": [
    {
     "name": "stderr",
     "output_type": "stream",
     "text": [
      "<ipython-input-62-6e2752b1dc7b>:1: DeprecationWarning: find_elements_by_* commands are deprecated. Please use find_elements() instead\n",
      "  exps=driver.find_elements_by_xpath(\"//li[@class='fleft grey-text br2 placeHolderLi experience']/span\")\n"
     ]
    }
   ],
   "source": [
    "exps=driver.find_elements_by_xpath(\"//li[@class='fleft grey-text br2 placeHolderLi experience']/span\")"
   ]
  },
  {
   "cell_type": "code",
   "execution_count": 63,
   "id": "6de706c6",
   "metadata": {},
   "outputs": [
    {
     "data": {
      "text/plain": [
       "['4-9 Yrs',\n",
       " '3-5 Yrs',\n",
       " '5-10 Yrs',\n",
       " '3-7 Yrs',\n",
       " '4-9 Yrs',\n",
       " '5-10 Yrs',\n",
       " '4-8 Yrs',\n",
       " '3-8 Yrs',\n",
       " '11-15 Yrs',\n",
       " '3-8 Yrs',\n",
       " '3-7 Yrs',\n",
       " '5-10 Yrs',\n",
       " '3-8 Yrs',\n",
       " '4-9 Yrs',\n",
       " '7-12 Yrs',\n",
       " '3-8 Yrs',\n",
       " '3-8 Yrs',\n",
       " '2-6 Yrs',\n",
       " '5-7 Yrs',\n",
       " '4-6 Yrs']"
      ]
     },
     "execution_count": 63,
     "metadata": {},
     "output_type": "execute_result"
    }
   ],
   "source": [
    "experience_lists=[]\n",
    "for i in exps:\n",
    "    exp_=i.text\n",
    "    experience_lists.append(exp_)\n",
    "\n",
    "    \n",
    "experience_lists"
   ]
  },
  {
   "cell_type": "code",
   "execution_count": 64,
   "id": "7e7e6c60",
   "metadata": {},
   "outputs": [],
   "source": [
    "experience_lists=experience_lists[0:10]"
   ]
  },
  {
   "cell_type": "code",
   "execution_count": 65,
   "id": "9f87a866",
   "metadata": {},
   "outputs": [
    {
     "data": {
      "text/plain": [
       "['4-9 Yrs',\n",
       " '3-5 Yrs',\n",
       " '5-10 Yrs',\n",
       " '3-7 Yrs',\n",
       " '4-9 Yrs',\n",
       " '5-10 Yrs',\n",
       " '4-8 Yrs',\n",
       " '3-8 Yrs',\n",
       " '11-15 Yrs',\n",
       " '3-8 Yrs']"
      ]
     },
     "execution_count": 65,
     "metadata": {},
     "output_type": "execute_result"
    }
   ],
   "source": [
    "experience_lists"
   ]
  },
  {
   "cell_type": "code",
   "execution_count": 66,
   "id": "c02be493",
   "metadata": {},
   "outputs": [],
   "source": [
    "jobs_=pd.DataFrame({})\n",
    "jobs_['titles']=jobtitles\n",
    "jobs_['company']=company_names\n",
    "jobs_['location']=locations\n",
    "jobs_['experience required']=experience_lists"
   ]
  },
  {
   "cell_type": "code",
   "execution_count": 67,
   "id": "d8161fbd",
   "metadata": {},
   "outputs": [
    {
     "data": {
      "text/html": [
       "<div>\n",
       "<style scoped>\n",
       "    .dataframe tbody tr th:only-of-type {\n",
       "        vertical-align: middle;\n",
       "    }\n",
       "\n",
       "    .dataframe tbody tr th {\n",
       "        vertical-align: top;\n",
       "    }\n",
       "\n",
       "    .dataframe thead th {\n",
       "        text-align: right;\n",
       "    }\n",
       "</style>\n",
       "<table border=\"1\" class=\"dataframe\">\n",
       "  <thead>\n",
       "    <tr style=\"text-align: right;\">\n",
       "      <th></th>\n",
       "      <th>titles</th>\n",
       "      <th>company</th>\n",
       "      <th>location</th>\n",
       "      <th>experience required</th>\n",
       "    </tr>\n",
       "  </thead>\n",
       "  <tbody>\n",
       "    <tr>\n",
       "      <th>0</th>\n",
       "      <td>Senior Data Scientist</td>\n",
       "      <td>Visa</td>\n",
       "      <td>Bangalore/Bengaluru</td>\n",
       "      <td>4-9 Yrs</td>\n",
       "    </tr>\n",
       "    <tr>\n",
       "      <th>1</th>\n",
       "      <td>Sr. Associate Consultant Data Scientist</td>\n",
       "      <td>Eli Lilly and Company</td>\n",
       "      <td>Bangalore/Bengaluru</td>\n",
       "      <td>3-5 Yrs</td>\n",
       "    </tr>\n",
       "    <tr>\n",
       "      <th>2</th>\n",
       "      <td>Data Scientist: Advanced Analytics</td>\n",
       "      <td>IBM India Pvt. Limited</td>\n",
       "      <td>Bangalore/Bengaluru</td>\n",
       "      <td>5-10 Yrs</td>\n",
       "    </tr>\n",
       "    <tr>\n",
       "      <th>3</th>\n",
       "      <td>Cognitive Data Scientist</td>\n",
       "      <td>IBM India Pvt. Limited</td>\n",
       "      <td>Bangalore/Bengaluru</td>\n",
       "      <td>3-7 Yrs</td>\n",
       "    </tr>\n",
       "    <tr>\n",
       "      <th>4</th>\n",
       "      <td>Senior Engineer - AIML - Data Scientist</td>\n",
       "      <td>Unisys</td>\n",
       "      <td>Bangalore/Bengaluru</td>\n",
       "      <td>4-9 Yrs</td>\n",
       "    </tr>\n",
       "    <tr>\n",
       "      <th>5</th>\n",
       "      <td>Senior data scientist</td>\n",
       "      <td>Compile Inc</td>\n",
       "      <td>Bangalore/Bengaluru</td>\n",
       "      <td>5-10 Yrs</td>\n",
       "    </tr>\n",
       "    <tr>\n",
       "      <th>6</th>\n",
       "      <td>Cognitive/AI Senior Data Scientist</td>\n",
       "      <td>IBM India Pvt. Limited</td>\n",
       "      <td>Bengaluru/Bangalore</td>\n",
       "      <td>4-8 Yrs</td>\n",
       "    </tr>\n",
       "    <tr>\n",
       "      <th>7</th>\n",
       "      <td>Lead Programmer - Data Scientist</td>\n",
       "      <td>GlaxoSmithKline Pharmaceuticals Limited</td>\n",
       "      <td>Bangalore/Bengaluru</td>\n",
       "      <td>3-8 Yrs</td>\n",
       "    </tr>\n",
       "    <tr>\n",
       "      <th>8</th>\n",
       "      <td>Senior Data Scientist</td>\n",
       "      <td>Juniper Networks</td>\n",
       "      <td>Bangalore/Bengaluru</td>\n",
       "      <td>11-15 Yrs</td>\n",
       "    </tr>\n",
       "    <tr>\n",
       "      <th>9</th>\n",
       "      <td>Lead/Senior Data Scientist (NLP)</td>\n",
       "      <td>Samya.AI A FRACTAL Entity</td>\n",
       "      <td>Bangalore/Bengaluru</td>\n",
       "      <td>3-8 Yrs</td>\n",
       "    </tr>\n",
       "  </tbody>\n",
       "</table>\n",
       "</div>"
      ],
      "text/plain": [
       "                                    titles  \\\n",
       "0                    Senior Data Scientist   \n",
       "1  Sr. Associate Consultant Data Scientist   \n",
       "2       Data Scientist: Advanced Analytics   \n",
       "3                 Cognitive Data Scientist   \n",
       "4  Senior Engineer - AIML - Data Scientist   \n",
       "5                    Senior data scientist   \n",
       "6       Cognitive/AI Senior Data Scientist   \n",
       "7         Lead Programmer - Data Scientist   \n",
       "8                    Senior Data Scientist   \n",
       "9         Lead/Senior Data Scientist (NLP)   \n",
       "\n",
       "                                   company             location  \\\n",
       "0                                     Visa  Bangalore/Bengaluru   \n",
       "1                    Eli Lilly and Company  Bangalore/Bengaluru   \n",
       "2                   IBM India Pvt. Limited  Bangalore/Bengaluru   \n",
       "3                   IBM India Pvt. Limited  Bangalore/Bengaluru   \n",
       "4                                   Unisys  Bangalore/Bengaluru   \n",
       "5                              Compile Inc  Bangalore/Bengaluru   \n",
       "6                   IBM India Pvt. Limited  Bengaluru/Bangalore   \n",
       "7  GlaxoSmithKline Pharmaceuticals Limited  Bangalore/Bengaluru   \n",
       "8                         Juniper Networks  Bangalore/Bengaluru   \n",
       "9                Samya.AI A FRACTAL Entity  Bangalore/Bengaluru   \n",
       "\n",
       "  experience required  \n",
       "0             4-9 Yrs  \n",
       "1             3-5 Yrs  \n",
       "2            5-10 Yrs  \n",
       "3             3-7 Yrs  \n",
       "4             4-9 Yrs  \n",
       "5            5-10 Yrs  \n",
       "6             4-8 Yrs  \n",
       "7             3-8 Yrs  \n",
       "8           11-15 Yrs  \n",
       "9             3-8 Yrs  "
      ]
     },
     "execution_count": 67,
     "metadata": {},
     "output_type": "execute_result"
    }
   ],
   "source": [
    "jobs_"
   ]
  },
  {
   "cell_type": "markdown",
   "id": "2c652a15",
   "metadata": {},
   "source": [
    "# Q3: In this question you have to scrape data using the filters available on the webpage"
   ]
  },
  {
   "cell_type": "code",
   "execution_count": 98,
   "id": "69b9b832",
   "metadata": {},
   "outputs": [],
   "source": [
    "driver.close()"
   ]
  },
  {
   "cell_type": "code",
   "execution_count": 79,
   "id": "a9e710ae",
   "metadata": {},
   "outputs": [
    {
     "name": "stderr",
     "output_type": "stream",
     "text": [
      "<ipython-input-79-a2d0146628ca>:1: DeprecationWarning: find_element_by_* commands are deprecated. Please use find_element() instead\n",
      "  search2_job=driver.find_element_by_id(\"qsb-keyword-sugg\")\n"
     ]
    }
   ],
   "source": [
    "search2_job=driver.find_element_by_id(\"qsb-keyword-sugg\")\n",
    "search2_job.send_keys('Data Scientist')\n",
    "\n"
   ]
  },
  {
   "cell_type": "code",
   "execution_count": 80,
   "id": "4436a93e",
   "metadata": {},
   "outputs": [
    {
     "name": "stderr",
     "output_type": "stream",
     "text": [
      "<ipython-input-80-7653471c6af2>:1: DeprecationWarning: find_element_by_* commands are deprecated. Please use find_element() instead\n",
      "  search_bttn=driver .find_element_by_xpath(\"//div[@class='search-btn']/button\")\n"
     ]
    }
   ],
   "source": [
    "search_bttn=driver .find_element_by_xpath(\"//div[@class='search-btn']/button\")\n",
    "search_bttn.click()"
   ]
  },
  {
   "cell_type": "code",
   "execution_count": 82,
   "id": "9d39e8be",
   "metadata": {},
   "outputs": [
    {
     "name": "stderr",
     "output_type": "stream",
     "text": [
      "<ipython-input-82-17d8da86c3e4>:1: DeprecationWarning: find_element_by_* commands are deprecated. Please use find_element() instead\n",
      "  search2_loc=driver.find_element_by_xpath(\"/html/body/div[1]/div[3]/div[2]/section[1]/div[2]/div[1]/div[2]/div[2]/label/i\")\n"
     ]
    }
   ],
   "source": [
    "search2_loc=driver.find_element_by_xpath(\"/html/body/div[1]/div[3]/div[2]/section[1]/div[2]/div[1]/div[2]/div[2]/label/i\")\n",
    "search2_loc.click()\n"
   ]
  },
  {
   "cell_type": "code",
   "execution_count": 83,
   "id": "b2888883",
   "metadata": {},
   "outputs": [
    {
     "name": "stderr",
     "output_type": "stream",
     "text": [
      "<ipython-input-83-e12ebad73fcc>:1: DeprecationWarning: find_element_by_* commands are deprecated. Please use find_element() instead\n",
      "  search2_sal=driver.find_element_by_xpath(\"/html/body/div[1]/div[3]/div[2]/section[1]/div[2]/div[2]/div[2]/div[3]/label/i\")\n"
     ]
    }
   ],
   "source": [
    "search2_sal=driver.find_element_by_xpath(\"/html/body/div[1]/div[3]/div[2]/section[1]/div[2]/div[2]/div[2]/div[3]/label/i\")\n",
    "search2_sal.click()"
   ]
  },
  {
   "cell_type": "code",
   "execution_count": 84,
   "id": "f02d8f29",
   "metadata": {},
   "outputs": [
    {
     "name": "stderr",
     "output_type": "stream",
     "text": [
      "<ipython-input-84-a35b810e6bc2>:1: DeprecationWarning: find_elements_by_* commands are deprecated. Please use find_elements() instead\n",
      "  title3_tag=driver.find_elements_by_xpath(\"//a[@class='title fw500 ellipsis']\")\n"
     ]
    },
    {
     "data": {
      "text/plain": [
       "[<selenium.webdriver.remote.webelement.WebElement (session=\"c3ea05b520e10438cf8ee6514e82e1ed\", element=\"545554b9-fc34-41fa-bb67-351a0b3a2dca\")>,\n",
       " <selenium.webdriver.remote.webelement.WebElement (session=\"c3ea05b520e10438cf8ee6514e82e1ed\", element=\"a71e4d80-3d58-4279-9ed5-bf6c3f70a13c\")>,\n",
       " <selenium.webdriver.remote.webelement.WebElement (session=\"c3ea05b520e10438cf8ee6514e82e1ed\", element=\"02b777b9-2030-46bf-b0e0-bef41762890e\")>,\n",
       " <selenium.webdriver.remote.webelement.WebElement (session=\"c3ea05b520e10438cf8ee6514e82e1ed\", element=\"a31bc5a1-6008-42bb-bcc4-480734555bca\")>,\n",
       " <selenium.webdriver.remote.webelement.WebElement (session=\"c3ea05b520e10438cf8ee6514e82e1ed\", element=\"3d2470ae-7081-4a58-a6da-30642195fa39\")>,\n",
       " <selenium.webdriver.remote.webelement.WebElement (session=\"c3ea05b520e10438cf8ee6514e82e1ed\", element=\"a2f79924-8e42-4f11-bbdf-a9433fbb3f82\")>,\n",
       " <selenium.webdriver.remote.webelement.WebElement (session=\"c3ea05b520e10438cf8ee6514e82e1ed\", element=\"17b3b7ed-aeba-4b21-980d-93af755cfd00\")>,\n",
       " <selenium.webdriver.remote.webelement.WebElement (session=\"c3ea05b520e10438cf8ee6514e82e1ed\", element=\"94339433-59cd-47cf-b384-c90b9c4860e9\")>,\n",
       " <selenium.webdriver.remote.webelement.WebElement (session=\"c3ea05b520e10438cf8ee6514e82e1ed\", element=\"5c9dce18-49cc-42d4-8164-3e424a37d34d\")>,\n",
       " <selenium.webdriver.remote.webelement.WebElement (session=\"c3ea05b520e10438cf8ee6514e82e1ed\", element=\"50a94557-2346-48ec-94f8-a54c476ff73b\")>,\n",
       " <selenium.webdriver.remote.webelement.WebElement (session=\"c3ea05b520e10438cf8ee6514e82e1ed\", element=\"a888223e-2aa3-427d-967c-53407b0d337d\")>,\n",
       " <selenium.webdriver.remote.webelement.WebElement (session=\"c3ea05b520e10438cf8ee6514e82e1ed\", element=\"e9cdd570-1f05-47c6-8a72-973a53f05069\")>,\n",
       " <selenium.webdriver.remote.webelement.WebElement (session=\"c3ea05b520e10438cf8ee6514e82e1ed\", element=\"0a31617c-f7a5-4237-bd3a-ddb3eda339e7\")>,\n",
       " <selenium.webdriver.remote.webelement.WebElement (session=\"c3ea05b520e10438cf8ee6514e82e1ed\", element=\"54f32e3f-5c0f-4997-a2d6-52b8adbf6acb\")>,\n",
       " <selenium.webdriver.remote.webelement.WebElement (session=\"c3ea05b520e10438cf8ee6514e82e1ed\", element=\"2f2a2540-e15e-459c-ada4-23c850ca98de\")>,\n",
       " <selenium.webdriver.remote.webelement.WebElement (session=\"c3ea05b520e10438cf8ee6514e82e1ed\", element=\"89b9d0c2-e24c-4bb4-bf06-68c3058c3e80\")>,\n",
       " <selenium.webdriver.remote.webelement.WebElement (session=\"c3ea05b520e10438cf8ee6514e82e1ed\", element=\"471c7bd5-c449-46d4-9aa9-4035cabc46e5\")>,\n",
       " <selenium.webdriver.remote.webelement.WebElement (session=\"c3ea05b520e10438cf8ee6514e82e1ed\", element=\"edc729fd-a056-44e1-b829-f59ce119e2eb\")>,\n",
       " <selenium.webdriver.remote.webelement.WebElement (session=\"c3ea05b520e10438cf8ee6514e82e1ed\", element=\"e223f6d0-2315-4cde-a8bb-f9e0c58ef40c\")>,\n",
       " <selenium.webdriver.remote.webelement.WebElement (session=\"c3ea05b520e10438cf8ee6514e82e1ed\", element=\"0a2727c7-38fb-4e37-86be-e3211342795a\")>]"
      ]
     },
     "execution_count": 84,
     "metadata": {},
     "output_type": "execute_result"
    }
   ],
   "source": [
    "title3_tag=driver.find_elements_by_xpath(\"//a[@class='title fw500 ellipsis']\")\n",
    "title3_tag"
   ]
  },
  {
   "cell_type": "code",
   "execution_count": 85,
   "id": "4805ccbf",
   "metadata": {},
   "outputs": [
    {
     "data": {
      "text/plain": [
       "['Data Scientist',\n",
       " 'Data Scientist',\n",
       " 'Hiring For Data Scientist',\n",
       " 'Project Manager | Team Leader | Senior Data Scientist',\n",
       " 'Data Scientist',\n",
       " 'NTT DATA_ Hiring For BIG DATA ,DATA Scientist, Devops',\n",
       " 'Hiring For Data Analyst / Data Scientist',\n",
       " 'Data Scientist',\n",
       " 'Data Scientist',\n",
       " 'Data Scientist/ Senior Data Scientist',\n",
       " 'Urgent Hiring For Data Scientist | Work From Office',\n",
       " 'Job Opportunity || Data Scientist || HCL Technologies',\n",
       " 'Data Analyst / Data Scientist / Business Analytics / Fresher - MNC',\n",
       " 'Data Scientist',\n",
       " 'Senior Data Scientist',\n",
       " 'Data Scientist',\n",
       " 'Data Scientist',\n",
       " 'Data Scientist',\n",
       " 'Data Scientist',\n",
       " 'Data Scientist']"
      ]
     },
     "execution_count": 85,
     "metadata": {},
     "output_type": "execute_result"
    }
   ],
   "source": [
    "job2titles=[]\n",
    "for i in title3_tag:\n",
    "    title=i.text\n",
    "    job2titles.append(title)\n",
    "\n",
    "    \n",
    "job2titles    \n",
    "    "
   ]
  },
  {
   "cell_type": "code",
   "execution_count": 86,
   "id": "4c73da34",
   "metadata": {},
   "outputs": [],
   "source": [
    "job2titles=job2titles[0:10]        "
   ]
  },
  {
   "cell_type": "code",
   "execution_count": 87,
   "id": "79295ac5",
   "metadata": {},
   "outputs": [
    {
     "data": {
      "text/plain": [
       "['Data Scientist',\n",
       " 'Data Scientist',\n",
       " 'Hiring For Data Scientist',\n",
       " 'Project Manager | Team Leader | Senior Data Scientist',\n",
       " 'Data Scientist',\n",
       " 'NTT DATA_ Hiring For BIG DATA ,DATA Scientist, Devops',\n",
       " 'Hiring For Data Analyst / Data Scientist',\n",
       " 'Data Scientist',\n",
       " 'Data Scientist',\n",
       " 'Data Scientist/ Senior Data Scientist']"
      ]
     },
     "execution_count": 87,
     "metadata": {},
     "output_type": "execute_result"
    }
   ],
   "source": [
    "job2titles    "
   ]
  },
  {
   "cell_type": "code",
   "execution_count": 88,
   "id": "92d9b4eb",
   "metadata": {},
   "outputs": [
    {
     "name": "stderr",
     "output_type": "stream",
     "text": [
      "<ipython-input-88-859da2838b2c>:1: DeprecationWarning: find_elements_by_* commands are deprecated. Please use find_elements() instead\n",
      "  comp2n=driver.find_elements_by_xpath(\"//a[@class='subTitle ellipsis fleft']\")\n"
     ]
    }
   ],
   "source": [
    "comp2n=driver.find_elements_by_xpath(\"//a[@class='subTitle ellipsis fleft']\")"
   ]
  },
  {
   "cell_type": "code",
   "execution_count": 89,
   "id": "7de15f01",
   "metadata": {},
   "outputs": [
    {
     "data": {
      "text/plain": [
       "20"
      ]
     },
     "execution_count": 89,
     "metadata": {},
     "output_type": "execute_result"
    }
   ],
   "source": [
    "company2_names=[]\n",
    "for i in comp2n:\n",
    "    comp_=i.text\n",
    "    company2_names.append(comp_)\n",
    "\n",
    "    \n",
    "len(company2_names)   "
   ]
  },
  {
   "cell_type": "code",
   "execution_count": 90,
   "id": "fc3e4525",
   "metadata": {},
   "outputs": [
    {
     "data": {
      "text/plain": [
       "['LG Electronics India Pvt. Ltd.',\n",
       " 'Navikenz India Pvt Ltd',\n",
       " 'Tata Consultancy Services Ltd.',\n",
       " 'Tidyquant (OPC) Private Limited',\n",
       " 'Teleperformance',\n",
       " 'NTT Data Business Solutions Pvt Ltd',\n",
       " 'Careerera',\n",
       " 'Whizhack Technologies pvt ltd',\n",
       " 'One Mobikwik Systems Private Limited',\n",
       " 'Newgen Software Technologies']"
      ]
     },
     "execution_count": 90,
     "metadata": {},
     "output_type": "execute_result"
    }
   ],
   "source": [
    "company2_names=company2_names[0:10]  \n",
    "company2_names "
   ]
  },
  {
   "cell_type": "code",
   "execution_count": 91,
   "id": "f6a19c34",
   "metadata": {},
   "outputs": [
    {
     "name": "stderr",
     "output_type": "stream",
     "text": [
      "<ipython-input-91-2d1a55b71024>:1: DeprecationWarning: find_elements_by_* commands are deprecated. Please use find_elements() instead\n",
      "  loct2=driver.find_elements_by_xpath(\"//li[@class='fleft grey-text br2 placeHolderLi location']/span\")\n"
     ]
    }
   ],
   "source": [
    "loct2=driver.find_elements_by_xpath(\"//li[@class='fleft grey-text br2 placeHolderLi location']/span\")"
   ]
  },
  {
   "cell_type": "code",
   "execution_count": 92,
   "id": "35c9f12b",
   "metadata": {},
   "outputs": [
    {
     "data": {
      "text/plain": [
       "['Noida, New Delhi, Faridabad, Gurgaon/Gurugram, Delhi / NCR',\n",
       " 'Noida, Nodia',\n",
       " '(WFH during Covid)',\n",
       " 'Hyderabad/Secunderabad, Pune, Chennai, Bangalore/Bengaluru, Delhi / NCR, Mumbai (All Areas)',\n",
       " '(WFH during Covid)',\n",
       " 'Remote',\n",
       " 'Gurgaon/Gurugram, Chennai',\n",
       " 'Noida, Kolkata, Hyderabad/Secunderabad, Ahmedabad, Chennai, Coimbatore, Bangalore/Bengaluru, Delhi / NCR, Mumbai (All Areas)',\n",
       " '(WFH during Covid)',\n",
       " 'Noida(Sector-59 Noida)',\n",
       " 'Gurgaon/Gurugram',\n",
       " 'Gurgaon/Gurugram',\n",
       " 'Noida',\n",
       " 'Noida(Sector-59 Noida)',\n",
       " 'Delhi / NCR',\n",
       " 'Noida, Ghaziabad, Delhi / NCR',\n",
       " 'New Delhi',\n",
       " 'Delhi',\n",
       " 'Noida, Pune, Mumbai (All Areas)',\n",
       " 'Delhi',\n",
       " 'Gurgaon, Bengaluru',\n",
       " 'Bharuch, Jaipur, Bhopal, Mumbai, Jhansi, Nagpur, Ghaziabad, Jaunpur, Kanpur, Delhi, Lucknow, Agra, Gurgaon, Rajkot, Bengaluru',\n",
       " 'Delhi']"
      ]
     },
     "execution_count": 92,
     "metadata": {},
     "output_type": "execute_result"
    }
   ],
   "source": [
    "locations2=[]\n",
    "for i in loct2:\n",
    "    loc_=i.text\n",
    "    locations2.append(loc_)\n",
    "\n",
    "    \n",
    "locations2   "
   ]
  },
  {
   "cell_type": "code",
   "execution_count": 93,
   "id": "02adab6e",
   "metadata": {},
   "outputs": [
    {
     "data": {
      "text/plain": [
       "['Noida, New Delhi, Faridabad, Gurgaon/Gurugram, Delhi / NCR',\n",
       " 'Noida, Nodia',\n",
       " '(WFH during Covid)',\n",
       " 'Hyderabad/Secunderabad, Pune, Chennai, Bangalore/Bengaluru, Delhi / NCR, Mumbai (All Areas)',\n",
       " '(WFH during Covid)',\n",
       " 'Remote',\n",
       " 'Gurgaon/Gurugram, Chennai',\n",
       " 'Noida, Kolkata, Hyderabad/Secunderabad, Ahmedabad, Chennai, Coimbatore, Bangalore/Bengaluru, Delhi / NCR, Mumbai (All Areas)',\n",
       " '(WFH during Covid)',\n",
       " 'Noida(Sector-59 Noida)']"
      ]
     },
     "execution_count": 93,
     "metadata": {},
     "output_type": "execute_result"
    }
   ],
   "source": [
    "locations2=locations2[0:10]\n",
    "locations2   "
   ]
  },
  {
   "cell_type": "code",
   "execution_count": 94,
   "id": "bf0461a0",
   "metadata": {},
   "outputs": [
    {
     "name": "stderr",
     "output_type": "stream",
     "text": [
      "<ipython-input-94-4ddda32f5ab1>:1: DeprecationWarning: find_elements_by_* commands are deprecated. Please use find_elements() instead\n",
      "  exps2=driver.find_elements_by_xpath(\"//li[@class='fleft grey-text br2 placeHolderLi experience']/span\")\n"
     ]
    }
   ],
   "source": [
    "exps2=driver.find_elements_by_xpath(\"//li[@class='fleft grey-text br2 placeHolderLi experience']/span\")"
   ]
  },
  {
   "cell_type": "code",
   "execution_count": 95,
   "id": "c32db5c6",
   "metadata": {},
   "outputs": [
    {
     "data": {
      "text/plain": [
       "['0-2 Yrs',\n",
       " '2-7 Yrs',\n",
       " '4-9 Yrs',\n",
       " '1-5 Yrs',\n",
       " '4-9 Yrs',\n",
       " '3-8 Yrs',\n",
       " '1-3 Yrs',\n",
       " '2-5 Yrs',\n",
       " '2-5 Yrs',\n",
       " '2-5 Yrs',\n",
       " '2-7 Yrs',\n",
       " '4-7 Yrs',\n",
       " '0-0 Yrs',\n",
       " '2-5 Yrs',\n",
       " '1-5 Yrs',\n",
       " '2-6 Yrs',\n",
       " '2-7 Yrs',\n",
       " '3-7 Yrs',\n",
       " '1-3 Yrs',\n",
       " '2-6 Yrs']"
      ]
     },
     "execution_count": 95,
     "metadata": {},
     "output_type": "execute_result"
    }
   ],
   "source": [
    "experience_lists2=[]\n",
    "for i in exps2:\n",
    "    exp_=i.text\n",
    "    experience_lists2.append(exp_)\n",
    "\n",
    "    \n",
    "experience_lists2"
   ]
  },
  {
   "cell_type": "code",
   "execution_count": 96,
   "id": "9d4b90ec",
   "metadata": {},
   "outputs": [
    {
     "data": {
      "text/plain": [
       "['0-2 Yrs',\n",
       " '2-7 Yrs',\n",
       " '4-9 Yrs',\n",
       " '1-5 Yrs',\n",
       " '4-9 Yrs',\n",
       " '3-8 Yrs',\n",
       " '1-3 Yrs',\n",
       " '2-5 Yrs',\n",
       " '2-5 Yrs',\n",
       " '2-5 Yrs']"
      ]
     },
     "execution_count": 96,
     "metadata": {},
     "output_type": "execute_result"
    }
   ],
   "source": [
    "experience_lists2=experience_lists2[0:10]\n",
    "experience_lists2"
   ]
  },
  {
   "cell_type": "code",
   "execution_count": 97,
   "id": "f9625325",
   "metadata": {},
   "outputs": [],
   "source": [
    "jobs_f=pd.DataFrame({})\n",
    "jobs_f['titles']=job2titles\n",
    "jobs_f['company']=company2_names\n",
    "jobs_f['location']=locations2\n",
    "jobs_f['experience required']=experience_lists2"
   ]
  },
  {
   "cell_type": "code",
   "execution_count": 98,
   "id": "8534686e",
   "metadata": {},
   "outputs": [
    {
     "data": {
      "text/html": [
       "<div>\n",
       "<style scoped>\n",
       "    .dataframe tbody tr th:only-of-type {\n",
       "        vertical-align: middle;\n",
       "    }\n",
       "\n",
       "    .dataframe tbody tr th {\n",
       "        vertical-align: top;\n",
       "    }\n",
       "\n",
       "    .dataframe thead th {\n",
       "        text-align: right;\n",
       "    }\n",
       "</style>\n",
       "<table border=\"1\" class=\"dataframe\">\n",
       "  <thead>\n",
       "    <tr style=\"text-align: right;\">\n",
       "      <th></th>\n",
       "      <th>titles</th>\n",
       "      <th>company</th>\n",
       "      <th>location</th>\n",
       "      <th>experience required</th>\n",
       "    </tr>\n",
       "  </thead>\n",
       "  <tbody>\n",
       "    <tr>\n",
       "      <th>0</th>\n",
       "      <td>Data Scientist</td>\n",
       "      <td>LG Electronics India Pvt. Ltd.</td>\n",
       "      <td>Noida, New Delhi, Faridabad, Gurgaon/Gurugram,...</td>\n",
       "      <td>0-2 Yrs</td>\n",
       "    </tr>\n",
       "    <tr>\n",
       "      <th>1</th>\n",
       "      <td>Data Scientist</td>\n",
       "      <td>Navikenz India Pvt Ltd</td>\n",
       "      <td>Noida, Nodia</td>\n",
       "      <td>2-7 Yrs</td>\n",
       "    </tr>\n",
       "    <tr>\n",
       "      <th>2</th>\n",
       "      <td>Hiring For Data Scientist</td>\n",
       "      <td>Tata Consultancy Services Ltd.</td>\n",
       "      <td>(WFH during Covid)</td>\n",
       "      <td>4-9 Yrs</td>\n",
       "    </tr>\n",
       "    <tr>\n",
       "      <th>3</th>\n",
       "      <td>Project Manager | Team Leader | Senior Data Sc...</td>\n",
       "      <td>Tidyquant (OPC) Private Limited</td>\n",
       "      <td>Hyderabad/Secunderabad, Pune, Chennai, Bangalo...</td>\n",
       "      <td>1-5 Yrs</td>\n",
       "    </tr>\n",
       "    <tr>\n",
       "      <th>4</th>\n",
       "      <td>Data Scientist</td>\n",
       "      <td>Teleperformance</td>\n",
       "      <td>(WFH during Covid)</td>\n",
       "      <td>4-9 Yrs</td>\n",
       "    </tr>\n",
       "    <tr>\n",
       "      <th>5</th>\n",
       "      <td>NTT DATA_ Hiring For BIG DATA ,DATA Scientist,...</td>\n",
       "      <td>NTT Data Business Solutions Pvt Ltd</td>\n",
       "      <td>Remote</td>\n",
       "      <td>3-8 Yrs</td>\n",
       "    </tr>\n",
       "    <tr>\n",
       "      <th>6</th>\n",
       "      <td>Hiring For Data Analyst / Data Scientist</td>\n",
       "      <td>Careerera</td>\n",
       "      <td>Gurgaon/Gurugram, Chennai</td>\n",
       "      <td>1-3 Yrs</td>\n",
       "    </tr>\n",
       "    <tr>\n",
       "      <th>7</th>\n",
       "      <td>Data Scientist</td>\n",
       "      <td>Whizhack Technologies pvt ltd</td>\n",
       "      <td>Noida, Kolkata, Hyderabad/Secunderabad, Ahmeda...</td>\n",
       "      <td>2-5 Yrs</td>\n",
       "    </tr>\n",
       "    <tr>\n",
       "      <th>8</th>\n",
       "      <td>Data Scientist</td>\n",
       "      <td>One Mobikwik Systems Private Limited</td>\n",
       "      <td>(WFH during Covid)</td>\n",
       "      <td>2-5 Yrs</td>\n",
       "    </tr>\n",
       "    <tr>\n",
       "      <th>9</th>\n",
       "      <td>Data Scientist/ Senior Data Scientist</td>\n",
       "      <td>Newgen Software Technologies</td>\n",
       "      <td>Noida(Sector-59 Noida)</td>\n",
       "      <td>2-5 Yrs</td>\n",
       "    </tr>\n",
       "  </tbody>\n",
       "</table>\n",
       "</div>"
      ],
      "text/plain": [
       "                                              titles  \\\n",
       "0                                     Data Scientist   \n",
       "1                                     Data Scientist   \n",
       "2                          Hiring For Data Scientist   \n",
       "3  Project Manager | Team Leader | Senior Data Sc...   \n",
       "4                                     Data Scientist   \n",
       "5  NTT DATA_ Hiring For BIG DATA ,DATA Scientist,...   \n",
       "6           Hiring For Data Analyst / Data Scientist   \n",
       "7                                     Data Scientist   \n",
       "8                                     Data Scientist   \n",
       "9              Data Scientist/ Senior Data Scientist   \n",
       "\n",
       "                                company  \\\n",
       "0        LG Electronics India Pvt. Ltd.   \n",
       "1                Navikenz India Pvt Ltd   \n",
       "2        Tata Consultancy Services Ltd.   \n",
       "3       Tidyquant (OPC) Private Limited   \n",
       "4                       Teleperformance   \n",
       "5   NTT Data Business Solutions Pvt Ltd   \n",
       "6                             Careerera   \n",
       "7         Whizhack Technologies pvt ltd   \n",
       "8  One Mobikwik Systems Private Limited   \n",
       "9          Newgen Software Technologies   \n",
       "\n",
       "                                            location experience required  \n",
       "0  Noida, New Delhi, Faridabad, Gurgaon/Gurugram,...             0-2 Yrs  \n",
       "1                                       Noida, Nodia             2-7 Yrs  \n",
       "2                                 (WFH during Covid)             4-9 Yrs  \n",
       "3  Hyderabad/Secunderabad, Pune, Chennai, Bangalo...             1-5 Yrs  \n",
       "4                                 (WFH during Covid)             4-9 Yrs  \n",
       "5                                             Remote             3-8 Yrs  \n",
       "6                          Gurgaon/Gurugram, Chennai             1-3 Yrs  \n",
       "7  Noida, Kolkata, Hyderabad/Secunderabad, Ahmeda...             2-5 Yrs  \n",
       "8                                 (WFH during Covid)             2-5 Yrs  \n",
       "9                             Noida(Sector-59 Noida)             2-5 Yrs  "
      ]
     },
     "execution_count": 98,
     "metadata": {},
     "output_type": "execute_result"
    }
   ],
   "source": [
    "jobs_f"
   ]
  },
  {
   "cell_type": "markdown",
   "id": "29ab0d12",
   "metadata": {},
   "source": [
    "# Q4: Scrape data of first 100 sunglasses listings on flipkart.com."
   ]
  },
  {
   "cell_type": "code",
   "execution_count": 99,
   "id": "02fb5de7",
   "metadata": {},
   "outputs": [],
   "source": [
    "driver.get('https://www.flipkart.com/')"
   ]
  },
  {
   "cell_type": "code",
   "execution_count": 100,
   "id": "340a9bbe",
   "metadata": {},
   "outputs": [
    {
     "name": "stderr",
     "output_type": "stream",
     "text": [
      "<ipython-input-100-1b551925f5e6>:1: DeprecationWarning: find_element_by_* commands are deprecated. Please use find_element() instead\n",
      "  searchsun=driver.find_element_by_xpath(\"/html/body/div[1]/div/div[1]/div[1]/div[2]/div[2]/form/div/div/input\")\n"
     ]
    }
   ],
   "source": [
    "searchsun=driver.find_element_by_xpath(\"/html/body/div[1]/div/div[1]/div[1]/div[2]/div[2]/form/div/div/input\")\n",
    "searchsun.send_keys('Sunglasses')\n"
   ]
  },
  {
   "cell_type": "code",
   "execution_count": 101,
   "id": "079ca85e",
   "metadata": {},
   "outputs": [
    {
     "name": "stderr",
     "output_type": "stream",
     "text": [
      "<ipython-input-101-44977631095a>:1: DeprecationWarning: find_element_by_* commands are deprecated. Please use find_element() instead\n",
      "  search6_bttn=driver .find_element_by_xpath('//button[@class=\"L0Z3Pu\"]')\n"
     ]
    }
   ],
   "source": [
    "search6_bttn=driver .find_element_by_xpath('//button[@class=\"L0Z3Pu\"]')\n",
    "search6_bttn.click()"
   ]
  },
  {
   "cell_type": "code",
   "execution_count": 102,
   "id": "540ae51e",
   "metadata": {},
   "outputs": [
    {
     "name": "stderr",
     "output_type": "stream",
     "text": [
      "<ipython-input-102-60e7468d7e9f>:1: DeprecationWarning: find_elements_by_* commands are deprecated. Please use find_elements() instead\n",
      "  brand=driver.find_elements_by_xpath('//div[@class=\"_2WkVRV\"]')\n"
     ]
    },
    {
     "data": {
      "text/plain": [
       "[<selenium.webdriver.remote.webelement.WebElement (session=\"c3ea05b520e10438cf8ee6514e82e1ed\", element=\"5d9408c2-e4e7-4a25-8a17-ba1e32eeae6f\")>,\n",
       " <selenium.webdriver.remote.webelement.WebElement (session=\"c3ea05b520e10438cf8ee6514e82e1ed\", element=\"b26615f6-4f45-45ee-8c2c-769abe21b3e4\")>,\n",
       " <selenium.webdriver.remote.webelement.WebElement (session=\"c3ea05b520e10438cf8ee6514e82e1ed\", element=\"336773bd-2d2c-4fcc-8cd0-c43a70bd86ff\")>,\n",
       " <selenium.webdriver.remote.webelement.WebElement (session=\"c3ea05b520e10438cf8ee6514e82e1ed\", element=\"126925b6-ce82-40b3-9a84-ed95aebe2b23\")>,\n",
       " <selenium.webdriver.remote.webelement.WebElement (session=\"c3ea05b520e10438cf8ee6514e82e1ed\", element=\"a2cb5a54-e41b-4a31-92fa-2a673c52bf89\")>,\n",
       " <selenium.webdriver.remote.webelement.WebElement (session=\"c3ea05b520e10438cf8ee6514e82e1ed\", element=\"e10a0265-2af0-4cf2-96a5-0eaead68bd32\")>,\n",
       " <selenium.webdriver.remote.webelement.WebElement (session=\"c3ea05b520e10438cf8ee6514e82e1ed\", element=\"dfc625a1-7fec-462c-96dc-623c6083371e\")>,\n",
       " <selenium.webdriver.remote.webelement.WebElement (session=\"c3ea05b520e10438cf8ee6514e82e1ed\", element=\"bde51248-1eef-4d18-b601-2d81a8f54522\")>,\n",
       " <selenium.webdriver.remote.webelement.WebElement (session=\"c3ea05b520e10438cf8ee6514e82e1ed\", element=\"d2049787-5e3c-4ca3-bba9-ce85c3442d7c\")>,\n",
       " <selenium.webdriver.remote.webelement.WebElement (session=\"c3ea05b520e10438cf8ee6514e82e1ed\", element=\"9088eefb-673f-4afe-84b1-61780ea01ec1\")>,\n",
       " <selenium.webdriver.remote.webelement.WebElement (session=\"c3ea05b520e10438cf8ee6514e82e1ed\", element=\"0e681dd1-13ee-4127-a32e-1f38d9d60b06\")>,\n",
       " <selenium.webdriver.remote.webelement.WebElement (session=\"c3ea05b520e10438cf8ee6514e82e1ed\", element=\"92b4f71a-fd9f-45c9-a7b8-b711e5db8aec\")>,\n",
       " <selenium.webdriver.remote.webelement.WebElement (session=\"c3ea05b520e10438cf8ee6514e82e1ed\", element=\"a1e4407f-3f46-4378-baeb-b80a36e7cb75\")>,\n",
       " <selenium.webdriver.remote.webelement.WebElement (session=\"c3ea05b520e10438cf8ee6514e82e1ed\", element=\"e42668d5-4105-4311-8b05-8daf7c758dc5\")>,\n",
       " <selenium.webdriver.remote.webelement.WebElement (session=\"c3ea05b520e10438cf8ee6514e82e1ed\", element=\"54e71cbb-659d-4259-9ec2-77a6ef7fa04a\")>,\n",
       " <selenium.webdriver.remote.webelement.WebElement (session=\"c3ea05b520e10438cf8ee6514e82e1ed\", element=\"787d183d-210c-41d4-853f-0444939ff8bf\")>,\n",
       " <selenium.webdriver.remote.webelement.WebElement (session=\"c3ea05b520e10438cf8ee6514e82e1ed\", element=\"66a78376-c630-4a4b-ab04-0c9602fd9cd3\")>,\n",
       " <selenium.webdriver.remote.webelement.WebElement (session=\"c3ea05b520e10438cf8ee6514e82e1ed\", element=\"634870e7-22bc-4949-989f-bff56e249b2d\")>,\n",
       " <selenium.webdriver.remote.webelement.WebElement (session=\"c3ea05b520e10438cf8ee6514e82e1ed\", element=\"e03740e6-f879-457d-bc33-501c7b02f8fe\")>,\n",
       " <selenium.webdriver.remote.webelement.WebElement (session=\"c3ea05b520e10438cf8ee6514e82e1ed\", element=\"4c71f1e7-0a11-45b2-b801-14df98ae3e99\")>,\n",
       " <selenium.webdriver.remote.webelement.WebElement (session=\"c3ea05b520e10438cf8ee6514e82e1ed\", element=\"accfce15-6191-44d9-bf51-95c275d8de5a\")>,\n",
       " <selenium.webdriver.remote.webelement.WebElement (session=\"c3ea05b520e10438cf8ee6514e82e1ed\", element=\"a1220be0-afd8-49db-915d-8131caaf8839\")>,\n",
       " <selenium.webdriver.remote.webelement.WebElement (session=\"c3ea05b520e10438cf8ee6514e82e1ed\", element=\"4f932c03-baf3-487b-9fdf-2ca220f75b25\")>,\n",
       " <selenium.webdriver.remote.webelement.WebElement (session=\"c3ea05b520e10438cf8ee6514e82e1ed\", element=\"b9a03842-2f28-4d36-9a16-be732c9e802c\")>,\n",
       " <selenium.webdriver.remote.webelement.WebElement (session=\"c3ea05b520e10438cf8ee6514e82e1ed\", element=\"3774e8fd-04fd-40dd-b50b-57e0e29688bd\")>,\n",
       " <selenium.webdriver.remote.webelement.WebElement (session=\"c3ea05b520e10438cf8ee6514e82e1ed\", element=\"651bedbb-905d-4ba5-b188-b3f4298b9014\")>,\n",
       " <selenium.webdriver.remote.webelement.WebElement (session=\"c3ea05b520e10438cf8ee6514e82e1ed\", element=\"5aed1ef7-63ee-4df2-b1ac-26fb6784d083\")>,\n",
       " <selenium.webdriver.remote.webelement.WebElement (session=\"c3ea05b520e10438cf8ee6514e82e1ed\", element=\"286f69a6-5833-4783-abb8-8a64d752cf1e\")>,\n",
       " <selenium.webdriver.remote.webelement.WebElement (session=\"c3ea05b520e10438cf8ee6514e82e1ed\", element=\"dd8a7d60-eaad-4994-a16e-bb740b11b7d8\")>,\n",
       " <selenium.webdriver.remote.webelement.WebElement (session=\"c3ea05b520e10438cf8ee6514e82e1ed\", element=\"704d1429-0156-4f00-8d49-e371e1aada72\")>,\n",
       " <selenium.webdriver.remote.webelement.WebElement (session=\"c3ea05b520e10438cf8ee6514e82e1ed\", element=\"6039f1f4-0c93-442f-944d-fa30989c48b5\")>,\n",
       " <selenium.webdriver.remote.webelement.WebElement (session=\"c3ea05b520e10438cf8ee6514e82e1ed\", element=\"e9502d93-6355-40b2-969a-c3128411f49b\")>,\n",
       " <selenium.webdriver.remote.webelement.WebElement (session=\"c3ea05b520e10438cf8ee6514e82e1ed\", element=\"165d5436-a78a-45e9-b38c-7f7746777c37\")>,\n",
       " <selenium.webdriver.remote.webelement.WebElement (session=\"c3ea05b520e10438cf8ee6514e82e1ed\", element=\"aaab5cab-7479-4883-abed-1d6cd3296440\")>,\n",
       " <selenium.webdriver.remote.webelement.WebElement (session=\"c3ea05b520e10438cf8ee6514e82e1ed\", element=\"d10fe31a-0a95-402d-a603-cde3f1e71814\")>,\n",
       " <selenium.webdriver.remote.webelement.WebElement (session=\"c3ea05b520e10438cf8ee6514e82e1ed\", element=\"9fdf743f-45fa-41bc-ada3-a1da7b216abc\")>,\n",
       " <selenium.webdriver.remote.webelement.WebElement (session=\"c3ea05b520e10438cf8ee6514e82e1ed\", element=\"8e62177d-bcfb-4c0e-ad9c-9c476d063a7d\")>,\n",
       " <selenium.webdriver.remote.webelement.WebElement (session=\"c3ea05b520e10438cf8ee6514e82e1ed\", element=\"ab71e721-35ae-4953-961c-128035a32145\")>,\n",
       " <selenium.webdriver.remote.webelement.WebElement (session=\"c3ea05b520e10438cf8ee6514e82e1ed\", element=\"e6b7da65-907c-4b48-8d0a-e683b5c49fbc\")>,\n",
       " <selenium.webdriver.remote.webelement.WebElement (session=\"c3ea05b520e10438cf8ee6514e82e1ed\", element=\"af42f388-1579-451b-80b5-1bf45f85dbf3\")>]"
      ]
     },
     "execution_count": 102,
     "metadata": {},
     "output_type": "execute_result"
    }
   ],
   "source": [
    "brand=driver.find_elements_by_xpath('//div[@class=\"_2WkVRV\"]')\n",
    "brand"
   ]
  },
  {
   "cell_type": "code",
   "execution_count": 103,
   "id": "6f45590f",
   "metadata": {},
   "outputs": [
    {
     "data": {
      "text/plain": [
       "['CRYSTAL CART',\n",
       " 'CRYSTAL CART',\n",
       " 'SRPM',\n",
       " 'Elligator',\n",
       " 'PIRASO',\n",
       " 'PIRASO',\n",
       " 'SHAAH COLLECTIONS',\n",
       " 'hipe',\n",
       " 'kingsunglasses',\n",
       " 'New Specs',\n",
       " 'Fastrack',\n",
       " 'CRYSTAL CART',\n",
       " 'kingsunglasses',\n",
       " 'SUNBEE',\n",
       " 'kingsunglasses',\n",
       " 'Fravy',\n",
       " 'ROZZETTA CRAFT',\n",
       " 'Fastrack',\n",
       " 'PHENOMENAL',\n",
       " 'hipe',\n",
       " 'SHAAH COLLECTIONS',\n",
       " 'PIRASO',\n",
       " 'PIRASO',\n",
       " 'ROZZETTA CRAFT',\n",
       " 'ROZZETTA CRAFT',\n",
       " 'ROYAL SON',\n",
       " 'PIRASO',\n",
       " 'VINCENT CHASE',\n",
       " 'ROYAL SON',\n",
       " 'PHENOMENAL',\n",
       " 'PIRASO',\n",
       " 'ROZZETTA CRAFT',\n",
       " 'PIRASO',\n",
       " 'PIRASO',\n",
       " 'Rich Club',\n",
       " 'VINCENT CHASE',\n",
       " 'PHENOMENAL',\n",
       " 'Fastrack',\n",
       " 'Elligator',\n",
       " 'CRYSTAL CART']"
      ]
     },
     "execution_count": 103,
     "metadata": {},
     "output_type": "execute_result"
    }
   ],
   "source": [
    "Brand=[]\n",
    "for i in brand:\n",
    "    brd_=i.text\n",
    "    Brand.append(brd_)\n",
    "\n",
    "    \n",
    "Brand"
   ]
  },
  {
   "cell_type": "code",
   "execution_count": 104,
   "id": "8edc154b",
   "metadata": {},
   "outputs": [
    {
     "name": "stderr",
     "output_type": "stream",
     "text": [
      "<ipython-input-104-7491bc20d02e>:1: DeprecationWarning: find_elements_by_* commands are deprecated. Please use find_elements() instead\n",
      "  desc=driver.find_elements_by_xpath('//a[@class=\"IRpwTa\"]')\n"
     ]
    },
    {
     "data": {
      "text/plain": [
       "[<selenium.webdriver.remote.webelement.WebElement (session=\"c3ea05b520e10438cf8ee6514e82e1ed\", element=\"841c3555-1520-4187-a0c7-52f40090d9ce\")>,\n",
       " <selenium.webdriver.remote.webelement.WebElement (session=\"c3ea05b520e10438cf8ee6514e82e1ed\", element=\"af7647b9-6e4a-4bad-9609-42b886f36a71\")>,\n",
       " <selenium.webdriver.remote.webelement.WebElement (session=\"c3ea05b520e10438cf8ee6514e82e1ed\", element=\"2c681d59-1789-427f-849c-106b87013da0\")>,\n",
       " <selenium.webdriver.remote.webelement.WebElement (session=\"c3ea05b520e10438cf8ee6514e82e1ed\", element=\"dfddc51b-83e0-419b-badf-aaab9cf94519\")>,\n",
       " <selenium.webdriver.remote.webelement.WebElement (session=\"c3ea05b520e10438cf8ee6514e82e1ed\", element=\"e866eef6-8a72-4c9f-a925-30e18840db77\")>,\n",
       " <selenium.webdriver.remote.webelement.WebElement (session=\"c3ea05b520e10438cf8ee6514e82e1ed\", element=\"eaa112c2-7091-4198-844c-1ce1aa3ef1a4\")>,\n",
       " <selenium.webdriver.remote.webelement.WebElement (session=\"c3ea05b520e10438cf8ee6514e82e1ed\", element=\"f404bfef-0266-47c3-8dc2-2e3a9970fc0b\")>,\n",
       " <selenium.webdriver.remote.webelement.WebElement (session=\"c3ea05b520e10438cf8ee6514e82e1ed\", element=\"ec5c8fb9-3319-41da-b865-e46843f734d4\")>,\n",
       " <selenium.webdriver.remote.webelement.WebElement (session=\"c3ea05b520e10438cf8ee6514e82e1ed\", element=\"7209c036-05bd-4e6d-b43e-fabdfce8fe6e\")>,\n",
       " <selenium.webdriver.remote.webelement.WebElement (session=\"c3ea05b520e10438cf8ee6514e82e1ed\", element=\"8552739c-a559-4146-ae43-054e7915887c\")>,\n",
       " <selenium.webdriver.remote.webelement.WebElement (session=\"c3ea05b520e10438cf8ee6514e82e1ed\", element=\"80d17dda-816f-4434-9b94-47763856bf92\")>,\n",
       " <selenium.webdriver.remote.webelement.WebElement (session=\"c3ea05b520e10438cf8ee6514e82e1ed\", element=\"99d08643-1dc6-4bae-8c3a-2c598928aed8\")>,\n",
       " <selenium.webdriver.remote.webelement.WebElement (session=\"c3ea05b520e10438cf8ee6514e82e1ed\", element=\"05f318b1-aecc-4034-9a2d-c802a4ff8ce1\")>,\n",
       " <selenium.webdriver.remote.webelement.WebElement (session=\"c3ea05b520e10438cf8ee6514e82e1ed\", element=\"2eceadab-ff43-48f6-ac5e-db64f8a42d82\")>,\n",
       " <selenium.webdriver.remote.webelement.WebElement (session=\"c3ea05b520e10438cf8ee6514e82e1ed\", element=\"0ed972d3-faeb-4068-9283-664379f53ed8\")>,\n",
       " <selenium.webdriver.remote.webelement.WebElement (session=\"c3ea05b520e10438cf8ee6514e82e1ed\", element=\"a815da78-1217-48c7-bd90-4e96e69c8d1b\")>,\n",
       " <selenium.webdriver.remote.webelement.WebElement (session=\"c3ea05b520e10438cf8ee6514e82e1ed\", element=\"73796f0c-abf5-4f7f-89fc-b9b56b0b2802\")>,\n",
       " <selenium.webdriver.remote.webelement.WebElement (session=\"c3ea05b520e10438cf8ee6514e82e1ed\", element=\"45297670-ffc9-47fd-84b0-a80d9a393de8\")>,\n",
       " <selenium.webdriver.remote.webelement.WebElement (session=\"c3ea05b520e10438cf8ee6514e82e1ed\", element=\"a4903671-0e8a-4e7f-8be7-50b181c6bb19\")>,\n",
       " <selenium.webdriver.remote.webelement.WebElement (session=\"c3ea05b520e10438cf8ee6514e82e1ed\", element=\"b11ace20-dfa3-4844-8194-99d9125bc359\")>,\n",
       " <selenium.webdriver.remote.webelement.WebElement (session=\"c3ea05b520e10438cf8ee6514e82e1ed\", element=\"5b3a9218-d4e1-42c9-aff3-b70ffcde3980\")>,\n",
       " <selenium.webdriver.remote.webelement.WebElement (session=\"c3ea05b520e10438cf8ee6514e82e1ed\", element=\"a5c306d3-1297-48ee-a446-ae48716ebacc\")>,\n",
       " <selenium.webdriver.remote.webelement.WebElement (session=\"c3ea05b520e10438cf8ee6514e82e1ed\", element=\"4911584e-4d35-4232-9f58-3621c390338f\")>,\n",
       " <selenium.webdriver.remote.webelement.WebElement (session=\"c3ea05b520e10438cf8ee6514e82e1ed\", element=\"a4a9cba0-1877-4749-9717-ef938b836e9e\")>,\n",
       " <selenium.webdriver.remote.webelement.WebElement (session=\"c3ea05b520e10438cf8ee6514e82e1ed\", element=\"8ec35d11-44a2-4aeb-bebc-8d2d8e6a0578\")>,\n",
       " <selenium.webdriver.remote.webelement.WebElement (session=\"c3ea05b520e10438cf8ee6514e82e1ed\", element=\"84d7e195-1d67-4703-8ba5-60e49e5c01ff\")>,\n",
       " <selenium.webdriver.remote.webelement.WebElement (session=\"c3ea05b520e10438cf8ee6514e82e1ed\", element=\"ad7361f2-44a0-4a76-91c3-086de8b96db7\")>,\n",
       " <selenium.webdriver.remote.webelement.WebElement (session=\"c3ea05b520e10438cf8ee6514e82e1ed\", element=\"37d335fc-ee8a-4cad-bf1e-670c26cf90fd\")>,\n",
       " <selenium.webdriver.remote.webelement.WebElement (session=\"c3ea05b520e10438cf8ee6514e82e1ed\", element=\"fd8a4eaa-09cb-4c12-9f4c-49044068f0b9\")>,\n",
       " <selenium.webdriver.remote.webelement.WebElement (session=\"c3ea05b520e10438cf8ee6514e82e1ed\", element=\"c2727264-d9ee-4108-b49a-ea65e1ad6dc6\")>,\n",
       " <selenium.webdriver.remote.webelement.WebElement (session=\"c3ea05b520e10438cf8ee6514e82e1ed\", element=\"df67b8bf-4e3c-43af-a7fd-551d79d37c67\")>,\n",
       " <selenium.webdriver.remote.webelement.WebElement (session=\"c3ea05b520e10438cf8ee6514e82e1ed\", element=\"84edb3e7-d200-47e3-b1f5-971d945951b2\")>,\n",
       " <selenium.webdriver.remote.webelement.WebElement (session=\"c3ea05b520e10438cf8ee6514e82e1ed\", element=\"0c77d412-e5ab-4a83-9747-1cf4316a3538\")>,\n",
       " <selenium.webdriver.remote.webelement.WebElement (session=\"c3ea05b520e10438cf8ee6514e82e1ed\", element=\"edf7b65e-7892-4d99-b53f-ebf38131bb12\")>,\n",
       " <selenium.webdriver.remote.webelement.WebElement (session=\"c3ea05b520e10438cf8ee6514e82e1ed\", element=\"6041633d-58ba-4ca6-a69e-718ebebc7eaf\")>,\n",
       " <selenium.webdriver.remote.webelement.WebElement (session=\"c3ea05b520e10438cf8ee6514e82e1ed\", element=\"b91a3a36-b607-4424-9b19-ffc74986b337\")>,\n",
       " <selenium.webdriver.remote.webelement.WebElement (session=\"c3ea05b520e10438cf8ee6514e82e1ed\", element=\"0de59e1f-f0ac-4b64-a6f2-864129fd2cef\")>,\n",
       " <selenium.webdriver.remote.webelement.WebElement (session=\"c3ea05b520e10438cf8ee6514e82e1ed\", element=\"17609f22-925c-4c9a-9ee3-e434f1c7b9f0\")>,\n",
       " <selenium.webdriver.remote.webelement.WebElement (session=\"c3ea05b520e10438cf8ee6514e82e1ed\", element=\"7a4fdc6f-8943-4e02-a06c-fd2043a40031\")>,\n",
       " <selenium.webdriver.remote.webelement.WebElement (session=\"c3ea05b520e10438cf8ee6514e82e1ed\", element=\"818c0a4d-c0bf-4754-92c5-80bc84e5f6f9\")>]"
      ]
     },
     "execution_count": 104,
     "metadata": {},
     "output_type": "execute_result"
    }
   ],
   "source": [
    "desc=driver.find_elements_by_xpath('//a[@class=\"IRpwTa\"]')\n",
    "desc"
   ]
  },
  {
   "cell_type": "code",
   "execution_count": 105,
   "id": "2080d2f0",
   "metadata": {},
   "outputs": [
    {
     "data": {
      "text/plain": [
       "['Polarized, UV Protection, Gradient, Riding Glasses Rect...',\n",
       " 'UV Protection, Gradient Round Sunglasses (Free Size)',\n",
       " 'UV Protection Wayfarer Sunglasses (56)',\n",
       " 'UV Protection Round Sunglasses (54)',\n",
       " 'UV Protection Aviator Sunglasses (54)',\n",
       " 'UV Protection Aviator Sunglasses (54)',\n",
       " 'UV Protection, Polarized, Mirrored Rectangular Sunglass...',\n",
       " 'Mirrored, UV Protection, Gradient Round Sunglasses (55)',\n",
       " 'UV Protection Round Sunglasses (54)',\n",
       " 'UV Protection Rectangular Sunglasses (Free Size)',\n",
       " 'UV Protection Wayfarer Sunglasses (Free Size)',\n",
       " 'Polarized, UV Protection, Mirrored Rectangular Sunglass...',\n",
       " 'Mirrored, UV Protection Wayfarer Sunglasses (53)',\n",
       " 'UV Protection, Polarized, Mirrored Round Sunglasses (Fr...',\n",
       " 'UV Protection, Riding Glasses, Mirrored Wayfarer Sungla...',\n",
       " 'UV Protection Retro Square Sunglasses (Free Size)',\n",
       " 'UV Protection Retro Square Sunglasses (Free Size)',\n",
       " 'UV Protection Rectangular Sunglasses (Free Size)',\n",
       " 'UV Protection, Mirrored Retro Square Sunglasses (53)',\n",
       " 'UV Protection, Gradient, Mirrored, Riding Glasses Aviat...',\n",
       " 'UV Protection, Polarized, Mirrored Rectangular Sunglass...',\n",
       " 'UV Protection Aviator Sunglasses (55)',\n",
       " 'UV Protection Wayfarer Sunglasses (32)',\n",
       " 'UV Protection, Gradient Retro Square Sunglasses (Free S...',\n",
       " 'UV Protection, Gradient Rectangular Sunglasses (Free Si...',\n",
       " 'UV Protection Rectangular Sunglasses (58)',\n",
       " 'UV Protection Aviator Sunglasses (54)',\n",
       " 'by Lenskart Polarized, UV Protection Wayfarer Sunglasse...',\n",
       " 'Mirrored Aviator Sunglasses (55)',\n",
       " 'UV Protection Retro Square Sunglasses (Free Size)',\n",
       " 'UV Protection Aviator Sunglasses (Free Size)',\n",
       " 'Gradient, UV Protection Round Sunglasses (Free Size)',\n",
       " 'UV Protection Aviator Sunglasses (58)',\n",
       " 'UV Protection, Polarized Aviator Sunglasses (32)',\n",
       " 'Polarized Round Sunglasses (48)',\n",
       " 'by Lenskart Polarized, UV Protection Aviator Sunglasses...',\n",
       " 'UV Protection, Mirrored Round Sunglasses (Free Size)',\n",
       " 'Gradient, UV Protection Wayfarer Sunglasses (Free Size)',\n",
       " 'UV Protection Retro Square, Round Sunglasses (54)',\n",
       " 'Mirrored, UV Protection Rectangular Sunglasses (Free Si...']"
      ]
     },
     "execution_count": 105,
     "metadata": {},
     "output_type": "execute_result"
    }
   ],
   "source": [
    "Descr=[]\n",
    "for i in desc:\n",
    "    brd_=i.text\n",
    "    Descr.append(brd_)\n",
    "\n",
    "    \n",
    "Descr"
   ]
  },
  {
   "cell_type": "code",
   "execution_count": 106,
   "id": "97b4ddfa",
   "metadata": {},
   "outputs": [
    {
     "name": "stderr",
     "output_type": "stream",
     "text": [
      "<ipython-input-106-e72dd3ca949e>:1: DeprecationWarning: find_elements_by_* commands are deprecated. Please use find_elements() instead\n",
      "  price=driver.find_elements_by_xpath('//div[@class=\"_30jeq3\"]')\n"
     ]
    },
    {
     "data": {
      "text/plain": [
       "[<selenium.webdriver.remote.webelement.WebElement (session=\"c3ea05b520e10438cf8ee6514e82e1ed\", element=\"c56e093f-a3d8-47f6-b8a2-4e4e82dd6a4c\")>,\n",
       " <selenium.webdriver.remote.webelement.WebElement (session=\"c3ea05b520e10438cf8ee6514e82e1ed\", element=\"08071f1d-e124-4387-b214-1eb4d2d50535\")>,\n",
       " <selenium.webdriver.remote.webelement.WebElement (session=\"c3ea05b520e10438cf8ee6514e82e1ed\", element=\"d279e1b8-503c-4ec7-931b-a48aefdc911d\")>,\n",
       " <selenium.webdriver.remote.webelement.WebElement (session=\"c3ea05b520e10438cf8ee6514e82e1ed\", element=\"2a69d1c8-388b-4a87-b243-962f9a0d6586\")>,\n",
       " <selenium.webdriver.remote.webelement.WebElement (session=\"c3ea05b520e10438cf8ee6514e82e1ed\", element=\"1f3fa759-7107-4a37-a470-6efaca373b96\")>,\n",
       " <selenium.webdriver.remote.webelement.WebElement (session=\"c3ea05b520e10438cf8ee6514e82e1ed\", element=\"b26751b6-917b-4587-bcde-041fa4f0ef35\")>,\n",
       " <selenium.webdriver.remote.webelement.WebElement (session=\"c3ea05b520e10438cf8ee6514e82e1ed\", element=\"edf19c15-bd9c-4265-bc26-152374a735b8\")>,\n",
       " <selenium.webdriver.remote.webelement.WebElement (session=\"c3ea05b520e10438cf8ee6514e82e1ed\", element=\"8aeefcbe-4bf4-47fd-9778-215f092590fd\")>,\n",
       " <selenium.webdriver.remote.webelement.WebElement (session=\"c3ea05b520e10438cf8ee6514e82e1ed\", element=\"adc74125-de36-4b0e-be8a-d877cfaabe1b\")>,\n",
       " <selenium.webdriver.remote.webelement.WebElement (session=\"c3ea05b520e10438cf8ee6514e82e1ed\", element=\"1c2c8218-c454-41bc-b7a8-3d726fb6fd44\")>,\n",
       " <selenium.webdriver.remote.webelement.WebElement (session=\"c3ea05b520e10438cf8ee6514e82e1ed\", element=\"4684324a-52b4-4c78-94d1-9b73d85bea59\")>,\n",
       " <selenium.webdriver.remote.webelement.WebElement (session=\"c3ea05b520e10438cf8ee6514e82e1ed\", element=\"ebb69e7a-a22b-4668-8922-0512a8b80e10\")>,\n",
       " <selenium.webdriver.remote.webelement.WebElement (session=\"c3ea05b520e10438cf8ee6514e82e1ed\", element=\"8bbe0802-6006-47ab-b879-44978f8500cb\")>,\n",
       " <selenium.webdriver.remote.webelement.WebElement (session=\"c3ea05b520e10438cf8ee6514e82e1ed\", element=\"ebca1c9a-ab74-4dab-9057-6720cce6c427\")>,\n",
       " <selenium.webdriver.remote.webelement.WebElement (session=\"c3ea05b520e10438cf8ee6514e82e1ed\", element=\"3cad5084-27aa-4732-8529-6415a95bdc7e\")>,\n",
       " <selenium.webdriver.remote.webelement.WebElement (session=\"c3ea05b520e10438cf8ee6514e82e1ed\", element=\"82a75244-6b3e-4569-a435-bcd4bcf4f9ac\")>,\n",
       " <selenium.webdriver.remote.webelement.WebElement (session=\"c3ea05b520e10438cf8ee6514e82e1ed\", element=\"910f7e9b-d8db-4e49-9640-7d08e1906620\")>,\n",
       " <selenium.webdriver.remote.webelement.WebElement (session=\"c3ea05b520e10438cf8ee6514e82e1ed\", element=\"5ce6e0e2-32c0-40f0-83af-b6478ee2558b\")>,\n",
       " <selenium.webdriver.remote.webelement.WebElement (session=\"c3ea05b520e10438cf8ee6514e82e1ed\", element=\"0aa4bd69-f80d-458b-b2ff-570b3048f4ac\")>,\n",
       " <selenium.webdriver.remote.webelement.WebElement (session=\"c3ea05b520e10438cf8ee6514e82e1ed\", element=\"19196577-c0d8-4745-8520-dc56e4ffe38d\")>,\n",
       " <selenium.webdriver.remote.webelement.WebElement (session=\"c3ea05b520e10438cf8ee6514e82e1ed\", element=\"29d3045b-10ff-46b7-974c-62ed4542ad12\")>,\n",
       " <selenium.webdriver.remote.webelement.WebElement (session=\"c3ea05b520e10438cf8ee6514e82e1ed\", element=\"f5893ce7-5223-4be7-bd93-8ddb7e9766c5\")>,\n",
       " <selenium.webdriver.remote.webelement.WebElement (session=\"c3ea05b520e10438cf8ee6514e82e1ed\", element=\"3411507a-64c4-4af3-b257-31b252317fa7\")>,\n",
       " <selenium.webdriver.remote.webelement.WebElement (session=\"c3ea05b520e10438cf8ee6514e82e1ed\", element=\"95febe50-a47a-458a-80cb-b9d8ec5ed06f\")>,\n",
       " <selenium.webdriver.remote.webelement.WebElement (session=\"c3ea05b520e10438cf8ee6514e82e1ed\", element=\"ebd70e2f-61c6-4c90-897e-079431adb3f9\")>,\n",
       " <selenium.webdriver.remote.webelement.WebElement (session=\"c3ea05b520e10438cf8ee6514e82e1ed\", element=\"bd0d86fc-3071-427a-a7ab-83815a6791b1\")>,\n",
       " <selenium.webdriver.remote.webelement.WebElement (session=\"c3ea05b520e10438cf8ee6514e82e1ed\", element=\"011e0806-1b15-4ec1-a722-842eddaf0884\")>,\n",
       " <selenium.webdriver.remote.webelement.WebElement (session=\"c3ea05b520e10438cf8ee6514e82e1ed\", element=\"adb5fb31-0ffb-49cb-90b2-6d8d91038231\")>,\n",
       " <selenium.webdriver.remote.webelement.WebElement (session=\"c3ea05b520e10438cf8ee6514e82e1ed\", element=\"e1323bf4-96bc-4347-96f9-987a76ef7138\")>,\n",
       " <selenium.webdriver.remote.webelement.WebElement (session=\"c3ea05b520e10438cf8ee6514e82e1ed\", element=\"c55c75ae-daed-4655-9b88-0bd7f67459cb\")>,\n",
       " <selenium.webdriver.remote.webelement.WebElement (session=\"c3ea05b520e10438cf8ee6514e82e1ed\", element=\"912ee609-c701-4620-b46d-bba70b106cce\")>,\n",
       " <selenium.webdriver.remote.webelement.WebElement (session=\"c3ea05b520e10438cf8ee6514e82e1ed\", element=\"33a45df3-5413-4729-92e7-ec4e0b19b881\")>,\n",
       " <selenium.webdriver.remote.webelement.WebElement (session=\"c3ea05b520e10438cf8ee6514e82e1ed\", element=\"9b226e68-822b-4ec7-8659-87cda66c3f6f\")>,\n",
       " <selenium.webdriver.remote.webelement.WebElement (session=\"c3ea05b520e10438cf8ee6514e82e1ed\", element=\"596ad0fd-28b7-45e8-9abb-51aec19b4752\")>,\n",
       " <selenium.webdriver.remote.webelement.WebElement (session=\"c3ea05b520e10438cf8ee6514e82e1ed\", element=\"a38991af-bae4-4f39-af82-a0b595f65079\")>,\n",
       " <selenium.webdriver.remote.webelement.WebElement (session=\"c3ea05b520e10438cf8ee6514e82e1ed\", element=\"64ad96fa-5668-4e7a-8ec0-0b413742b615\")>,\n",
       " <selenium.webdriver.remote.webelement.WebElement (session=\"c3ea05b520e10438cf8ee6514e82e1ed\", element=\"34ebb481-e7e9-4bcd-8949-73048ec6cf9c\")>,\n",
       " <selenium.webdriver.remote.webelement.WebElement (session=\"c3ea05b520e10438cf8ee6514e82e1ed\", element=\"ec62e813-03f5-4ef4-9e9b-897acc2de957\")>,\n",
       " <selenium.webdriver.remote.webelement.WebElement (session=\"c3ea05b520e10438cf8ee6514e82e1ed\", element=\"e7afb56c-565c-48c9-b3b3-ae4228490389\")>,\n",
       " <selenium.webdriver.remote.webelement.WebElement (session=\"c3ea05b520e10438cf8ee6514e82e1ed\", element=\"ab182674-c355-4e9e-80ae-61967511caea\")>]"
      ]
     },
     "execution_count": 106,
     "metadata": {},
     "output_type": "execute_result"
    }
   ],
   "source": [
    "price=driver.find_elements_by_xpath('//div[@class=\"_30jeq3\"]')\n",
    "price"
   ]
  },
  {
   "cell_type": "code",
   "execution_count": 107,
   "id": "98392293",
   "metadata": {},
   "outputs": [
    {
     "data": {
      "text/plain": [
       "['₹287',\n",
       " '₹329',\n",
       " '₹188',\n",
       " '₹248',\n",
       " '₹200',\n",
       " '₹187',\n",
       " '₹170',\n",
       " '₹189',\n",
       " '₹189',\n",
       " '₹259',\n",
       " '₹759',\n",
       " '₹398',\n",
       " '₹274',\n",
       " '₹271',\n",
       " '₹187',\n",
       " '₹244',\n",
       " '₹499',\n",
       " '₹639',\n",
       " '₹311',\n",
       " '₹209',\n",
       " '₹181',\n",
       " '₹189',\n",
       " '₹187',\n",
       " '₹349',\n",
       " '₹399',\n",
       " '₹449',\n",
       " '₹187',\n",
       " '₹999',\n",
       " '₹359',\n",
       " '₹329',\n",
       " '₹261',\n",
       " '₹449',\n",
       " '₹299',\n",
       " '₹164',\n",
       " '₹175',\n",
       " '₹999',\n",
       " '₹209',\n",
       " '₹719',\n",
       " '₹291',\n",
       " '₹272']"
      ]
     },
     "execution_count": 107,
     "metadata": {},
     "output_type": "execute_result"
    }
   ],
   "source": [
    "Price=[]\n",
    "for i in price:\n",
    "    brd_=i.text\n",
    "    Price.append(brd_)\n",
    "\n",
    "    \n",
    "Price"
   ]
  },
  {
   "cell_type": "code",
   "execution_count": 108,
   "id": "23e7a7a1",
   "metadata": {},
   "outputs": [
    {
     "name": "stderr",
     "output_type": "stream",
     "text": [
      "<ipython-input-108-430e1d658669>:1: DeprecationWarning: find_elements_by_* commands are deprecated. Please use find_elements() instead\n",
      "  disc=driver.find_elements_by_xpath('//div[@class=\"_3Ay6Sb\"]')\n"
     ]
    },
    {
     "data": {
      "text/plain": [
       "[<selenium.webdriver.remote.webelement.WebElement (session=\"c3ea05b520e10438cf8ee6514e82e1ed\", element=\"64954b34-a7a5-4cc2-a339-a2d776c33a9a\")>,\n",
       " <selenium.webdriver.remote.webelement.WebElement (session=\"c3ea05b520e10438cf8ee6514e82e1ed\", element=\"71843a9c-8637-43ac-a110-d58aa3d3fc30\")>,\n",
       " <selenium.webdriver.remote.webelement.WebElement (session=\"c3ea05b520e10438cf8ee6514e82e1ed\", element=\"fcfd56fa-8ff1-4139-8acd-3c8a704fee88\")>,\n",
       " <selenium.webdriver.remote.webelement.WebElement (session=\"c3ea05b520e10438cf8ee6514e82e1ed\", element=\"ca36c8fe-9436-4842-a84b-3e7450f305e9\")>,\n",
       " <selenium.webdriver.remote.webelement.WebElement (session=\"c3ea05b520e10438cf8ee6514e82e1ed\", element=\"8d36df3f-5cb9-4480-8529-7407ffa465d8\")>,\n",
       " <selenium.webdriver.remote.webelement.WebElement (session=\"c3ea05b520e10438cf8ee6514e82e1ed\", element=\"9c508261-1a62-42b1-9d62-09f3ac072109\")>,\n",
       " <selenium.webdriver.remote.webelement.WebElement (session=\"c3ea05b520e10438cf8ee6514e82e1ed\", element=\"6914d90c-3e46-44f2-af20-880d7699a306\")>,\n",
       " <selenium.webdriver.remote.webelement.WebElement (session=\"c3ea05b520e10438cf8ee6514e82e1ed\", element=\"69a4da2b-2bf6-44bc-a717-7126581a1bb3\")>,\n",
       " <selenium.webdriver.remote.webelement.WebElement (session=\"c3ea05b520e10438cf8ee6514e82e1ed\", element=\"8c0f9fe1-0824-4b28-8f12-17fc424c69be\")>,\n",
       " <selenium.webdriver.remote.webelement.WebElement (session=\"c3ea05b520e10438cf8ee6514e82e1ed\", element=\"9298da36-be9f-4809-ad6f-06a56e9f053c\")>,\n",
       " <selenium.webdriver.remote.webelement.WebElement (session=\"c3ea05b520e10438cf8ee6514e82e1ed\", element=\"fd5241b9-e1dd-4a15-89eb-a391ba94d5e5\")>,\n",
       " <selenium.webdriver.remote.webelement.WebElement (session=\"c3ea05b520e10438cf8ee6514e82e1ed\", element=\"0c94bc17-24c4-4a88-bb31-dbe6289877e6\")>,\n",
       " <selenium.webdriver.remote.webelement.WebElement (session=\"c3ea05b520e10438cf8ee6514e82e1ed\", element=\"95bc606e-fef7-448c-9ece-35fcbcb72bef\")>,\n",
       " <selenium.webdriver.remote.webelement.WebElement (session=\"c3ea05b520e10438cf8ee6514e82e1ed\", element=\"f44decef-42a4-4a8b-ab7c-c91582984513\")>,\n",
       " <selenium.webdriver.remote.webelement.WebElement (session=\"c3ea05b520e10438cf8ee6514e82e1ed\", element=\"5ef24342-427d-4561-aae7-bc75e7d3825f\")>,\n",
       " <selenium.webdriver.remote.webelement.WebElement (session=\"c3ea05b520e10438cf8ee6514e82e1ed\", element=\"86026842-e9ad-4bb9-ad0c-80782d69c6a6\")>,\n",
       " <selenium.webdriver.remote.webelement.WebElement (session=\"c3ea05b520e10438cf8ee6514e82e1ed\", element=\"a1530bb1-573e-435b-9119-91a39c821176\")>,\n",
       " <selenium.webdriver.remote.webelement.WebElement (session=\"c3ea05b520e10438cf8ee6514e82e1ed\", element=\"6e952089-bfef-4432-8dbb-53750038082b\")>,\n",
       " <selenium.webdriver.remote.webelement.WebElement (session=\"c3ea05b520e10438cf8ee6514e82e1ed\", element=\"049a3406-95fd-4a8f-9bd5-ace1941c2461\")>,\n",
       " <selenium.webdriver.remote.webelement.WebElement (session=\"c3ea05b520e10438cf8ee6514e82e1ed\", element=\"8eb75f40-9843-4969-b70e-3aa74f98b5c0\")>,\n",
       " <selenium.webdriver.remote.webelement.WebElement (session=\"c3ea05b520e10438cf8ee6514e82e1ed\", element=\"fe3cc036-373e-4426-ae2e-75f84291c20c\")>,\n",
       " <selenium.webdriver.remote.webelement.WebElement (session=\"c3ea05b520e10438cf8ee6514e82e1ed\", element=\"b6622abd-387f-4349-b4da-3ddf33d4a7e7\")>,\n",
       " <selenium.webdriver.remote.webelement.WebElement (session=\"c3ea05b520e10438cf8ee6514e82e1ed\", element=\"62eeb684-e96a-4214-9173-635515d9a0de\")>,\n",
       " <selenium.webdriver.remote.webelement.WebElement (session=\"c3ea05b520e10438cf8ee6514e82e1ed\", element=\"62628951-f8f2-434c-9e21-c373e015de24\")>,\n",
       " <selenium.webdriver.remote.webelement.WebElement (session=\"c3ea05b520e10438cf8ee6514e82e1ed\", element=\"0a22a552-9932-44ce-8332-6ab064395aea\")>,\n",
       " <selenium.webdriver.remote.webelement.WebElement (session=\"c3ea05b520e10438cf8ee6514e82e1ed\", element=\"ebbca496-d956-4606-8a23-b1132e19dee5\")>,\n",
       " <selenium.webdriver.remote.webelement.WebElement (session=\"c3ea05b520e10438cf8ee6514e82e1ed\", element=\"9096b737-f1b2-49a5-9bc0-6fd808a3d210\")>,\n",
       " <selenium.webdriver.remote.webelement.WebElement (session=\"c3ea05b520e10438cf8ee6514e82e1ed\", element=\"2fc4b0f0-2a7a-4ba4-9791-35b03e8cc9af\")>,\n",
       " <selenium.webdriver.remote.webelement.WebElement (session=\"c3ea05b520e10438cf8ee6514e82e1ed\", element=\"9e78f640-09da-49ba-bebc-67ed7ac2518f\")>,\n",
       " <selenium.webdriver.remote.webelement.WebElement (session=\"c3ea05b520e10438cf8ee6514e82e1ed\", element=\"06b0d6ce-c2f6-42fc-ad31-c690b4c972c2\")>,\n",
       " <selenium.webdriver.remote.webelement.WebElement (session=\"c3ea05b520e10438cf8ee6514e82e1ed\", element=\"91658b1f-aa49-4656-bb00-704afe05f331\")>,\n",
       " <selenium.webdriver.remote.webelement.WebElement (session=\"c3ea05b520e10438cf8ee6514e82e1ed\", element=\"b0028124-ae78-491a-8620-0112e31be49c\")>,\n",
       " <selenium.webdriver.remote.webelement.WebElement (session=\"c3ea05b520e10438cf8ee6514e82e1ed\", element=\"d6e14651-37d3-4d0a-97eb-4c5f1cf67c9b\")>,\n",
       " <selenium.webdriver.remote.webelement.WebElement (session=\"c3ea05b520e10438cf8ee6514e82e1ed\", element=\"67b3573d-805a-4653-a74f-5e75f7e74626\")>,\n",
       " <selenium.webdriver.remote.webelement.WebElement (session=\"c3ea05b520e10438cf8ee6514e82e1ed\", element=\"3330dc7e-7e2e-4472-ae72-086ccc1829ab\")>,\n",
       " <selenium.webdriver.remote.webelement.WebElement (session=\"c3ea05b520e10438cf8ee6514e82e1ed\", element=\"9b10b2ec-03e3-44e8-a1af-a1681e3e9094\")>,\n",
       " <selenium.webdriver.remote.webelement.WebElement (session=\"c3ea05b520e10438cf8ee6514e82e1ed\", element=\"29bd1c09-7b56-4d20-b9a2-5f7f0d8cbc91\")>,\n",
       " <selenium.webdriver.remote.webelement.WebElement (session=\"c3ea05b520e10438cf8ee6514e82e1ed\", element=\"992c2fab-5342-4550-92ba-18c8c2bff60e\")>,\n",
       " <selenium.webdriver.remote.webelement.WebElement (session=\"c3ea05b520e10438cf8ee6514e82e1ed\", element=\"03eeeda8-b0c1-4c8c-93b1-3e766079a906\")>,\n",
       " <selenium.webdriver.remote.webelement.WebElement (session=\"c3ea05b520e10438cf8ee6514e82e1ed\", element=\"0892a39e-62fe-4a04-9ac3-3504f2ec8ec2\")>]"
      ]
     },
     "execution_count": 108,
     "metadata": {},
     "output_type": "execute_result"
    }
   ],
   "source": [
    "disc=driver.find_elements_by_xpath('//div[@class=\"_3Ay6Sb\"]')\n",
    "disc"
   ]
  },
  {
   "cell_type": "code",
   "execution_count": 109,
   "id": "20697836",
   "metadata": {},
   "outputs": [
    {
     "data": {
      "text/plain": [
       "['80% off',\n",
       " '83% off',\n",
       " '85% off',\n",
       " '90% off',\n",
       " '87% off',\n",
       " '88% off',\n",
       " '89% off',\n",
       " '87% off',\n",
       " '82% off',\n",
       " '87% off',\n",
       " '15% off',\n",
       " '81% off',\n",
       " '86% off',\n",
       " '84% off',\n",
       " '84% off',\n",
       " '83% off',\n",
       " '77% off',\n",
       " '20% off',\n",
       " '84% off',\n",
       " '79% off',\n",
       " '81% off',\n",
       " '88% off',\n",
       " '88% off',\n",
       " '82% off',\n",
       " '80% off',\n",
       " '70% off',\n",
       " '88% off',\n",
       " '50% off',\n",
       " '76% off',\n",
       " '83% off',\n",
       " '83% off',\n",
       " '77% off',\n",
       " '88% off',\n",
       " '89% off',\n",
       " '64% off',\n",
       " '60% off',\n",
       " '83% off',\n",
       " '10% off',\n",
       " '85% off',\n",
       " '72% off']"
      ]
     },
     "execution_count": 109,
     "metadata": {},
     "output_type": "execute_result"
    }
   ],
   "source": [
    "Disc=[]\n",
    "for i in disc:\n",
    "    brd_=i.text\n",
    "    Disc.append(brd_)\n",
    "\n",
    "    \n",
    "Disc"
   ]
  },
  {
   "cell_type": "code",
   "execution_count": 45,
   "id": "fb432801",
   "metadata": {},
   "outputs": [],
   "source": [
    "driver.close()"
   ]
  },
  {
   "cell_type": "code",
   "execution_count": 110,
   "id": "2d7eabcd",
   "metadata": {},
   "outputs": [],
   "source": [
    "driver.get('https://www.flipkart.com/search?q=Sunglasses&otracker=search&otracker1=search&marketplace=FLIPKART&as-show=off&as=off&page=2')"
   ]
  },
  {
   "cell_type": "code",
   "execution_count": 111,
   "id": "7071075b",
   "metadata": {},
   "outputs": [
    {
     "name": "stderr",
     "output_type": "stream",
     "text": [
      "<ipython-input-111-4d6e8041a7c0>:1: DeprecationWarning: find_elements_by_* commands are deprecated. Please use find_elements() instead\n",
      "  brand2=driver.find_elements_by_xpath('//div[@class=\"_2WkVRV\"]')\n"
     ]
    },
    {
     "data": {
      "text/plain": [
       "[<selenium.webdriver.remote.webelement.WebElement (session=\"c3ea05b520e10438cf8ee6514e82e1ed\", element=\"27c44609-98b8-453a-b0c0-3df1f4880232\")>,\n",
       " <selenium.webdriver.remote.webelement.WebElement (session=\"c3ea05b520e10438cf8ee6514e82e1ed\", element=\"36dcb1ca-cc81-415e-9b20-8cfaeb09d66a\")>,\n",
       " <selenium.webdriver.remote.webelement.WebElement (session=\"c3ea05b520e10438cf8ee6514e82e1ed\", element=\"c79ee7c1-db8f-4ddf-a0b5-cdc99c9faa0a\")>,\n",
       " <selenium.webdriver.remote.webelement.WebElement (session=\"c3ea05b520e10438cf8ee6514e82e1ed\", element=\"a29abf36-2655-4280-a846-31ac11569bbb\")>,\n",
       " <selenium.webdriver.remote.webelement.WebElement (session=\"c3ea05b520e10438cf8ee6514e82e1ed\", element=\"1ec180a3-8c78-428b-b40e-637add4d1192\")>,\n",
       " <selenium.webdriver.remote.webelement.WebElement (session=\"c3ea05b520e10438cf8ee6514e82e1ed\", element=\"44178614-1e69-40ba-bec2-2e0c4f31e5a1\")>,\n",
       " <selenium.webdriver.remote.webelement.WebElement (session=\"c3ea05b520e10438cf8ee6514e82e1ed\", element=\"aa5c4e5f-bbd4-402a-9b52-9660e04db30f\")>,\n",
       " <selenium.webdriver.remote.webelement.WebElement (session=\"c3ea05b520e10438cf8ee6514e82e1ed\", element=\"e36b069e-a5e9-4cfc-a3fe-8e3a523d9705\")>,\n",
       " <selenium.webdriver.remote.webelement.WebElement (session=\"c3ea05b520e10438cf8ee6514e82e1ed\", element=\"dbabbb21-a692-45a2-9aa3-43fa35e7845f\")>,\n",
       " <selenium.webdriver.remote.webelement.WebElement (session=\"c3ea05b520e10438cf8ee6514e82e1ed\", element=\"15255ffb-81a2-4580-8fbd-7baa6338a516\")>,\n",
       " <selenium.webdriver.remote.webelement.WebElement (session=\"c3ea05b520e10438cf8ee6514e82e1ed\", element=\"edda4cc9-ff86-4a3f-b64a-da8b9a92fa3e\")>,\n",
       " <selenium.webdriver.remote.webelement.WebElement (session=\"c3ea05b520e10438cf8ee6514e82e1ed\", element=\"310b15fe-c7ee-43a8-bf8e-28719aeb70e0\")>,\n",
       " <selenium.webdriver.remote.webelement.WebElement (session=\"c3ea05b520e10438cf8ee6514e82e1ed\", element=\"d1027e2a-395d-4b85-b031-846ce12ee57f\")>,\n",
       " <selenium.webdriver.remote.webelement.WebElement (session=\"c3ea05b520e10438cf8ee6514e82e1ed\", element=\"b4cbdf9c-1feb-48b1-9f19-f0e7a4abf609\")>,\n",
       " <selenium.webdriver.remote.webelement.WebElement (session=\"c3ea05b520e10438cf8ee6514e82e1ed\", element=\"c32a11ed-7cc4-4f2f-b0c0-c00ee17e03e2\")>,\n",
       " <selenium.webdriver.remote.webelement.WebElement (session=\"c3ea05b520e10438cf8ee6514e82e1ed\", element=\"29a417cd-a805-44c0-b32e-9c9e1e430289\")>,\n",
       " <selenium.webdriver.remote.webelement.WebElement (session=\"c3ea05b520e10438cf8ee6514e82e1ed\", element=\"1b71e038-60d4-4993-8f8a-2b9063e5774d\")>,\n",
       " <selenium.webdriver.remote.webelement.WebElement (session=\"c3ea05b520e10438cf8ee6514e82e1ed\", element=\"46171d53-dc10-4409-9427-e213ed5b7181\")>,\n",
       " <selenium.webdriver.remote.webelement.WebElement (session=\"c3ea05b520e10438cf8ee6514e82e1ed\", element=\"78f9dd5a-9e4d-4c88-9533-aa720ee8b976\")>,\n",
       " <selenium.webdriver.remote.webelement.WebElement (session=\"c3ea05b520e10438cf8ee6514e82e1ed\", element=\"1a53382d-5114-45d8-8d38-3e1319b83417\")>,\n",
       " <selenium.webdriver.remote.webelement.WebElement (session=\"c3ea05b520e10438cf8ee6514e82e1ed\", element=\"167d014b-17fe-4db7-9823-d9ba14385172\")>,\n",
       " <selenium.webdriver.remote.webelement.WebElement (session=\"c3ea05b520e10438cf8ee6514e82e1ed\", element=\"b6d37b22-47be-4197-91b0-fc8ecfee8072\")>,\n",
       " <selenium.webdriver.remote.webelement.WebElement (session=\"c3ea05b520e10438cf8ee6514e82e1ed\", element=\"3b97d9c9-dd44-4bdb-8b61-cc518abcead4\")>,\n",
       " <selenium.webdriver.remote.webelement.WebElement (session=\"c3ea05b520e10438cf8ee6514e82e1ed\", element=\"cf11396f-43a8-4975-acd5-1ffc05148bed\")>,\n",
       " <selenium.webdriver.remote.webelement.WebElement (session=\"c3ea05b520e10438cf8ee6514e82e1ed\", element=\"24e88c48-ed18-45cb-9fe9-d69fe57bf7ba\")>,\n",
       " <selenium.webdriver.remote.webelement.WebElement (session=\"c3ea05b520e10438cf8ee6514e82e1ed\", element=\"673ac9ab-4744-4b59-8621-408ed8ce5a57\")>,\n",
       " <selenium.webdriver.remote.webelement.WebElement (session=\"c3ea05b520e10438cf8ee6514e82e1ed\", element=\"c2775c1a-aa49-4146-90d5-f09d5ecc92b3\")>,\n",
       " <selenium.webdriver.remote.webelement.WebElement (session=\"c3ea05b520e10438cf8ee6514e82e1ed\", element=\"004e23c5-9672-4510-a34f-b00480d796a2\")>,\n",
       " <selenium.webdriver.remote.webelement.WebElement (session=\"c3ea05b520e10438cf8ee6514e82e1ed\", element=\"2b2909ac-644a-4a70-88f5-834c7d67d852\")>,\n",
       " <selenium.webdriver.remote.webelement.WebElement (session=\"c3ea05b520e10438cf8ee6514e82e1ed\", element=\"12b33493-c3e1-4520-95ef-8fc9f706fe04\")>,\n",
       " <selenium.webdriver.remote.webelement.WebElement (session=\"c3ea05b520e10438cf8ee6514e82e1ed\", element=\"29b11264-bd09-4961-b7ab-53679346e5a4\")>,\n",
       " <selenium.webdriver.remote.webelement.WebElement (session=\"c3ea05b520e10438cf8ee6514e82e1ed\", element=\"505d1372-6dc5-46fb-a04e-bd22f77afa57\")>,\n",
       " <selenium.webdriver.remote.webelement.WebElement (session=\"c3ea05b520e10438cf8ee6514e82e1ed\", element=\"6efcaefb-71a8-4a68-985d-541291ab6182\")>,\n",
       " <selenium.webdriver.remote.webelement.WebElement (session=\"c3ea05b520e10438cf8ee6514e82e1ed\", element=\"82d3d524-37b2-4f0b-985d-e040e929f379\")>,\n",
       " <selenium.webdriver.remote.webelement.WebElement (session=\"c3ea05b520e10438cf8ee6514e82e1ed\", element=\"c8e6de93-ccfb-49f6-bd38-b515c8c5a23e\")>,\n",
       " <selenium.webdriver.remote.webelement.WebElement (session=\"c3ea05b520e10438cf8ee6514e82e1ed\", element=\"8a66cf0b-3433-4fe9-ab2c-6ae0cfc0ff99\")>,\n",
       " <selenium.webdriver.remote.webelement.WebElement (session=\"c3ea05b520e10438cf8ee6514e82e1ed\", element=\"9d1f70c6-3d33-4c4a-9cb9-1f08ba6b3571\")>,\n",
       " <selenium.webdriver.remote.webelement.WebElement (session=\"c3ea05b520e10438cf8ee6514e82e1ed\", element=\"a34f0275-185d-4d0d-affc-698154eeea22\")>,\n",
       " <selenium.webdriver.remote.webelement.WebElement (session=\"c3ea05b520e10438cf8ee6514e82e1ed\", element=\"66bf90b3-c30c-4f43-a9ef-a310980b8bc3\")>,\n",
       " <selenium.webdriver.remote.webelement.WebElement (session=\"c3ea05b520e10438cf8ee6514e82e1ed\", element=\"7a3c42ba-5e9d-4152-9236-9fdf4234df48\")>]"
      ]
     },
     "execution_count": 111,
     "metadata": {},
     "output_type": "execute_result"
    }
   ],
   "source": [
    "brand2=driver.find_elements_by_xpath('//div[@class=\"_2WkVRV\"]')\n",
    "brand2"
   ]
  },
  {
   "cell_type": "code",
   "execution_count": 112,
   "id": "4a3d788d",
   "metadata": {},
   "outputs": [
    {
     "data": {
      "text/plain": [
       "['ROZZETTA CRAFT',\n",
       " 'ROZZETTA CRAFT',\n",
       " 'Rich Club',\n",
       " 'CRYSTAL CART',\n",
       " 'AISLIN',\n",
       " 'kingsunglasses',\n",
       " 'Elligator',\n",
       " 'CRYSTAL CART',\n",
       " 'kingsunglasses',\n",
       " 'SHAAH COLLECTIONS',\n",
       " 'PIRASO',\n",
       " 'Fravy',\n",
       " 'Rich Club',\n",
       " 'Lee Topper',\n",
       " 'ROZZETTA CRAFT',\n",
       " 'CRYSTAL CART',\n",
       " 'GANSTA',\n",
       " 'DEIXELS',\n",
       " 'hipe',\n",
       " 'ROZZETTA CRAFT',\n",
       " 'Singco India',\n",
       " 'ROYAL SON',\n",
       " 'ROYAL SON',\n",
       " 'VINCENT CHASE',\n",
       " 'ROZZETTA CRAFT',\n",
       " 'WROGN',\n",
       " 'Lee Topper',\n",
       " 'VINCENT CHASE',\n",
       " 'kingsunglasses',\n",
       " 'hipe',\n",
       " 'hipe',\n",
       " 'ROZZETTA CRAFT',\n",
       " 'SUNBEE',\n",
       " 'IDEE',\n",
       " 'kingsunglasses',\n",
       " 'CRYSTAL CART',\n",
       " 'AISLIN',\n",
       " 'GANSTA',\n",
       " 'PETER JONES',\n",
       " 'VINCENT CHASE']"
      ]
     },
     "execution_count": 112,
     "metadata": {},
     "output_type": "execute_result"
    }
   ],
   "source": [
    "Brand2=[]\n",
    "for i in brand2:\n",
    "    brd_=i.text\n",
    "    Brand2.append(brd_)\n",
    "\n",
    "    \n",
    "Brand2"
   ]
  },
  {
   "cell_type": "code",
   "execution_count": 113,
   "id": "90c1e21e",
   "metadata": {},
   "outputs": [
    {
     "name": "stderr",
     "output_type": "stream",
     "text": [
      "<ipython-input-113-cdcf0a440461>:1: DeprecationWarning: find_elements_by_* commands are deprecated. Please use find_elements() instead\n",
      "  desc2=driver.find_elements_by_xpath('//a[@class=\"IRpwTa\"]')\n"
     ]
    },
    {
     "data": {
      "text/plain": [
       "[<selenium.webdriver.remote.webelement.WebElement (session=\"c3ea05b520e10438cf8ee6514e82e1ed\", element=\"acb2ba9e-ce04-4e50-bbdf-be7b52f5aca4\")>,\n",
       " <selenium.webdriver.remote.webelement.WebElement (session=\"c3ea05b520e10438cf8ee6514e82e1ed\", element=\"1ce2d2b6-7c79-4d4f-a935-7a523fbf832d\")>,\n",
       " <selenium.webdriver.remote.webelement.WebElement (session=\"c3ea05b520e10438cf8ee6514e82e1ed\", element=\"3e05a315-3cde-4e33-b18c-482969cbcdaa\")>,\n",
       " <selenium.webdriver.remote.webelement.WebElement (session=\"c3ea05b520e10438cf8ee6514e82e1ed\", element=\"b49e47a6-04cd-4150-8120-643f27a8dd90\")>,\n",
       " <selenium.webdriver.remote.webelement.WebElement (session=\"c3ea05b520e10438cf8ee6514e82e1ed\", element=\"78e24d41-1aef-445c-9fa1-4d1f455d652c\")>,\n",
       " <selenium.webdriver.remote.webelement.WebElement (session=\"c3ea05b520e10438cf8ee6514e82e1ed\", element=\"9821801f-b810-43c2-9e9d-5353995c8a5d\")>,\n",
       " <selenium.webdriver.remote.webelement.WebElement (session=\"c3ea05b520e10438cf8ee6514e82e1ed\", element=\"e44d3c62-ba9f-4073-af28-c498e56a3e41\")>,\n",
       " <selenium.webdriver.remote.webelement.WebElement (session=\"c3ea05b520e10438cf8ee6514e82e1ed\", element=\"891df088-f1bc-48e6-90b5-490d3796d708\")>,\n",
       " <selenium.webdriver.remote.webelement.WebElement (session=\"c3ea05b520e10438cf8ee6514e82e1ed\", element=\"886aae03-82b6-4f2f-9310-2ccfaa120eeb\")>,\n",
       " <selenium.webdriver.remote.webelement.WebElement (session=\"c3ea05b520e10438cf8ee6514e82e1ed\", element=\"eaf6f792-8b87-4e0f-8660-b9a11c6baa02\")>,\n",
       " <selenium.webdriver.remote.webelement.WebElement (session=\"c3ea05b520e10438cf8ee6514e82e1ed\", element=\"e747102c-a6f6-439d-86b2-2759d2b67eff\")>,\n",
       " <selenium.webdriver.remote.webelement.WebElement (session=\"c3ea05b520e10438cf8ee6514e82e1ed\", element=\"2a1c3f16-575f-4f02-867c-2224707fce8f\")>,\n",
       " <selenium.webdriver.remote.webelement.WebElement (session=\"c3ea05b520e10438cf8ee6514e82e1ed\", element=\"fc37f982-7431-4298-8516-1c8b4af16b3c\")>,\n",
       " <selenium.webdriver.remote.webelement.WebElement (session=\"c3ea05b520e10438cf8ee6514e82e1ed\", element=\"95480c2b-455e-456e-8014-ddabc6dac738\")>,\n",
       " <selenium.webdriver.remote.webelement.WebElement (session=\"c3ea05b520e10438cf8ee6514e82e1ed\", element=\"93b5b99b-fce5-4f18-a2dd-2625e3a66ab9\")>,\n",
       " <selenium.webdriver.remote.webelement.WebElement (session=\"c3ea05b520e10438cf8ee6514e82e1ed\", element=\"402a3141-98c1-4b6d-8228-94e74fc324cc\")>,\n",
       " <selenium.webdriver.remote.webelement.WebElement (session=\"c3ea05b520e10438cf8ee6514e82e1ed\", element=\"545a51ec-d3fd-467d-af64-7294a775e83f\")>,\n",
       " <selenium.webdriver.remote.webelement.WebElement (session=\"c3ea05b520e10438cf8ee6514e82e1ed\", element=\"0e5a69ab-e543-43a7-b555-1e5b4a67fc4f\")>,\n",
       " <selenium.webdriver.remote.webelement.WebElement (session=\"c3ea05b520e10438cf8ee6514e82e1ed\", element=\"c7985430-913a-4200-b6db-be0f0e1529bf\")>,\n",
       " <selenium.webdriver.remote.webelement.WebElement (session=\"c3ea05b520e10438cf8ee6514e82e1ed\", element=\"009d162f-4062-4aea-b371-e269ce2f41fc\")>,\n",
       " <selenium.webdriver.remote.webelement.WebElement (session=\"c3ea05b520e10438cf8ee6514e82e1ed\", element=\"11d6dbf4-eaf5-4df1-926b-678b4f7f8d2f\")>,\n",
       " <selenium.webdriver.remote.webelement.WebElement (session=\"c3ea05b520e10438cf8ee6514e82e1ed\", element=\"2482cf3f-6ac3-454f-a356-eceafcb03bca\")>,\n",
       " <selenium.webdriver.remote.webelement.WebElement (session=\"c3ea05b520e10438cf8ee6514e82e1ed\", element=\"0520271c-7600-4961-bc64-bc4f005ed3a9\")>,\n",
       " <selenium.webdriver.remote.webelement.WebElement (session=\"c3ea05b520e10438cf8ee6514e82e1ed\", element=\"ff5f94f1-073b-4e91-9b29-580598b790e9\")>,\n",
       " <selenium.webdriver.remote.webelement.WebElement (session=\"c3ea05b520e10438cf8ee6514e82e1ed\", element=\"d9e1b5bb-c074-4fc0-92d9-a39da2650787\")>,\n",
       " <selenium.webdriver.remote.webelement.WebElement (session=\"c3ea05b520e10438cf8ee6514e82e1ed\", element=\"e5f41ef9-13e7-44d6-b6be-1119920d1b51\")>,\n",
       " <selenium.webdriver.remote.webelement.WebElement (session=\"c3ea05b520e10438cf8ee6514e82e1ed\", element=\"fa513421-13dc-41d5-939e-0c97f7d7b93d\")>,\n",
       " <selenium.webdriver.remote.webelement.WebElement (session=\"c3ea05b520e10438cf8ee6514e82e1ed\", element=\"3f95d681-1fcd-4a7b-886b-730c9914f4d9\")>,\n",
       " <selenium.webdriver.remote.webelement.WebElement (session=\"c3ea05b520e10438cf8ee6514e82e1ed\", element=\"7d027151-4cca-4bec-bc3f-e35d500ebe21\")>,\n",
       " <selenium.webdriver.remote.webelement.WebElement (session=\"c3ea05b520e10438cf8ee6514e82e1ed\", element=\"93b67153-b90d-4204-a29f-7b7a7d9969c9\")>,\n",
       " <selenium.webdriver.remote.webelement.WebElement (session=\"c3ea05b520e10438cf8ee6514e82e1ed\", element=\"cd7d747c-dbf6-4ae4-922f-921810bbfcbe\")>,\n",
       " <selenium.webdriver.remote.webelement.WebElement (session=\"c3ea05b520e10438cf8ee6514e82e1ed\", element=\"145545eb-18f2-4d46-a879-34e837e6cd84\")>,\n",
       " <selenium.webdriver.remote.webelement.WebElement (session=\"c3ea05b520e10438cf8ee6514e82e1ed\", element=\"a0711a52-3541-4f1c-b625-4193ca9d99e9\")>,\n",
       " <selenium.webdriver.remote.webelement.WebElement (session=\"c3ea05b520e10438cf8ee6514e82e1ed\", element=\"2d95c268-d1fb-4661-b325-28dacf7d2081\")>,\n",
       " <selenium.webdriver.remote.webelement.WebElement (session=\"c3ea05b520e10438cf8ee6514e82e1ed\", element=\"152a3f26-4c60-4ba8-ad63-657d9bb14f14\")>,\n",
       " <selenium.webdriver.remote.webelement.WebElement (session=\"c3ea05b520e10438cf8ee6514e82e1ed\", element=\"5249ad3d-37cb-46e6-a6a6-27ae9f740165\")>,\n",
       " <selenium.webdriver.remote.webelement.WebElement (session=\"c3ea05b520e10438cf8ee6514e82e1ed\", element=\"82e37aab-29aa-4b1d-8fd9-4a89f6a95e66\")>,\n",
       " <selenium.webdriver.remote.webelement.WebElement (session=\"c3ea05b520e10438cf8ee6514e82e1ed\", element=\"1a89f6b0-14b7-41d8-a4b8-9c15cfe24bba\")>,\n",
       " <selenium.webdriver.remote.webelement.WebElement (session=\"c3ea05b520e10438cf8ee6514e82e1ed\", element=\"89bcc090-e7a3-40b4-8a62-ed85cd775c30\")>,\n",
       " <selenium.webdriver.remote.webelement.WebElement (session=\"c3ea05b520e10438cf8ee6514e82e1ed\", element=\"79a16697-35d6-47d3-8148-5fd534c2e36c\")>]"
      ]
     },
     "execution_count": 113,
     "metadata": {},
     "output_type": "execute_result"
    }
   ],
   "source": [
    "desc2=driver.find_elements_by_xpath('//a[@class=\"IRpwTa\"]')\n",
    "desc2"
   ]
  },
  {
   "cell_type": "code",
   "execution_count": 114,
   "id": "ea32e9dc",
   "metadata": {},
   "outputs": [
    {
     "data": {
      "text/plain": [
       "['UV Protection Round Sunglasses (Free Size)',\n",
       " 'UV Protection, Gradient Retro Square Sunglasses (Free S...',\n",
       " 'UV Protection, Others Round Sunglasses (48)',\n",
       " 'Polarized, UV Protection, Gradient, Riding Glasses Rect...',\n",
       " 'Toughened Glass Lens, UV Protection Rectangular, Aviato...',\n",
       " 'UV Protection, Night Vision Wayfarer Sunglasses (Free S...',\n",
       " 'UV Protection Round Sunglasses (55)',\n",
       " 'UV Protection, Gradient Round Sunglasses (Free Size)',\n",
       " 'UV Protection Round Sunglasses (Free Size)',\n",
       " 'UV Protection Round Sunglasses (Free Size)',\n",
       " 'UV Protection Butterfly Sunglasses (65)',\n",
       " 'UV Protection Retro Square Sunglasses (Free Size)',\n",
       " 'UV Protection Round Sunglasses (50)',\n",
       " 'Riding Glasses, Night Vision Wrap-around Sunglasses (Fr...',\n",
       " 'UV Protection, Gradient Round Sunglasses (Free Size)',\n",
       " 'Polarized, UV Protection, Mirrored Rectangular Sunglass...',\n",
       " 'UV Protection Aviator Sunglasses (57)',\n",
       " 'UV Protection Aviator, Wayfarer Sunglasses (Free Size)',\n",
       " 'UV Protection, Gradient, Mirrored, Riding Glasses Aviat...',\n",
       " 'UV Protection, Gradient Rectangular Sunglasses (Free Si...',\n",
       " 'UV Protection, Riding Glasses, Others Aviator, Wayfarer...',\n",
       " 'UV Protection, Gradient Butterfly Sunglasses (57)',\n",
       " 'UV Protection Round Sunglasses (50)',\n",
       " 'by Lenskart Polarized, UV Protection Wayfarer Sunglasse...',\n",
       " 'UV Protection, Riding Glasses Rectangular Sunglasses (F...',\n",
       " 'UV Protection Aviator Sunglasses (59)',\n",
       " 'UV Protection, Riding Glasses Retro Square, Spectacle ...',\n",
       " 'by Lenskart Polarized, UV Protection Wayfarer Sunglasse...',\n",
       " 'UV Protection Round Sunglasses (Free Size)',\n",
       " 'Mirrored, UV Protection, Gradient Round Sunglasses (55)',\n",
       " 'UV Protection, Night Vision, Riding Glasses, Gradient, ...',\n",
       " 'Gradient, UV Protection Round Sunglasses (Free Size)',\n",
       " 'UV Protection, Polarized Wayfarer Sunglasses (Free Size...',\n",
       " 'UV Protection Cat-eye Sunglasses (17)',\n",
       " 'Mirrored, UV Protection Wayfarer Sunglasses (Free Size)',\n",
       " 'Mirrored, UV Protection Rectangular Sunglasses (Free Si...',\n",
       " 'UV Protection, Gradient Butterfly, Retro Square Sunglas...',\n",
       " 'UV Protection Aviator Sunglasses (57)',\n",
       " 'Night Vision, Riding Glasses, UV Protection Wrap-around...',\n",
       " 'by Lenskart Polarized, UV Protection Aviator Sunglasses...']"
      ]
     },
     "execution_count": 114,
     "metadata": {},
     "output_type": "execute_result"
    }
   ],
   "source": [
    "Descr2=[]\n",
    "for i in desc2:\n",
    "    brd_=i.text\n",
    "    Descr2.append(brd_)\n",
    "\n",
    "    \n",
    "Descr2"
   ]
  },
  {
   "cell_type": "code",
   "execution_count": 115,
   "id": "3e2d40ca",
   "metadata": {},
   "outputs": [
    {
     "name": "stderr",
     "output_type": "stream",
     "text": [
      "<ipython-input-115-fa71a87df72b>:1: DeprecationWarning: find_elements_by_* commands are deprecated. Please use find_elements() instead\n",
      "  price2=driver.find_elements_by_xpath('//div[@class=\"_30jeq3\"]')\n"
     ]
    },
    {
     "data": {
      "text/plain": [
       "[<selenium.webdriver.remote.webelement.WebElement (session=\"c3ea05b520e10438cf8ee6514e82e1ed\", element=\"b7b2ade7-1976-423d-8fa6-b4afc55e33cf\")>,\n",
       " <selenium.webdriver.remote.webelement.WebElement (session=\"c3ea05b520e10438cf8ee6514e82e1ed\", element=\"cf7d634b-e787-4d50-86ea-a8c4f1f24359\")>,\n",
       " <selenium.webdriver.remote.webelement.WebElement (session=\"c3ea05b520e10438cf8ee6514e82e1ed\", element=\"4cf3653c-81a7-46d9-916b-df45dd126da5\")>,\n",
       " <selenium.webdriver.remote.webelement.WebElement (session=\"c3ea05b520e10438cf8ee6514e82e1ed\", element=\"573a9816-1e03-4cdf-9d3e-6eb914ad918d\")>,\n",
       " <selenium.webdriver.remote.webelement.WebElement (session=\"c3ea05b520e10438cf8ee6514e82e1ed\", element=\"fb57f937-1d29-4ac2-adba-b580af030f7a\")>,\n",
       " <selenium.webdriver.remote.webelement.WebElement (session=\"c3ea05b520e10438cf8ee6514e82e1ed\", element=\"e0747f4b-79d4-4954-b592-ea39e902e21f\")>,\n",
       " <selenium.webdriver.remote.webelement.WebElement (session=\"c3ea05b520e10438cf8ee6514e82e1ed\", element=\"44151fcf-159a-4268-bde4-ace8802acc1c\")>,\n",
       " <selenium.webdriver.remote.webelement.WebElement (session=\"c3ea05b520e10438cf8ee6514e82e1ed\", element=\"2334fef2-731d-43ad-9b12-994041f48563\")>,\n",
       " <selenium.webdriver.remote.webelement.WebElement (session=\"c3ea05b520e10438cf8ee6514e82e1ed\", element=\"d7165e82-ff87-45b5-aeb9-0a752435b882\")>,\n",
       " <selenium.webdriver.remote.webelement.WebElement (session=\"c3ea05b520e10438cf8ee6514e82e1ed\", element=\"5c48dfae-2101-4c5b-a708-2fd089a0fd21\")>,\n",
       " <selenium.webdriver.remote.webelement.WebElement (session=\"c3ea05b520e10438cf8ee6514e82e1ed\", element=\"05524a3d-a44c-4cf0-9b08-0c23db51d554\")>,\n",
       " <selenium.webdriver.remote.webelement.WebElement (session=\"c3ea05b520e10438cf8ee6514e82e1ed\", element=\"2ee375ce-11d2-4424-b225-02f472bfdfb4\")>,\n",
       " <selenium.webdriver.remote.webelement.WebElement (session=\"c3ea05b520e10438cf8ee6514e82e1ed\", element=\"9d4201dc-6d99-4bea-ad3b-98a38fb98a27\")>,\n",
       " <selenium.webdriver.remote.webelement.WebElement (session=\"c3ea05b520e10438cf8ee6514e82e1ed\", element=\"d302793c-a5cf-47ba-8000-8924513c8304\")>,\n",
       " <selenium.webdriver.remote.webelement.WebElement (session=\"c3ea05b520e10438cf8ee6514e82e1ed\", element=\"389bd207-95cd-42b4-9af3-79d7f3eca507\")>,\n",
       " <selenium.webdriver.remote.webelement.WebElement (session=\"c3ea05b520e10438cf8ee6514e82e1ed\", element=\"9f4d4f13-7d96-49da-acce-e797ae37ebc4\")>,\n",
       " <selenium.webdriver.remote.webelement.WebElement (session=\"c3ea05b520e10438cf8ee6514e82e1ed\", element=\"965d72ef-8fe7-451d-a861-4754ecc15008\")>,\n",
       " <selenium.webdriver.remote.webelement.WebElement (session=\"c3ea05b520e10438cf8ee6514e82e1ed\", element=\"6f07f691-3dd0-4902-bf55-1e7007f096e9\")>,\n",
       " <selenium.webdriver.remote.webelement.WebElement (session=\"c3ea05b520e10438cf8ee6514e82e1ed\", element=\"0e1a35bd-1f60-43d2-83af-4836469feb6e\")>,\n",
       " <selenium.webdriver.remote.webelement.WebElement (session=\"c3ea05b520e10438cf8ee6514e82e1ed\", element=\"dfc1098f-87a9-4bc8-b93e-fffc1c41d941\")>,\n",
       " <selenium.webdriver.remote.webelement.WebElement (session=\"c3ea05b520e10438cf8ee6514e82e1ed\", element=\"63a0796f-2e0e-4b28-987b-074131bc565a\")>,\n",
       " <selenium.webdriver.remote.webelement.WebElement (session=\"c3ea05b520e10438cf8ee6514e82e1ed\", element=\"e76570e4-e442-4b84-8bc7-3ebefe45ef14\")>,\n",
       " <selenium.webdriver.remote.webelement.WebElement (session=\"c3ea05b520e10438cf8ee6514e82e1ed\", element=\"04cb24a2-ffa9-4c05-a85d-64200e6323ad\")>,\n",
       " <selenium.webdriver.remote.webelement.WebElement (session=\"c3ea05b520e10438cf8ee6514e82e1ed\", element=\"18d72938-7a71-4e5a-973f-ae35f0f2e8cf\")>,\n",
       " <selenium.webdriver.remote.webelement.WebElement (session=\"c3ea05b520e10438cf8ee6514e82e1ed\", element=\"aae32e56-0958-411a-9310-b819af884a4e\")>,\n",
       " <selenium.webdriver.remote.webelement.WebElement (session=\"c3ea05b520e10438cf8ee6514e82e1ed\", element=\"c0df0de8-8b4c-4efb-a6f6-a2e6f9d78bab\")>,\n",
       " <selenium.webdriver.remote.webelement.WebElement (session=\"c3ea05b520e10438cf8ee6514e82e1ed\", element=\"688b55f3-3864-4f2c-a6a5-81a149a41fe7\")>,\n",
       " <selenium.webdriver.remote.webelement.WebElement (session=\"c3ea05b520e10438cf8ee6514e82e1ed\", element=\"fac0fb4a-b16a-4a67-a5f0-d993c35088ee\")>,\n",
       " <selenium.webdriver.remote.webelement.WebElement (session=\"c3ea05b520e10438cf8ee6514e82e1ed\", element=\"0cb7d947-cc57-46a1-a3ef-a23ec45385fb\")>,\n",
       " <selenium.webdriver.remote.webelement.WebElement (session=\"c3ea05b520e10438cf8ee6514e82e1ed\", element=\"c5d81a2e-5b48-47a3-b2a3-94bb758a2c39\")>,\n",
       " <selenium.webdriver.remote.webelement.WebElement (session=\"c3ea05b520e10438cf8ee6514e82e1ed\", element=\"e32a889d-99da-4c2f-89c5-20057bed2b20\")>,\n",
       " <selenium.webdriver.remote.webelement.WebElement (session=\"c3ea05b520e10438cf8ee6514e82e1ed\", element=\"bcc025c3-fda8-4d7c-82ca-40e67d51962b\")>,\n",
       " <selenium.webdriver.remote.webelement.WebElement (session=\"c3ea05b520e10438cf8ee6514e82e1ed\", element=\"52bf1925-4d8e-40ee-9b1f-83d2f37d9b11\")>,\n",
       " <selenium.webdriver.remote.webelement.WebElement (session=\"c3ea05b520e10438cf8ee6514e82e1ed\", element=\"1c5180b0-5e43-48ff-9655-f9e94b0c71c8\")>,\n",
       " <selenium.webdriver.remote.webelement.WebElement (session=\"c3ea05b520e10438cf8ee6514e82e1ed\", element=\"93be6dda-fd01-48c6-b1f1-ee72c92eb4d2\")>,\n",
       " <selenium.webdriver.remote.webelement.WebElement (session=\"c3ea05b520e10438cf8ee6514e82e1ed\", element=\"95f43ef2-9a3a-4b1f-a22c-e47e9c968b10\")>,\n",
       " <selenium.webdriver.remote.webelement.WebElement (session=\"c3ea05b520e10438cf8ee6514e82e1ed\", element=\"3ad3824c-9dd4-404a-96b6-0c23ddbc4ef5\")>,\n",
       " <selenium.webdriver.remote.webelement.WebElement (session=\"c3ea05b520e10438cf8ee6514e82e1ed\", element=\"f926cc89-751f-4715-8708-b6c784a664ef\")>,\n",
       " <selenium.webdriver.remote.webelement.WebElement (session=\"c3ea05b520e10438cf8ee6514e82e1ed\", element=\"395d53c2-04c2-4a83-9589-faa489f47844\")>,\n",
       " <selenium.webdriver.remote.webelement.WebElement (session=\"c3ea05b520e10438cf8ee6514e82e1ed\", element=\"021f9467-a256-46e0-85e0-d35c99491c87\")>]"
      ]
     },
     "execution_count": 115,
     "metadata": {},
     "output_type": "execute_result"
    }
   ],
   "source": [
    "price2=driver.find_elements_by_xpath('//div[@class=\"_30jeq3\"]')\n",
    "price2"
   ]
  },
  {
   "cell_type": "code",
   "execution_count": 116,
   "id": "61b972d2",
   "metadata": {},
   "outputs": [
    {
     "data": {
      "text/plain": [
       "['₹449',\n",
       " '₹349',\n",
       " '₹245',\n",
       " '₹287',\n",
       " '₹885',\n",
       " '₹279',\n",
       " '₹239',\n",
       " '₹329',\n",
       " '₹279',\n",
       " '₹276',\n",
       " '₹336',\n",
       " '₹244',\n",
       " '₹383',\n",
       " '₹276',\n",
       " '₹360',\n",
       " '₹398',\n",
       " '₹269',\n",
       " '₹229',\n",
       " '₹209',\n",
       " '₹399',\n",
       " '₹229',\n",
       " '₹664',\n",
       " '₹359',\n",
       " '₹999',\n",
       " '₹449',\n",
       " '₹769',\n",
       " '₹375',\n",
       " '₹999',\n",
       " '₹299',\n",
       " '₹189',\n",
       " '₹189',\n",
       " '₹449',\n",
       " '₹276',\n",
       " '₹1,139',\n",
       " '₹259',\n",
       " '₹272',\n",
       " '₹459',\n",
       " '₹269',\n",
       " '₹467',\n",
       " '₹999']"
      ]
     },
     "execution_count": 116,
     "metadata": {},
     "output_type": "execute_result"
    }
   ],
   "source": [
    "Price2=[]\n",
    "for i in price2:\n",
    "    brd_=i.text\n",
    "    Price2.append(brd_)\n",
    "\n",
    "    \n",
    "Price2"
   ]
  },
  {
   "cell_type": "code",
   "execution_count": 117,
   "id": "4dad64ce",
   "metadata": {},
   "outputs": [
    {
     "name": "stderr",
     "output_type": "stream",
     "text": [
      "<ipython-input-117-82dca76ffc0c>:1: DeprecationWarning: find_elements_by_* commands are deprecated. Please use find_elements() instead\n",
      "  disc2=driver.find_elements_by_xpath('//div[@class=\"_3Ay6Sb\"]')\n"
     ]
    },
    {
     "data": {
      "text/plain": [
       "[<selenium.webdriver.remote.webelement.WebElement (session=\"c3ea05b520e10438cf8ee6514e82e1ed\", element=\"15847479-a1b3-4793-9b1f-2793ee22e4b4\")>,\n",
       " <selenium.webdriver.remote.webelement.WebElement (session=\"c3ea05b520e10438cf8ee6514e82e1ed\", element=\"2032df56-e650-4d89-91ff-3d25e6b075a0\")>,\n",
       " <selenium.webdriver.remote.webelement.WebElement (session=\"c3ea05b520e10438cf8ee6514e82e1ed\", element=\"5947aa3e-ea79-4637-a204-b8c44a515490\")>,\n",
       " <selenium.webdriver.remote.webelement.WebElement (session=\"c3ea05b520e10438cf8ee6514e82e1ed\", element=\"b481b1f4-2b7c-49c2-bda8-9c34d218a611\")>,\n",
       " <selenium.webdriver.remote.webelement.WebElement (session=\"c3ea05b520e10438cf8ee6514e82e1ed\", element=\"dc3e77d0-7059-45f1-83cc-46c5aa45c9b3\")>,\n",
       " <selenium.webdriver.remote.webelement.WebElement (session=\"c3ea05b520e10438cf8ee6514e82e1ed\", element=\"81294cf7-f87b-4300-87c4-5e8a2467e417\")>,\n",
       " <selenium.webdriver.remote.webelement.WebElement (session=\"c3ea05b520e10438cf8ee6514e82e1ed\", element=\"a0a5a981-658e-4a0f-a1fa-fe4cdf80ec5d\")>,\n",
       " <selenium.webdriver.remote.webelement.WebElement (session=\"c3ea05b520e10438cf8ee6514e82e1ed\", element=\"e8817b1c-09a0-4ede-bbc3-aca682ef5f16\")>,\n",
       " <selenium.webdriver.remote.webelement.WebElement (session=\"c3ea05b520e10438cf8ee6514e82e1ed\", element=\"fb9106b3-6767-4368-a650-6ff38583e0ab\")>,\n",
       " <selenium.webdriver.remote.webelement.WebElement (session=\"c3ea05b520e10438cf8ee6514e82e1ed\", element=\"dd81e7e2-0af1-492b-b85c-6e8fd7874936\")>,\n",
       " <selenium.webdriver.remote.webelement.WebElement (session=\"c3ea05b520e10438cf8ee6514e82e1ed\", element=\"ce17d69e-e8c9-46f7-816f-06b39618263a\")>,\n",
       " <selenium.webdriver.remote.webelement.WebElement (session=\"c3ea05b520e10438cf8ee6514e82e1ed\", element=\"7bb87190-96f6-4071-957e-2bfd0c3bd1fd\")>,\n",
       " <selenium.webdriver.remote.webelement.WebElement (session=\"c3ea05b520e10438cf8ee6514e82e1ed\", element=\"32f0be67-5a95-4e83-80d9-ad692e5881d2\")>,\n",
       " <selenium.webdriver.remote.webelement.WebElement (session=\"c3ea05b520e10438cf8ee6514e82e1ed\", element=\"68ce9dff-86f2-4788-86e3-ac0320512a8f\")>,\n",
       " <selenium.webdriver.remote.webelement.WebElement (session=\"c3ea05b520e10438cf8ee6514e82e1ed\", element=\"acb62422-b954-46ac-9411-863ff9f31272\")>,\n",
       " <selenium.webdriver.remote.webelement.WebElement (session=\"c3ea05b520e10438cf8ee6514e82e1ed\", element=\"865d9ff7-df19-4dea-befc-d5c9743b5f23\")>,\n",
       " <selenium.webdriver.remote.webelement.WebElement (session=\"c3ea05b520e10438cf8ee6514e82e1ed\", element=\"bd903b3d-8339-49a3-bbf7-ce5655f76bbc\")>,\n",
       " <selenium.webdriver.remote.webelement.WebElement (session=\"c3ea05b520e10438cf8ee6514e82e1ed\", element=\"3ec3b32d-9c5e-49da-a28f-45532e10c32e\")>,\n",
       " <selenium.webdriver.remote.webelement.WebElement (session=\"c3ea05b520e10438cf8ee6514e82e1ed\", element=\"edf546c5-467c-4604-904c-9361e27626f0\")>,\n",
       " <selenium.webdriver.remote.webelement.WebElement (session=\"c3ea05b520e10438cf8ee6514e82e1ed\", element=\"a3f81c4b-fdde-4df3-8530-092dfd28bc6a\")>,\n",
       " <selenium.webdriver.remote.webelement.WebElement (session=\"c3ea05b520e10438cf8ee6514e82e1ed\", element=\"c17278a1-8773-4e51-a20e-7f2e41332435\")>,\n",
       " <selenium.webdriver.remote.webelement.WebElement (session=\"c3ea05b520e10438cf8ee6514e82e1ed\", element=\"2b0ee936-cb3f-4d6a-a877-3ea54e9da3f2\")>,\n",
       " <selenium.webdriver.remote.webelement.WebElement (session=\"c3ea05b520e10438cf8ee6514e82e1ed\", element=\"f205f323-6e7b-45e6-b3cd-ff0391672301\")>,\n",
       " <selenium.webdriver.remote.webelement.WebElement (session=\"c3ea05b520e10438cf8ee6514e82e1ed\", element=\"17d43739-69f3-471c-8f21-de55f688cb51\")>,\n",
       " <selenium.webdriver.remote.webelement.WebElement (session=\"c3ea05b520e10438cf8ee6514e82e1ed\", element=\"ee5ecd45-5381-4079-bb06-2b4780fa2d8a\")>,\n",
       " <selenium.webdriver.remote.webelement.WebElement (session=\"c3ea05b520e10438cf8ee6514e82e1ed\", element=\"9b1b023a-8656-474d-ba01-e8a59e63c094\")>,\n",
       " <selenium.webdriver.remote.webelement.WebElement (session=\"c3ea05b520e10438cf8ee6514e82e1ed\", element=\"1c8311f0-5e6e-49fb-bb31-b6c505229b2e\")>,\n",
       " <selenium.webdriver.remote.webelement.WebElement (session=\"c3ea05b520e10438cf8ee6514e82e1ed\", element=\"b71d257b-e78b-4788-8fa2-4335efefd9cd\")>,\n",
       " <selenium.webdriver.remote.webelement.WebElement (session=\"c3ea05b520e10438cf8ee6514e82e1ed\", element=\"c32122a2-d855-4102-a45a-54fe8060990e\")>,\n",
       " <selenium.webdriver.remote.webelement.WebElement (session=\"c3ea05b520e10438cf8ee6514e82e1ed\", element=\"e48e9dc6-2869-489a-b253-96719ec5e046\")>,\n",
       " <selenium.webdriver.remote.webelement.WebElement (session=\"c3ea05b520e10438cf8ee6514e82e1ed\", element=\"2f158447-de6e-40c5-914d-7eba2e63e5f6\")>,\n",
       " <selenium.webdriver.remote.webelement.WebElement (session=\"c3ea05b520e10438cf8ee6514e82e1ed\", element=\"18f67750-7eba-4554-96b2-49b27ec3c9d3\")>,\n",
       " <selenium.webdriver.remote.webelement.WebElement (session=\"c3ea05b520e10438cf8ee6514e82e1ed\", element=\"638e1f80-f957-40b0-9595-f6538ee6a0c4\")>,\n",
       " <selenium.webdriver.remote.webelement.WebElement (session=\"c3ea05b520e10438cf8ee6514e82e1ed\", element=\"0cb1e833-643f-47b4-9cef-22d7905150bf\")>,\n",
       " <selenium.webdriver.remote.webelement.WebElement (session=\"c3ea05b520e10438cf8ee6514e82e1ed\", element=\"2ca437cf-0f1e-4c1c-a494-d568bdc244ab\")>,\n",
       " <selenium.webdriver.remote.webelement.WebElement (session=\"c3ea05b520e10438cf8ee6514e82e1ed\", element=\"540a3ef6-a530-4cb7-95e8-87908d093a62\")>,\n",
       " <selenium.webdriver.remote.webelement.WebElement (session=\"c3ea05b520e10438cf8ee6514e82e1ed\", element=\"389b8c21-c2ff-4a7b-9b88-702893f861f6\")>,\n",
       " <selenium.webdriver.remote.webelement.WebElement (session=\"c3ea05b520e10438cf8ee6514e82e1ed\", element=\"11378666-73ca-4fb9-835c-0a4f15d39b78\")>,\n",
       " <selenium.webdriver.remote.webelement.WebElement (session=\"c3ea05b520e10438cf8ee6514e82e1ed\", element=\"12f746d1-bcee-49bd-9ed2-e1c545347996\")>,\n",
       " <selenium.webdriver.remote.webelement.WebElement (session=\"c3ea05b520e10438cf8ee6514e82e1ed\", element=\"169d4b2b-3756-42d2-9260-7e1e9f579fe6\")>]"
      ]
     },
     "execution_count": 117,
     "metadata": {},
     "output_type": "execute_result"
    }
   ],
   "source": [
    "disc2=driver.find_elements_by_xpath('//div[@class=\"_3Ay6Sb\"]')\n",
    "disc2"
   ]
  },
  {
   "cell_type": "code",
   "execution_count": 118,
   "id": "aa8044a0",
   "metadata": {},
   "outputs": [
    {
     "data": {
      "text/plain": [
       "['83% off',\n",
       " '82% off',\n",
       " '69% off',\n",
       " '80% off',\n",
       " '76% off',\n",
       " '83% off',\n",
       " '88% off',\n",
       " '83% off',\n",
       " '82% off',\n",
       " '83% off',\n",
       " '87% off',\n",
       " '83% off',\n",
       " '61% off',\n",
       " '88% off',\n",
       " '81% off',\n",
       " '81% off',\n",
       " '86% off',\n",
       " '80% off',\n",
       " '79% off',\n",
       " '80% off',\n",
       " '67% off',\n",
       " '66% off',\n",
       " '76% off',\n",
       " '50% off',\n",
       " '79% off',\n",
       " '74% off',\n",
       " '71% off',\n",
       " '50% off',\n",
       " '81% off',\n",
       " '87% off',\n",
       " '85% off',\n",
       " '77% off',\n",
       " '78% off',\n",
       " '49% off',\n",
       " '87% off',\n",
       " '72% off',\n",
       " '69% off',\n",
       " '86% off',\n",
       " '68% off',\n",
       " '60% off']"
      ]
     },
     "execution_count": 118,
     "metadata": {},
     "output_type": "execute_result"
    }
   ],
   "source": [
    "Disc2=[]\n",
    "for i in disc2:\n",
    "    brd_=i.text\n",
    "    Disc2.append(brd_)\n",
    "\n",
    "    \n",
    "Disc2"
   ]
  },
  {
   "cell_type": "code",
   "execution_count": 74,
   "id": "9102fc06",
   "metadata": {},
   "outputs": [],
   "source": [
    "driver.close()"
   ]
  },
  {
   "cell_type": "code",
   "execution_count": 119,
   "id": "c4d16e10",
   "metadata": {},
   "outputs": [],
   "source": [
    "driver.get('https://www.flipkart.com/search?q=Sunglasses&otracker=search&otracker1=search&marketplace=FLIPKART&as-show=off&as=off&page=3')"
   ]
  },
  {
   "cell_type": "code",
   "execution_count": 120,
   "id": "56456097",
   "metadata": {},
   "outputs": [
    {
     "name": "stderr",
     "output_type": "stream",
     "text": [
      "<ipython-input-120-d3b86c6ce66e>:1: DeprecationWarning: find_elements_by_* commands are deprecated. Please use find_elements() instead\n",
      "  brand3=driver.find_elements_by_xpath('//div[@class=\"_2WkVRV\"]')\n"
     ]
    },
    {
     "data": {
      "text/plain": [
       "[<selenium.webdriver.remote.webelement.WebElement (session=\"c3ea05b520e10438cf8ee6514e82e1ed\", element=\"d724d1fd-2629-4d6d-90a2-7b65815d207e\")>,\n",
       " <selenium.webdriver.remote.webelement.WebElement (session=\"c3ea05b520e10438cf8ee6514e82e1ed\", element=\"741a5c6d-2f45-4047-b8e4-6c71a99da4d2\")>,\n",
       " <selenium.webdriver.remote.webelement.WebElement (session=\"c3ea05b520e10438cf8ee6514e82e1ed\", element=\"582b72de-ccfc-447a-a599-134db8248ae0\")>,\n",
       " <selenium.webdriver.remote.webelement.WebElement (session=\"c3ea05b520e10438cf8ee6514e82e1ed\", element=\"28d5b271-cc79-49ee-81a7-2ef1205fba40\")>,\n",
       " <selenium.webdriver.remote.webelement.WebElement (session=\"c3ea05b520e10438cf8ee6514e82e1ed\", element=\"3b2c05c4-d186-4208-8efc-1d3679ef4051\")>,\n",
       " <selenium.webdriver.remote.webelement.WebElement (session=\"c3ea05b520e10438cf8ee6514e82e1ed\", element=\"caafbea4-ead0-438b-b099-574cb77e0937\")>,\n",
       " <selenium.webdriver.remote.webelement.WebElement (session=\"c3ea05b520e10438cf8ee6514e82e1ed\", element=\"29a4f3fd-b5bf-4268-b9a8-40cc5874fd57\")>,\n",
       " <selenium.webdriver.remote.webelement.WebElement (session=\"c3ea05b520e10438cf8ee6514e82e1ed\", element=\"f4d362da-613e-474b-8fd7-a592a1684b98\")>,\n",
       " <selenium.webdriver.remote.webelement.WebElement (session=\"c3ea05b520e10438cf8ee6514e82e1ed\", element=\"7c840c30-f001-4f8b-baab-3399bde45966\")>,\n",
       " <selenium.webdriver.remote.webelement.WebElement (session=\"c3ea05b520e10438cf8ee6514e82e1ed\", element=\"04ff5304-eae7-4eff-a3d3-e5a0a8069e7e\")>,\n",
       " <selenium.webdriver.remote.webelement.WebElement (session=\"c3ea05b520e10438cf8ee6514e82e1ed\", element=\"35333732-7e25-4239-85e8-5c2eb5a98d3d\")>,\n",
       " <selenium.webdriver.remote.webelement.WebElement (session=\"c3ea05b520e10438cf8ee6514e82e1ed\", element=\"1360bd5f-703b-4150-8ac6-da615900757b\")>,\n",
       " <selenium.webdriver.remote.webelement.WebElement (session=\"c3ea05b520e10438cf8ee6514e82e1ed\", element=\"a2b66735-4e80-4cfd-acf3-5f04e1bb2e7e\")>,\n",
       " <selenium.webdriver.remote.webelement.WebElement (session=\"c3ea05b520e10438cf8ee6514e82e1ed\", element=\"6baea14b-5c36-4803-a490-4e35eec6ffbd\")>,\n",
       " <selenium.webdriver.remote.webelement.WebElement (session=\"c3ea05b520e10438cf8ee6514e82e1ed\", element=\"4b07100f-0f49-4bfb-9bd4-1ad6ac30c118\")>,\n",
       " <selenium.webdriver.remote.webelement.WebElement (session=\"c3ea05b520e10438cf8ee6514e82e1ed\", element=\"ac1254d3-fd70-4ea7-9bed-2cbe4a293f83\")>,\n",
       " <selenium.webdriver.remote.webelement.WebElement (session=\"c3ea05b520e10438cf8ee6514e82e1ed\", element=\"6f9a8dc9-556c-484e-8314-2b4588740c3d\")>,\n",
       " <selenium.webdriver.remote.webelement.WebElement (session=\"c3ea05b520e10438cf8ee6514e82e1ed\", element=\"43fe9fd5-ba38-4f2f-b493-d511332b2f43\")>,\n",
       " <selenium.webdriver.remote.webelement.WebElement (session=\"c3ea05b520e10438cf8ee6514e82e1ed\", element=\"a261978f-bc4b-432a-b3ea-97fab43a4aff\")>,\n",
       " <selenium.webdriver.remote.webelement.WebElement (session=\"c3ea05b520e10438cf8ee6514e82e1ed\", element=\"4c7cf96c-9a1d-4ba7-9484-3da808e8b057\")>,\n",
       " <selenium.webdriver.remote.webelement.WebElement (session=\"c3ea05b520e10438cf8ee6514e82e1ed\", element=\"081e4237-c9ef-489b-8989-46f48b6baa95\")>,\n",
       " <selenium.webdriver.remote.webelement.WebElement (session=\"c3ea05b520e10438cf8ee6514e82e1ed\", element=\"45afab7d-fc17-4595-9022-0dec266e05ce\")>,\n",
       " <selenium.webdriver.remote.webelement.WebElement (session=\"c3ea05b520e10438cf8ee6514e82e1ed\", element=\"f4c9bb90-0b4a-4cec-b38c-c1a6ba24cdfb\")>,\n",
       " <selenium.webdriver.remote.webelement.WebElement (session=\"c3ea05b520e10438cf8ee6514e82e1ed\", element=\"9f7e4990-4f0f-40d0-96ef-b247ea5c9e60\")>,\n",
       " <selenium.webdriver.remote.webelement.WebElement (session=\"c3ea05b520e10438cf8ee6514e82e1ed\", element=\"fbbd9969-56bb-4a2a-b9f6-9f92b3ecd803\")>,\n",
       " <selenium.webdriver.remote.webelement.WebElement (session=\"c3ea05b520e10438cf8ee6514e82e1ed\", element=\"609fd578-b633-45fa-bcc8-0627a30be063\")>,\n",
       " <selenium.webdriver.remote.webelement.WebElement (session=\"c3ea05b520e10438cf8ee6514e82e1ed\", element=\"b1309533-486f-4105-9bd4-55e28512d085\")>,\n",
       " <selenium.webdriver.remote.webelement.WebElement (session=\"c3ea05b520e10438cf8ee6514e82e1ed\", element=\"aea48cae-5db8-43f1-a00e-32ee8aad6692\")>,\n",
       " <selenium.webdriver.remote.webelement.WebElement (session=\"c3ea05b520e10438cf8ee6514e82e1ed\", element=\"801d896c-3426-4df4-9726-1b7df3abfaae\")>,\n",
       " <selenium.webdriver.remote.webelement.WebElement (session=\"c3ea05b520e10438cf8ee6514e82e1ed\", element=\"8b6ad6b2-5a32-45a6-b606-37f4444db6d6\")>,\n",
       " <selenium.webdriver.remote.webelement.WebElement (session=\"c3ea05b520e10438cf8ee6514e82e1ed\", element=\"5e867b53-c197-4e21-9a4d-229a36a93fc9\")>,\n",
       " <selenium.webdriver.remote.webelement.WebElement (session=\"c3ea05b520e10438cf8ee6514e82e1ed\", element=\"272904dd-6d13-461d-ab65-52f600ef800a\")>,\n",
       " <selenium.webdriver.remote.webelement.WebElement (session=\"c3ea05b520e10438cf8ee6514e82e1ed\", element=\"e32474b9-e442-4e17-99ce-ad2cbb8f1b36\")>,\n",
       " <selenium.webdriver.remote.webelement.WebElement (session=\"c3ea05b520e10438cf8ee6514e82e1ed\", element=\"dd3f8211-375f-4b11-ac62-6ce55cf2e7fc\")>,\n",
       " <selenium.webdriver.remote.webelement.WebElement (session=\"c3ea05b520e10438cf8ee6514e82e1ed\", element=\"d52566de-173d-4e45-83da-8a6152127a09\")>,\n",
       " <selenium.webdriver.remote.webelement.WebElement (session=\"c3ea05b520e10438cf8ee6514e82e1ed\", element=\"2a58d176-e12b-4d19-8366-4637210f8607\")>,\n",
       " <selenium.webdriver.remote.webelement.WebElement (session=\"c3ea05b520e10438cf8ee6514e82e1ed\", element=\"fbaa6092-bc86-498d-9af6-700addc43e34\")>,\n",
       " <selenium.webdriver.remote.webelement.WebElement (session=\"c3ea05b520e10438cf8ee6514e82e1ed\", element=\"951e0102-06ef-4853-85a6-7de7b9359d48\")>,\n",
       " <selenium.webdriver.remote.webelement.WebElement (session=\"c3ea05b520e10438cf8ee6514e82e1ed\", element=\"aa54c4fd-2c97-486a-89d5-e22a96368bac\")>,\n",
       " <selenium.webdriver.remote.webelement.WebElement (session=\"c3ea05b520e10438cf8ee6514e82e1ed\", element=\"c15aa251-0298-46db-b59b-be85594d03b6\")>]"
      ]
     },
     "execution_count": 120,
     "metadata": {},
     "output_type": "execute_result"
    }
   ],
   "source": [
    "brand3=driver.find_elements_by_xpath('//div[@class=\"_2WkVRV\"]')\n",
    "brand3"
   ]
  },
  {
   "cell_type": "code",
   "execution_count": 121,
   "id": "b581a4cd",
   "metadata": {},
   "outputs": [
    {
     "data": {
      "text/plain": [
       "['PHENOMENAL',\n",
       " 'Fastrack',\n",
       " 'PIRASO',\n",
       " 'CRYSTAL CART',\n",
       " 'ROYAL SON',\n",
       " 'ROYAL SON',\n",
       " 'Elligator',\n",
       " 'CRYSTAL CART',\n",
       " 'New Specs',\n",
       " 'Rich Club',\n",
       " 'Singco India',\n",
       " 'hipe',\n",
       " 'SRPM',\n",
       " 'kingsunglasses',\n",
       " 'GANSTA',\n",
       " 'CRYSTAL CART',\n",
       " 'SUNBEE',\n",
       " 'Lee Topper',\n",
       " 'elegante',\n",
       " 'Fravy',\n",
       " 'AISLIN',\n",
       " 'Fastrack',\n",
       " 'NuVew',\n",
       " 'hipe',\n",
       " 'NuVew',\n",
       " 'GANSTA',\n",
       " 'IDEE',\n",
       " 'ROZZETTA CRAFT',\n",
       " 'kingsunglasses',\n",
       " 'kingsunglasses',\n",
       " 'PIRASO',\n",
       " 'ROZZETTA CRAFT',\n",
       " 'NuVew',\n",
       " 'Poland',\n",
       " 'Elligator',\n",
       " 'VINCENT CHASE',\n",
       " 'Silver Kartz',\n",
       " 'PHENOMENAL',\n",
       " 'Cruze',\n",
       " 'ROZZETTA CRAFT']"
      ]
     },
     "execution_count": 121,
     "metadata": {},
     "output_type": "execute_result"
    }
   ],
   "source": [
    "Brand3=[]\n",
    "for i in brand3:\n",
    "    brd_=i.text\n",
    "    Brand3.append(brd_)\n",
    "\n",
    "    \n",
    "Brand3"
   ]
  },
  {
   "cell_type": "code",
   "execution_count": 122,
   "id": "393232e7",
   "metadata": {},
   "outputs": [],
   "source": [
    "Brand3=Brand3[0:20]"
   ]
  },
  {
   "cell_type": "code",
   "execution_count": 123,
   "id": "da1eb9fc",
   "metadata": {},
   "outputs": [
    {
     "name": "stderr",
     "output_type": "stream",
     "text": [
      "<ipython-input-123-8eada52c15c8>:1: DeprecationWarning: find_elements_by_* commands are deprecated. Please use find_elements() instead\n",
      "  desc3=driver.find_elements_by_xpath('//a[@class=\"IRpwTa\"]')\n"
     ]
    },
    {
     "data": {
      "text/plain": [
       "[<selenium.webdriver.remote.webelement.WebElement (session=\"c3ea05b520e10438cf8ee6514e82e1ed\", element=\"c40af5b3-9eb8-420c-b155-c80d9f3de48b\")>,\n",
       " <selenium.webdriver.remote.webelement.WebElement (session=\"c3ea05b520e10438cf8ee6514e82e1ed\", element=\"62328341-ef4f-4189-ba33-4f75572d7d3f\")>,\n",
       " <selenium.webdriver.remote.webelement.WebElement (session=\"c3ea05b520e10438cf8ee6514e82e1ed\", element=\"d5d22afb-eb9d-4752-96cc-77c1960d5ff5\")>,\n",
       " <selenium.webdriver.remote.webelement.WebElement (session=\"c3ea05b520e10438cf8ee6514e82e1ed\", element=\"f53761b4-a9b5-4844-8ac2-a6f3210554fe\")>,\n",
       " <selenium.webdriver.remote.webelement.WebElement (session=\"c3ea05b520e10438cf8ee6514e82e1ed\", element=\"299925ce-628b-4a6c-b1a7-696b37965714\")>,\n",
       " <selenium.webdriver.remote.webelement.WebElement (session=\"c3ea05b520e10438cf8ee6514e82e1ed\", element=\"c949164e-9d52-481c-8aa3-e0c579eafa30\")>,\n",
       " <selenium.webdriver.remote.webelement.WebElement (session=\"c3ea05b520e10438cf8ee6514e82e1ed\", element=\"3a5129dd-273e-44b8-b632-f72faa6ec836\")>,\n",
       " <selenium.webdriver.remote.webelement.WebElement (session=\"c3ea05b520e10438cf8ee6514e82e1ed\", element=\"94712b86-0fa2-48bf-9909-be50b5c80732\")>,\n",
       " <selenium.webdriver.remote.webelement.WebElement (session=\"c3ea05b520e10438cf8ee6514e82e1ed\", element=\"07b63a8a-4afc-409b-b104-b3ce62166c17\")>,\n",
       " <selenium.webdriver.remote.webelement.WebElement (session=\"c3ea05b520e10438cf8ee6514e82e1ed\", element=\"a3bbb9c3-c837-47ad-ae4b-b570a2b84ea1\")>,\n",
       " <selenium.webdriver.remote.webelement.WebElement (session=\"c3ea05b520e10438cf8ee6514e82e1ed\", element=\"4988eb47-2789-4ec6-9ed4-513ba596a901\")>,\n",
       " <selenium.webdriver.remote.webelement.WebElement (session=\"c3ea05b520e10438cf8ee6514e82e1ed\", element=\"9168fcfe-bfdf-4c2d-9a9a-745e6b48c9ad\")>,\n",
       " <selenium.webdriver.remote.webelement.WebElement (session=\"c3ea05b520e10438cf8ee6514e82e1ed\", element=\"2ff6d038-9b54-4fa4-b504-dcb0a405ecf4\")>,\n",
       " <selenium.webdriver.remote.webelement.WebElement (session=\"c3ea05b520e10438cf8ee6514e82e1ed\", element=\"45729f8e-24b9-4a55-af39-aa20ee540105\")>,\n",
       " <selenium.webdriver.remote.webelement.WebElement (session=\"c3ea05b520e10438cf8ee6514e82e1ed\", element=\"ab77f7a6-00a6-4eed-a41e-72a7cc718aba\")>,\n",
       " <selenium.webdriver.remote.webelement.WebElement (session=\"c3ea05b520e10438cf8ee6514e82e1ed\", element=\"b1a20f99-b890-449d-8a97-05b8a8282cf1\")>,\n",
       " <selenium.webdriver.remote.webelement.WebElement (session=\"c3ea05b520e10438cf8ee6514e82e1ed\", element=\"83c6614e-7408-45a4-8ab1-7804185ab420\")>,\n",
       " <selenium.webdriver.remote.webelement.WebElement (session=\"c3ea05b520e10438cf8ee6514e82e1ed\", element=\"94ea46fc-9389-4075-a669-6bf8864a00a9\")>,\n",
       " <selenium.webdriver.remote.webelement.WebElement (session=\"c3ea05b520e10438cf8ee6514e82e1ed\", element=\"e1c5a6f8-bb32-4297-a16d-3a7f7a84a4d4\")>,\n",
       " <selenium.webdriver.remote.webelement.WebElement (session=\"c3ea05b520e10438cf8ee6514e82e1ed\", element=\"50a26f67-03d5-4f01-93ba-e25dd9e8da52\")>,\n",
       " <selenium.webdriver.remote.webelement.WebElement (session=\"c3ea05b520e10438cf8ee6514e82e1ed\", element=\"ca8fe07b-543f-4661-a46b-e379a5a00b11\")>,\n",
       " <selenium.webdriver.remote.webelement.WebElement (session=\"c3ea05b520e10438cf8ee6514e82e1ed\", element=\"8e140ac0-42c7-4782-99d4-1fa26b121755\")>,\n",
       " <selenium.webdriver.remote.webelement.WebElement (session=\"c3ea05b520e10438cf8ee6514e82e1ed\", element=\"4db5c9ec-d821-44c2-bb65-76fea280e13e\")>,\n",
       " <selenium.webdriver.remote.webelement.WebElement (session=\"c3ea05b520e10438cf8ee6514e82e1ed\", element=\"247a73c2-7864-44f1-b002-1bfdfece9243\")>,\n",
       " <selenium.webdriver.remote.webelement.WebElement (session=\"c3ea05b520e10438cf8ee6514e82e1ed\", element=\"614226df-4c1c-4d2a-a607-5d34899b6490\")>,\n",
       " <selenium.webdriver.remote.webelement.WebElement (session=\"c3ea05b520e10438cf8ee6514e82e1ed\", element=\"5d2edbf6-ebcd-4183-9dc6-0f8192140416\")>,\n",
       " <selenium.webdriver.remote.webelement.WebElement (session=\"c3ea05b520e10438cf8ee6514e82e1ed\", element=\"1dea3521-1fdb-4289-a289-487b0d369354\")>,\n",
       " <selenium.webdriver.remote.webelement.WebElement (session=\"c3ea05b520e10438cf8ee6514e82e1ed\", element=\"17ba03fc-09d9-4fd6-aa5e-3856e6ea9789\")>,\n",
       " <selenium.webdriver.remote.webelement.WebElement (session=\"c3ea05b520e10438cf8ee6514e82e1ed\", element=\"667c7451-f69d-4f07-a1bc-ea741067a587\")>,\n",
       " <selenium.webdriver.remote.webelement.WebElement (session=\"c3ea05b520e10438cf8ee6514e82e1ed\", element=\"85fb0b97-d635-4fb8-bc83-70a9001d172c\")>,\n",
       " <selenium.webdriver.remote.webelement.WebElement (session=\"c3ea05b520e10438cf8ee6514e82e1ed\", element=\"11d639b1-9c5d-4946-98f9-7e48b999decb\")>,\n",
       " <selenium.webdriver.remote.webelement.WebElement (session=\"c3ea05b520e10438cf8ee6514e82e1ed\", element=\"762ffc31-eb40-4ac5-8f95-7521f83973c4\")>,\n",
       " <selenium.webdriver.remote.webelement.WebElement (session=\"c3ea05b520e10438cf8ee6514e82e1ed\", element=\"dbd84bbd-717f-455d-9142-46f5444530d2\")>,\n",
       " <selenium.webdriver.remote.webelement.WebElement (session=\"c3ea05b520e10438cf8ee6514e82e1ed\", element=\"c1539001-279b-417f-b761-c683df5e9fb2\")>,\n",
       " <selenium.webdriver.remote.webelement.WebElement (session=\"c3ea05b520e10438cf8ee6514e82e1ed\", element=\"b0fd5158-13c0-4fe5-9f8d-5373f7c120d4\")>,\n",
       " <selenium.webdriver.remote.webelement.WebElement (session=\"c3ea05b520e10438cf8ee6514e82e1ed\", element=\"85c8bfb4-1d00-4135-91a7-9ebb11ecc21e\")>,\n",
       " <selenium.webdriver.remote.webelement.WebElement (session=\"c3ea05b520e10438cf8ee6514e82e1ed\", element=\"41f2b6f4-01de-4208-90b4-bd9d012d68b6\")>,\n",
       " <selenium.webdriver.remote.webelement.WebElement (session=\"c3ea05b520e10438cf8ee6514e82e1ed\", element=\"aa1ba523-0d58-403c-a440-53e453e07d64\")>,\n",
       " <selenium.webdriver.remote.webelement.WebElement (session=\"c3ea05b520e10438cf8ee6514e82e1ed\", element=\"6304b7ed-09a3-405d-a2d1-6e76df298e5f\")>,\n",
       " <selenium.webdriver.remote.webelement.WebElement (session=\"c3ea05b520e10438cf8ee6514e82e1ed\", element=\"1d712d0e-6adb-40c7-b455-407bb975d687\")>]"
      ]
     },
     "execution_count": 123,
     "metadata": {},
     "output_type": "execute_result"
    }
   ],
   "source": [
    "desc3=driver.find_elements_by_xpath('//a[@class=\"IRpwTa\"]')\n",
    "desc3"
   ]
  },
  {
   "cell_type": "code",
   "execution_count": 124,
   "id": "41a810ec",
   "metadata": {},
   "outputs": [
    {
     "data": {
      "text/plain": [
       "['UV Protection, Mirrored Clubmaster Sunglasses (Free Siz...',\n",
       " 'UV Protection Sports Sunglasses (Free Size)',\n",
       " 'UV Protection Butterfly Sunglasses (60)',\n",
       " 'Polarized, UV Protection, Gradient, Riding Glasses Rect...',\n",
       " 'UV Protection Retro Square Sunglasses (58)',\n",
       " 'UV Protection Retro Square Sunglasses (58)',\n",
       " 'UV Protection Round Sunglasses (54)',\n",
       " 'UV Protection, Gradient Round Sunglasses (Free Size)',\n",
       " 'UV Protection Rectangular Sunglasses (Free Size)',\n",
       " 'UV Protection Round Sunglasses (48)',\n",
       " 'Riding Glasses, UV Protection, Others Aviator Sunglasse...',\n",
       " 'Mirrored, UV Protection, Gradient Round Sunglasses (55)',\n",
       " 'UV Protection Wayfarer Sunglasses (53)',\n",
       " 'UV Protection Rectangular Sunglasses (55)',\n",
       " 'UV Protection, Riding Glasses Wayfarer Sunglasses (53)',\n",
       " 'Polarized, UV Protection, Mirrored Rectangular Sunglass...',\n",
       " 'UV Protection, Polarized, Mirrored Wayfarer Sunglasses ...',\n",
       " 'UV Protection Round Sunglasses (Free Size)',\n",
       " 'Mirrored Round Sunglasses (Free Size)',\n",
       " 'UV Protection Retro Square Sunglasses (Free Size)',\n",
       " 'UV Protection, Gradient Butterfly, Wayfarer Sunglasses ...',\n",
       " 'UV Protection Wayfarer Sunglasses (Free Size)',\n",
       " 'UV Protection, Night Vision, Riding Glasses Sports Sung...',\n",
       " 'UV Protection, Gradient, Mirrored, Riding Glasses Aviat...',\n",
       " 'UV Protection, Mirrored Wayfarer Sunglasses (57)',\n",
       " 'UV Protection, Mirrored Wayfarer Sunglasses (53)',\n",
       " 'UV Protection Over-sized Sunglasses (57)',\n",
       " 'UV Protection, Gradient Rectangular Sunglasses (Free Si...',\n",
       " 'UV Protection, Mirrored Round Sunglasses (54)',\n",
       " 'UV Protection, Mirrored Aviator Sunglasses (Free Size)',\n",
       " 'UV Protection Aviator Sunglasses (58)',\n",
       " 'UV Protection, Gradient Retro Square Sunglasses (Free S...',\n",
       " 'UV Protection Cat-eye Sunglasses (60)',\n",
       " 'UV Protection Wayfarer Sunglasses (Free Size)',\n",
       " 'UV Protection, Gradient Aviator Sunglasses (53)',\n",
       " 'by Lenskart Polarized, UV Protection Wayfarer Sunglasse...',\n",
       " 'UV Protection Aviator Sunglasses (88)',\n",
       " 'UV Protection Retro Square Sunglasses (Free Size)',\n",
       " 'UV Protection Aviator Sunglasses (Free Size)',\n",
       " 'Gradient, UV Protection Round Sunglasses (Free Size)']"
      ]
     },
     "execution_count": 124,
     "metadata": {},
     "output_type": "execute_result"
    }
   ],
   "source": [
    "Descr3=[]\n",
    "for i in desc3:\n",
    "    brd_=i.text\n",
    "    Descr3.append(brd_)\n",
    "\n",
    "    \n",
    "Descr3"
   ]
  },
  {
   "cell_type": "code",
   "execution_count": 125,
   "id": "8465dd63",
   "metadata": {},
   "outputs": [],
   "source": [
    "Descr3=Descr[0:20]"
   ]
  },
  {
   "cell_type": "code",
   "execution_count": 126,
   "id": "4be6b7d7",
   "metadata": {},
   "outputs": [
    {
     "name": "stderr",
     "output_type": "stream",
     "text": [
      "<ipython-input-126-2a6c8a9921b0>:1: DeprecationWarning: find_elements_by_* commands are deprecated. Please use find_elements() instead\n",
      "  price3=driver.find_elements_by_xpath('//div[@class=\"_30jeq3\"]')\n"
     ]
    },
    {
     "data": {
      "text/plain": [
       "[<selenium.webdriver.remote.webelement.WebElement (session=\"c3ea05b520e10438cf8ee6514e82e1ed\", element=\"d650bf48-0f15-4d52-b8a8-96997aba22cb\")>,\n",
       " <selenium.webdriver.remote.webelement.WebElement (session=\"c3ea05b520e10438cf8ee6514e82e1ed\", element=\"70de4dc8-537f-43e6-89d1-a2e2564a2b27\")>,\n",
       " <selenium.webdriver.remote.webelement.WebElement (session=\"c3ea05b520e10438cf8ee6514e82e1ed\", element=\"24643456-8650-4a62-b365-144277aff67f\")>,\n",
       " <selenium.webdriver.remote.webelement.WebElement (session=\"c3ea05b520e10438cf8ee6514e82e1ed\", element=\"324c9d7c-01e1-41de-8979-6f0aaf0986d8\")>,\n",
       " <selenium.webdriver.remote.webelement.WebElement (session=\"c3ea05b520e10438cf8ee6514e82e1ed\", element=\"858ef3d9-3629-4e33-8eb6-86b8bc509217\")>,\n",
       " <selenium.webdriver.remote.webelement.WebElement (session=\"c3ea05b520e10438cf8ee6514e82e1ed\", element=\"77badbe9-bbd2-4f6e-b16c-4a5e01cd741a\")>,\n",
       " <selenium.webdriver.remote.webelement.WebElement (session=\"c3ea05b520e10438cf8ee6514e82e1ed\", element=\"d05dc700-6fe2-4187-9d28-3ed451e5e26a\")>,\n",
       " <selenium.webdriver.remote.webelement.WebElement (session=\"c3ea05b520e10438cf8ee6514e82e1ed\", element=\"3464c596-e654-4073-969e-dd3e9f9cb9b4\")>,\n",
       " <selenium.webdriver.remote.webelement.WebElement (session=\"c3ea05b520e10438cf8ee6514e82e1ed\", element=\"86fd289b-1368-45ce-bc2e-c0d353d34fc9\")>,\n",
       " <selenium.webdriver.remote.webelement.WebElement (session=\"c3ea05b520e10438cf8ee6514e82e1ed\", element=\"fbbef2c6-11eb-43e7-b284-502ba6a981a7\")>,\n",
       " <selenium.webdriver.remote.webelement.WebElement (session=\"c3ea05b520e10438cf8ee6514e82e1ed\", element=\"260dd2d5-4a4b-487f-b454-a7724783a060\")>,\n",
       " <selenium.webdriver.remote.webelement.WebElement (session=\"c3ea05b520e10438cf8ee6514e82e1ed\", element=\"9eac1662-bfbc-42a4-959f-3efe0b6be01a\")>,\n",
       " <selenium.webdriver.remote.webelement.WebElement (session=\"c3ea05b520e10438cf8ee6514e82e1ed\", element=\"98043ea5-d590-4e50-b95a-3623b61f5cec\")>,\n",
       " <selenium.webdriver.remote.webelement.WebElement (session=\"c3ea05b520e10438cf8ee6514e82e1ed\", element=\"f85cdbf5-bf3a-4f51-81b2-c64603a8143f\")>,\n",
       " <selenium.webdriver.remote.webelement.WebElement (session=\"c3ea05b520e10438cf8ee6514e82e1ed\", element=\"ab117cab-5339-40fe-a74b-e75ece2af8c5\")>,\n",
       " <selenium.webdriver.remote.webelement.WebElement (session=\"c3ea05b520e10438cf8ee6514e82e1ed\", element=\"d63c91ee-659c-4fce-a4b9-166b14df79c5\")>,\n",
       " <selenium.webdriver.remote.webelement.WebElement (session=\"c3ea05b520e10438cf8ee6514e82e1ed\", element=\"ad7ead3b-fcb5-4a48-94a9-a2f421e274cf\")>,\n",
       " <selenium.webdriver.remote.webelement.WebElement (session=\"c3ea05b520e10438cf8ee6514e82e1ed\", element=\"9422c8ad-de2b-4331-a62f-03d131570469\")>,\n",
       " <selenium.webdriver.remote.webelement.WebElement (session=\"c3ea05b520e10438cf8ee6514e82e1ed\", element=\"13a3bb01-a21f-475c-873e-9277e988e024\")>,\n",
       " <selenium.webdriver.remote.webelement.WebElement (session=\"c3ea05b520e10438cf8ee6514e82e1ed\", element=\"56fa269d-629f-4329-a8e3-55e9fc0623fa\")>,\n",
       " <selenium.webdriver.remote.webelement.WebElement (session=\"c3ea05b520e10438cf8ee6514e82e1ed\", element=\"07a808b7-364a-433b-9ae7-9725a6a323ca\")>,\n",
       " <selenium.webdriver.remote.webelement.WebElement (session=\"c3ea05b520e10438cf8ee6514e82e1ed\", element=\"cef50c1c-73ed-4606-b2dd-14c5b39fecf7\")>,\n",
       " <selenium.webdriver.remote.webelement.WebElement (session=\"c3ea05b520e10438cf8ee6514e82e1ed\", element=\"a90a2208-9012-4572-8a71-19aabee3b339\")>,\n",
       " <selenium.webdriver.remote.webelement.WebElement (session=\"c3ea05b520e10438cf8ee6514e82e1ed\", element=\"a5f5c7e2-0ea2-46fb-a067-96600cf89e0c\")>,\n",
       " <selenium.webdriver.remote.webelement.WebElement (session=\"c3ea05b520e10438cf8ee6514e82e1ed\", element=\"428d1595-c83a-4519-bb5d-c7cf9dedb05d\")>,\n",
       " <selenium.webdriver.remote.webelement.WebElement (session=\"c3ea05b520e10438cf8ee6514e82e1ed\", element=\"b1b2eaaf-ecb5-48f8-a021-e720cfc4833d\")>,\n",
       " <selenium.webdriver.remote.webelement.WebElement (session=\"c3ea05b520e10438cf8ee6514e82e1ed\", element=\"814b3776-114e-410d-9ca6-d9a1d2539e00\")>,\n",
       " <selenium.webdriver.remote.webelement.WebElement (session=\"c3ea05b520e10438cf8ee6514e82e1ed\", element=\"1533f151-0cd4-42c1-b2a4-500a48793233\")>,\n",
       " <selenium.webdriver.remote.webelement.WebElement (session=\"c3ea05b520e10438cf8ee6514e82e1ed\", element=\"72ca20db-0c21-4305-8df4-800939ce60ee\")>,\n",
       " <selenium.webdriver.remote.webelement.WebElement (session=\"c3ea05b520e10438cf8ee6514e82e1ed\", element=\"7ea1677c-1d34-48a9-8bf3-94f0c88c9bdd\")>,\n",
       " <selenium.webdriver.remote.webelement.WebElement (session=\"c3ea05b520e10438cf8ee6514e82e1ed\", element=\"49454ef4-8a6c-4295-ad8a-3b72da661782\")>,\n",
       " <selenium.webdriver.remote.webelement.WebElement (session=\"c3ea05b520e10438cf8ee6514e82e1ed\", element=\"a245c4cc-78a9-4284-839d-72baab6246ac\")>,\n",
       " <selenium.webdriver.remote.webelement.WebElement (session=\"c3ea05b520e10438cf8ee6514e82e1ed\", element=\"cb2c743c-2948-4e7a-b263-99370669988a\")>,\n",
       " <selenium.webdriver.remote.webelement.WebElement (session=\"c3ea05b520e10438cf8ee6514e82e1ed\", element=\"09cd71ae-fc5d-42e2-9796-96e2d3737f65\")>,\n",
       " <selenium.webdriver.remote.webelement.WebElement (session=\"c3ea05b520e10438cf8ee6514e82e1ed\", element=\"e4983f09-4662-4ec5-9db5-cd180599e591\")>,\n",
       " <selenium.webdriver.remote.webelement.WebElement (session=\"c3ea05b520e10438cf8ee6514e82e1ed\", element=\"6e3a35ed-a450-4128-bcf1-4f220a500449\")>,\n",
       " <selenium.webdriver.remote.webelement.WebElement (session=\"c3ea05b520e10438cf8ee6514e82e1ed\", element=\"b13289d0-0971-415c-9036-80277e4936ec\")>,\n",
       " <selenium.webdriver.remote.webelement.WebElement (session=\"c3ea05b520e10438cf8ee6514e82e1ed\", element=\"e46e0bc0-3c85-441b-b696-2d1d11c5d3e6\")>,\n",
       " <selenium.webdriver.remote.webelement.WebElement (session=\"c3ea05b520e10438cf8ee6514e82e1ed\", element=\"94314a93-dfd6-4ad2-b170-abd665693cb3\")>,\n",
       " <selenium.webdriver.remote.webelement.WebElement (session=\"c3ea05b520e10438cf8ee6514e82e1ed\", element=\"1c44c258-d538-4500-9683-c90f21ed3c8f\")>]"
      ]
     },
     "execution_count": 126,
     "metadata": {},
     "output_type": "execute_result"
    }
   ],
   "source": [
    "price3=driver.find_elements_by_xpath('//div[@class=\"_30jeq3\"]')\n",
    "price3"
   ]
  },
  {
   "cell_type": "code",
   "execution_count": 127,
   "id": "ad00163d",
   "metadata": {},
   "outputs": [
    {
     "data": {
      "text/plain": [
       "['₹299',\n",
       " '₹769',\n",
       " '₹349',\n",
       " '₹287',\n",
       " '₹449',\n",
       " '₹449',\n",
       " '₹275',\n",
       " '₹329',\n",
       " '₹169',\n",
       " '₹284',\n",
       " '₹226',\n",
       " '₹189',\n",
       " '₹220',\n",
       " '₹259',\n",
       " '₹209',\n",
       " '₹398',\n",
       " '₹276',\n",
       " '₹259',\n",
       " '₹399',\n",
       " '₹244',\n",
       " '₹459',\n",
       " '₹729',\n",
       " '₹262',\n",
       " '₹209',\n",
       " '₹243',\n",
       " '₹196',\n",
       " '₹1,229',\n",
       " '₹399',\n",
       " '₹211',\n",
       " '₹235',\n",
       " '₹299',\n",
       " '₹349',\n",
       " '₹377',\n",
       " '₹144',\n",
       " '₹263',\n",
       " '₹999',\n",
       " '₹242',\n",
       " '₹319',\n",
       " '₹430',\n",
       " '₹449']"
      ]
     },
     "execution_count": 127,
     "metadata": {},
     "output_type": "execute_result"
    }
   ],
   "source": [
    "Price3=[]\n",
    "for i in price3:\n",
    "    brd_=i.text\n",
    "    Price3.append(brd_)\n",
    "\n",
    "    \n",
    "Price3"
   ]
  },
  {
   "cell_type": "code",
   "execution_count": 128,
   "id": "87164f25",
   "metadata": {},
   "outputs": [],
   "source": [
    "Price3=Price3[0:20]"
   ]
  },
  {
   "cell_type": "code",
   "execution_count": 129,
   "id": "0d1fe2c8",
   "metadata": {},
   "outputs": [
    {
     "name": "stderr",
     "output_type": "stream",
     "text": [
      "<ipython-input-129-5961481ac9a4>:1: DeprecationWarning: find_elements_by_* commands are deprecated. Please use find_elements() instead\n",
      "  disc3=driver.find_elements_by_xpath('//div[@class=\"_3Ay6Sb\"]')\n"
     ]
    },
    {
     "data": {
      "text/plain": [
       "[<selenium.webdriver.remote.webelement.WebElement (session=\"c3ea05b520e10438cf8ee6514e82e1ed\", element=\"d96e8160-7142-4d51-8be1-f177422ed827\")>,\n",
       " <selenium.webdriver.remote.webelement.WebElement (session=\"c3ea05b520e10438cf8ee6514e82e1ed\", element=\"313f7156-ccfd-40f7-9141-7dd1d4d5f464\")>,\n",
       " <selenium.webdriver.remote.webelement.WebElement (session=\"c3ea05b520e10438cf8ee6514e82e1ed\", element=\"7a9751af-9c57-4e22-9aa2-4f455e1152e6\")>,\n",
       " <selenium.webdriver.remote.webelement.WebElement (session=\"c3ea05b520e10438cf8ee6514e82e1ed\", element=\"2e3e79df-d924-4b38-9305-cdd830163e92\")>,\n",
       " <selenium.webdriver.remote.webelement.WebElement (session=\"c3ea05b520e10438cf8ee6514e82e1ed\", element=\"52cca842-3c70-4e5a-ab45-1cc193538357\")>,\n",
       " <selenium.webdriver.remote.webelement.WebElement (session=\"c3ea05b520e10438cf8ee6514e82e1ed\", element=\"79ab5351-4845-462b-b468-f79fdcb5b293\")>,\n",
       " <selenium.webdriver.remote.webelement.WebElement (session=\"c3ea05b520e10438cf8ee6514e82e1ed\", element=\"cca6f2d9-a50e-41b4-ae6a-cb7b0bf76f9e\")>,\n",
       " <selenium.webdriver.remote.webelement.WebElement (session=\"c3ea05b520e10438cf8ee6514e82e1ed\", element=\"bafb57ba-0f24-4b79-a15f-035e0f522ab1\")>,\n",
       " <selenium.webdriver.remote.webelement.WebElement (session=\"c3ea05b520e10438cf8ee6514e82e1ed\", element=\"69a57289-111c-4702-ab30-8773c469621c\")>,\n",
       " <selenium.webdriver.remote.webelement.WebElement (session=\"c3ea05b520e10438cf8ee6514e82e1ed\", element=\"e0dd5f77-4691-4485-a2c1-68f145c5c6b3\")>,\n",
       " <selenium.webdriver.remote.webelement.WebElement (session=\"c3ea05b520e10438cf8ee6514e82e1ed\", element=\"383b2e9c-6bd4-4a7f-b7d0-f9538c5a9208\")>,\n",
       " <selenium.webdriver.remote.webelement.WebElement (session=\"c3ea05b520e10438cf8ee6514e82e1ed\", element=\"2586fc05-fc14-43a0-b9ca-6f7fb3a4b439\")>,\n",
       " <selenium.webdriver.remote.webelement.WebElement (session=\"c3ea05b520e10438cf8ee6514e82e1ed\", element=\"c6ced498-546e-4c18-b148-e4b44492d92b\")>,\n",
       " <selenium.webdriver.remote.webelement.WebElement (session=\"c3ea05b520e10438cf8ee6514e82e1ed\", element=\"db8849ef-c6c8-401e-9fa9-f66b9abd41a8\")>,\n",
       " <selenium.webdriver.remote.webelement.WebElement (session=\"c3ea05b520e10438cf8ee6514e82e1ed\", element=\"2b6f5d7a-fb84-4246-a97d-e429b53dcec3\")>,\n",
       " <selenium.webdriver.remote.webelement.WebElement (session=\"c3ea05b520e10438cf8ee6514e82e1ed\", element=\"3e95cdd9-8404-405e-9588-6cae459b624c\")>,\n",
       " <selenium.webdriver.remote.webelement.WebElement (session=\"c3ea05b520e10438cf8ee6514e82e1ed\", element=\"2f5ed6c6-db07-4ab6-9be9-16f15fe597c2\")>,\n",
       " <selenium.webdriver.remote.webelement.WebElement (session=\"c3ea05b520e10438cf8ee6514e82e1ed\", element=\"8bbc269b-882b-41af-82f3-6946285c3a99\")>,\n",
       " <selenium.webdriver.remote.webelement.WebElement (session=\"c3ea05b520e10438cf8ee6514e82e1ed\", element=\"016cfcb0-9690-45ca-9250-de43dea1e18d\")>,\n",
       " <selenium.webdriver.remote.webelement.WebElement (session=\"c3ea05b520e10438cf8ee6514e82e1ed\", element=\"a688b0d1-db2f-4970-9714-7f0e10a19996\")>,\n",
       " <selenium.webdriver.remote.webelement.WebElement (session=\"c3ea05b520e10438cf8ee6514e82e1ed\", element=\"c6602431-6b86-44c3-834e-994444761cab\")>,\n",
       " <selenium.webdriver.remote.webelement.WebElement (session=\"c3ea05b520e10438cf8ee6514e82e1ed\", element=\"b0e9cc0b-eb44-4d9a-9c95-752e1ca4e3c9\")>,\n",
       " <selenium.webdriver.remote.webelement.WebElement (session=\"c3ea05b520e10438cf8ee6514e82e1ed\", element=\"36338741-ae16-4fe9-9b4a-f1a766c0b5ca\")>,\n",
       " <selenium.webdriver.remote.webelement.WebElement (session=\"c3ea05b520e10438cf8ee6514e82e1ed\", element=\"bceb6814-3755-4ef4-8a1d-3b1476777d79\")>,\n",
       " <selenium.webdriver.remote.webelement.WebElement (session=\"c3ea05b520e10438cf8ee6514e82e1ed\", element=\"7ba7a00c-9300-41b6-b510-65aa09a9b84d\")>,\n",
       " <selenium.webdriver.remote.webelement.WebElement (session=\"c3ea05b520e10438cf8ee6514e82e1ed\", element=\"a5fe6fbb-2148-4f11-949a-0c545ebd55d8\")>,\n",
       " <selenium.webdriver.remote.webelement.WebElement (session=\"c3ea05b520e10438cf8ee6514e82e1ed\", element=\"ce8bd19e-59a3-466e-9237-3011f7755afe\")>,\n",
       " <selenium.webdriver.remote.webelement.WebElement (session=\"c3ea05b520e10438cf8ee6514e82e1ed\", element=\"78dc0dd2-966b-4d12-94f1-8668dd1813a6\")>,\n",
       " <selenium.webdriver.remote.webelement.WebElement (session=\"c3ea05b520e10438cf8ee6514e82e1ed\", element=\"01a9695a-5dcf-4c82-80f8-83414883a95e\")>,\n",
       " <selenium.webdriver.remote.webelement.WebElement (session=\"c3ea05b520e10438cf8ee6514e82e1ed\", element=\"2fffb8d6-4019-44c9-9567-86c8948aabe0\")>,\n",
       " <selenium.webdriver.remote.webelement.WebElement (session=\"c3ea05b520e10438cf8ee6514e82e1ed\", element=\"30101805-da97-4026-8310-f054cf8ba8ee\")>,\n",
       " <selenium.webdriver.remote.webelement.WebElement (session=\"c3ea05b520e10438cf8ee6514e82e1ed\", element=\"a804e0de-985c-477b-ba71-396c407d8375\")>,\n",
       " <selenium.webdriver.remote.webelement.WebElement (session=\"c3ea05b520e10438cf8ee6514e82e1ed\", element=\"79720fd5-c7b7-4ec1-b67b-73256a7acdfb\")>,\n",
       " <selenium.webdriver.remote.webelement.WebElement (session=\"c3ea05b520e10438cf8ee6514e82e1ed\", element=\"a0fa33b1-e819-45bd-bc6f-364b782b3d23\")>,\n",
       " <selenium.webdriver.remote.webelement.WebElement (session=\"c3ea05b520e10438cf8ee6514e82e1ed\", element=\"03f1ef28-67ff-4fa9-9bb7-a8356480452f\")>,\n",
       " <selenium.webdriver.remote.webelement.WebElement (session=\"c3ea05b520e10438cf8ee6514e82e1ed\", element=\"4611a3ea-a101-4bfc-8dca-296cac13e3aa\")>,\n",
       " <selenium.webdriver.remote.webelement.WebElement (session=\"c3ea05b520e10438cf8ee6514e82e1ed\", element=\"fe5d1645-0fc1-4aea-a938-a570ac1ad00c\")>,\n",
       " <selenium.webdriver.remote.webelement.WebElement (session=\"c3ea05b520e10438cf8ee6514e82e1ed\", element=\"f1d47ff0-e766-4dc4-a8b9-54550e84ea46\")>,\n",
       " <selenium.webdriver.remote.webelement.WebElement (session=\"c3ea05b520e10438cf8ee6514e82e1ed\", element=\"b7e124fd-3ad6-45e6-b0a1-049e778ff490\")>,\n",
       " <selenium.webdriver.remote.webelement.WebElement (session=\"c3ea05b520e10438cf8ee6514e82e1ed\", element=\"a25e1cb9-bc0a-4fc7-9031-3b7bdb0722c8\")>]"
      ]
     },
     "execution_count": 129,
     "metadata": {},
     "output_type": "execute_result"
    }
   ],
   "source": [
    "disc3=driver.find_elements_by_xpath('//div[@class=\"_3Ay6Sb\"]')\n",
    "disc3"
   ]
  },
  {
   "cell_type": "code",
   "execution_count": 130,
   "id": "02451b6d",
   "metadata": {},
   "outputs": [
    {
     "data": {
      "text/plain": [
       "['85% off',\n",
       " '14% off',\n",
       " '86% off',\n",
       " '80% off',\n",
       " '70% off',\n",
       " '70% off',\n",
       " '78% off',\n",
       " '83% off',\n",
       " '89% off',\n",
       " '64% off',\n",
       " '84% off',\n",
       " '87% off',\n",
       " '77% off',\n",
       " '82% off',\n",
       " '88% off',\n",
       " '81% off',\n",
       " '78% off',\n",
       " '74% off',\n",
       " '80% off',\n",
       " '83% off',\n",
       " '69% off',\n",
       " '18% off',\n",
       " '66% off',\n",
       " '79% off',\n",
       " '76% off',\n",
       " '80% off',\n",
       " '49% off',\n",
       " '80% off',\n",
       " '82% off',\n",
       " '87% off',\n",
       " '88% off',\n",
       " '82% off',\n",
       " '73% off',\n",
       " '71% off',\n",
       " '82% off',\n",
       " '50% off',\n",
       " '79% off',\n",
       " '84% off',\n",
       " '66% off',\n",
       " '77% off']"
      ]
     },
     "execution_count": 130,
     "metadata": {},
     "output_type": "execute_result"
    }
   ],
   "source": [
    "Disc3=[]\n",
    "for i in disc3:\n",
    "    brd_=i.text\n",
    "    Disc3.append(brd_)\n",
    "\n",
    "    \n",
    "Disc3"
   ]
  },
  {
   "cell_type": "code",
   "execution_count": 131,
   "id": "5fee4bc1",
   "metadata": {},
   "outputs": [],
   "source": [
    "Disc3=Disc3[0:20]"
   ]
  },
  {
   "cell_type": "code",
   "execution_count": 132,
   "id": "5eee29dd",
   "metadata": {},
   "outputs": [
    {
     "data": {
      "text/plain": [
       "<function print>"
      ]
     },
     "execution_count": 132,
     "metadata": {},
     "output_type": "execute_result"
    }
   ],
   "source": [
    "BRAND=Brand+Brand2+Brand3\n",
    "DESCR=Descr+Descr2+Descr3\n",
    "PRICE=Price+Price2+Price3\n",
    "DISC=Disc+Disc2+Disc3\n",
    "print"
   ]
  },
  {
   "cell_type": "code",
   "execution_count": 133,
   "id": "7cd5894e",
   "metadata": {},
   "outputs": [],
   "source": [
    "Sunglass=pd.DataFrame({})\n",
    "Sunglass['BRAND']=BRAND\n",
    "Sunglass['DESCRIPTION']=DESCR\n",
    "Sunglass['PRICE']=PRICE\n",
    "Sunglass['DISCOUNT OFFERED']=DISC"
   ]
  },
  {
   "cell_type": "code",
   "execution_count": 134,
   "id": "8a42229b",
   "metadata": {},
   "outputs": [
    {
     "data": {
      "text/html": [
       "<div>\n",
       "<style scoped>\n",
       "    .dataframe tbody tr th:only-of-type {\n",
       "        vertical-align: middle;\n",
       "    }\n",
       "\n",
       "    .dataframe tbody tr th {\n",
       "        vertical-align: top;\n",
       "    }\n",
       "\n",
       "    .dataframe thead th {\n",
       "        text-align: right;\n",
       "    }\n",
       "</style>\n",
       "<table border=\"1\" class=\"dataframe\">\n",
       "  <thead>\n",
       "    <tr style=\"text-align: right;\">\n",
       "      <th></th>\n",
       "      <th>BRAND</th>\n",
       "      <th>DESCRIPTION</th>\n",
       "      <th>PRICE</th>\n",
       "      <th>DISCOUNT OFFERED</th>\n",
       "    </tr>\n",
       "  </thead>\n",
       "  <tbody>\n",
       "    <tr>\n",
       "      <th>0</th>\n",
       "      <td>CRYSTAL CART</td>\n",
       "      <td>Polarized, UV Protection, Gradient, Riding Gla...</td>\n",
       "      <td>₹287</td>\n",
       "      <td>80% off</td>\n",
       "    </tr>\n",
       "    <tr>\n",
       "      <th>1</th>\n",
       "      <td>CRYSTAL CART</td>\n",
       "      <td>UV Protection, Gradient Round Sunglasses (Free...</td>\n",
       "      <td>₹329</td>\n",
       "      <td>83% off</td>\n",
       "    </tr>\n",
       "    <tr>\n",
       "      <th>2</th>\n",
       "      <td>SRPM</td>\n",
       "      <td>UV Protection Wayfarer Sunglasses (56)</td>\n",
       "      <td>₹188</td>\n",
       "      <td>85% off</td>\n",
       "    </tr>\n",
       "    <tr>\n",
       "      <th>3</th>\n",
       "      <td>Elligator</td>\n",
       "      <td>UV Protection Round Sunglasses (54)</td>\n",
       "      <td>₹248</td>\n",
       "      <td>90% off</td>\n",
       "    </tr>\n",
       "    <tr>\n",
       "      <th>4</th>\n",
       "      <td>PIRASO</td>\n",
       "      <td>UV Protection Aviator Sunglasses (54)</td>\n",
       "      <td>₹200</td>\n",
       "      <td>87% off</td>\n",
       "    </tr>\n",
       "    <tr>\n",
       "      <th>...</th>\n",
       "      <td>...</td>\n",
       "      <td>...</td>\n",
       "      <td>...</td>\n",
       "      <td>...</td>\n",
       "    </tr>\n",
       "    <tr>\n",
       "      <th>95</th>\n",
       "      <td>CRYSTAL CART</td>\n",
       "      <td>UV Protection Retro Square Sunglasses (Free Size)</td>\n",
       "      <td>₹398</td>\n",
       "      <td>81% off</td>\n",
       "    </tr>\n",
       "    <tr>\n",
       "      <th>96</th>\n",
       "      <td>SUNBEE</td>\n",
       "      <td>UV Protection Retro Square Sunglasses (Free Size)</td>\n",
       "      <td>₹276</td>\n",
       "      <td>78% off</td>\n",
       "    </tr>\n",
       "    <tr>\n",
       "      <th>97</th>\n",
       "      <td>Lee Topper</td>\n",
       "      <td>UV Protection Rectangular Sunglasses (Free Size)</td>\n",
       "      <td>₹259</td>\n",
       "      <td>74% off</td>\n",
       "    </tr>\n",
       "    <tr>\n",
       "      <th>98</th>\n",
       "      <td>elegante</td>\n",
       "      <td>UV Protection, Mirrored Retro Square Sunglasse...</td>\n",
       "      <td>₹399</td>\n",
       "      <td>80% off</td>\n",
       "    </tr>\n",
       "    <tr>\n",
       "      <th>99</th>\n",
       "      <td>Fravy</td>\n",
       "      <td>UV Protection, Gradient, Mirrored, Riding Glas...</td>\n",
       "      <td>₹244</td>\n",
       "      <td>83% off</td>\n",
       "    </tr>\n",
       "  </tbody>\n",
       "</table>\n",
       "<p>100 rows × 4 columns</p>\n",
       "</div>"
      ],
      "text/plain": [
       "           BRAND                                        DESCRIPTION PRICE  \\\n",
       "0   CRYSTAL CART  Polarized, UV Protection, Gradient, Riding Gla...  ₹287   \n",
       "1   CRYSTAL CART  UV Protection, Gradient Round Sunglasses (Free...  ₹329   \n",
       "2           SRPM             UV Protection Wayfarer Sunglasses (56)  ₹188   \n",
       "3      Elligator                UV Protection Round Sunglasses (54)  ₹248   \n",
       "4         PIRASO              UV Protection Aviator Sunglasses (54)  ₹200   \n",
       "..           ...                                                ...   ...   \n",
       "95  CRYSTAL CART  UV Protection Retro Square Sunglasses (Free Size)  ₹398   \n",
       "96        SUNBEE  UV Protection Retro Square Sunglasses (Free Size)  ₹276   \n",
       "97    Lee Topper   UV Protection Rectangular Sunglasses (Free Size)  ₹259   \n",
       "98      elegante  UV Protection, Mirrored Retro Square Sunglasse...  ₹399   \n",
       "99         Fravy  UV Protection, Gradient, Mirrored, Riding Glas...  ₹244   \n",
       "\n",
       "   DISCOUNT OFFERED  \n",
       "0           80% off  \n",
       "1           83% off  \n",
       "2           85% off  \n",
       "3           90% off  \n",
       "4           87% off  \n",
       "..              ...  \n",
       "95          81% off  \n",
       "96          78% off  \n",
       "97          74% off  \n",
       "98          80% off  \n",
       "99          83% off  \n",
       "\n",
       "[100 rows x 4 columns]"
      ]
     },
     "execution_count": 134,
     "metadata": {},
     "output_type": "execute_result"
    }
   ],
   "source": [
    "Sunglass"
   ]
  },
  {
   "cell_type": "markdown",
   "id": "c8b740e8",
   "metadata": {},
   "source": [
    "# Q5: Scrape 100 reviews data from flipkart.com for iphone11 phone\n"
   ]
  },
  {
   "cell_type": "code",
   "execution_count": 157,
   "id": "5cb477fe",
   "metadata": {},
   "outputs": [],
   "source": [
    "driver.close()"
   ]
  },
  {
   "cell_type": "code",
   "execution_count": 25,
   "id": "fd6aff4a",
   "metadata": {},
   "outputs": [],
   "source": [
    "RATING=[]\n",
    "REVIEW=[]\n",
    "FULLREVIEW=[]"
   ]
  },
  {
   "cell_type": "code",
   "execution_count": 67,
   "id": "4d0ba97e",
   "metadata": {},
   "outputs": [],
   "source": [
    "url=(\"https://www.flipkart.com/apple-iphone-11-black-64-gb-includes-earpods-power-adapter/product-reviews/itm0f37c2240b217?pid=MOBFKCTSVZAXUHGR&lid=LSTMOBFKCTSVZAXUHGREPBFGI&marketplace=FLIPKAR&page=11\")"
   ]
  },
  {
   "cell_type": "code",
   "execution_count": 68,
   "id": "4749d1fa",
   "metadata": {},
   "outputs": [],
   "source": [
    "driver.get(url)"
   ]
  },
  {
   "cell_type": "code",
   "execution_count": 69,
   "id": "7e0d6289",
   "metadata": {},
   "outputs": [
    {
     "name": "stderr",
     "output_type": "stream",
     "text": [
      "<ipython-input-69-99169b778572>:1: DeprecationWarning: find_elements_by_* commands are deprecated. Please use find_elements() instead\n",
      "  Rate=driver.find_elements_by_xpath('//div[@class=\"_3LWZlK _1BLPMq\"]')\n",
      "<ipython-input-69-99169b778572>:6: DeprecationWarning: find_elements_by_* commands are deprecated. Please use find_elements() instead\n",
      "  rev=driver.find_elements_by_xpath('//p[@class=\"_2-N8zT\"]')\n",
      "<ipython-input-69-99169b778572>:13: DeprecationWarning: find_elements_by_* commands are deprecated. Please use find_elements() instead\n",
      "  fullrv=driver.find_elements_by_xpath('//div[@class=\"t-ZTKy\"]/div')\n"
     ]
    }
   ],
   "source": [
    "Rate=driver.find_elements_by_xpath('//div[@class=\"_3LWZlK _1BLPMq\"]')\n",
    "for j in Rate:\n",
    "    rti_=j.text\n",
    "    RATING.append(rti_)\n",
    "\n",
    "rev=driver.find_elements_by_xpath('//p[@class=\"_2-N8zT\"]')\n",
    "for k in rev:\n",
    "    rev_=k.text\n",
    "    REVIEW.append(rev_)\n",
    "\n",
    "\n",
    "\n",
    "fullrv=driver.find_elements_by_xpath('//div[@class=\"t-ZTKy\"]/div')\n",
    "for i in fullrv:\n",
    "    frv_=i.text\n",
    "    FULLREVIEW.append(frv_)\n",
    "    \n",
    "    \n",
    "\n"
   ]
  },
  {
   "cell_type": "code",
   "execution_count": 73,
   "id": "d99b8aac",
   "metadata": {},
   "outputs": [
    {
     "data": {
      "text/plain": [
       "100"
      ]
     },
     "execution_count": 73,
     "metadata": {},
     "output_type": "execute_result"
    }
   ],
   "source": [
    "FULLREVIEW=FULLREVIEW[0:100]\n",
    "len(FULLREVIEW)"
   ]
  },
  {
   "cell_type": "code",
   "execution_count": 76,
   "id": "ce364fdd",
   "metadata": {},
   "outputs": [
    {
     "data": {
      "text/html": [
       "<div>\n",
       "<style scoped>\n",
       "    .dataframe tbody tr th:only-of-type {\n",
       "        vertical-align: middle;\n",
       "    }\n",
       "\n",
       "    .dataframe tbody tr th {\n",
       "        vertical-align: top;\n",
       "    }\n",
       "\n",
       "    .dataframe thead th {\n",
       "        text-align: right;\n",
       "    }\n",
       "</style>\n",
       "<table border=\"1\" class=\"dataframe\">\n",
       "  <thead>\n",
       "    <tr style=\"text-align: right;\">\n",
       "      <th></th>\n",
       "      <th>RATING</th>\n",
       "      <th>REVIEW</th>\n",
       "      <th>FULLREVIEW</th>\n",
       "    </tr>\n",
       "  </thead>\n",
       "  <tbody>\n",
       "    <tr>\n",
       "      <th>0</th>\n",
       "      <td>5</td>\n",
       "      <td>Brilliant</td>\n",
       "      <td>The Best Phone for the Money\\n\\nThe iPhone 11 ...</td>\n",
       "    </tr>\n",
       "    <tr>\n",
       "      <th>1</th>\n",
       "      <td>5</td>\n",
       "      <td>Simply awesome</td>\n",
       "      <td>Really satisfied with the Product I received.....</td>\n",
       "    </tr>\n",
       "    <tr>\n",
       "      <th>2</th>\n",
       "      <td>5</td>\n",
       "      <td>Best in the market!</td>\n",
       "      <td>Great iPhone very snappy experience as apple k...</td>\n",
       "    </tr>\n",
       "    <tr>\n",
       "      <th>3</th>\n",
       "      <td>5</td>\n",
       "      <td>Perfect product!</td>\n",
       "      <td>Amazing phone with great cameras and better ba...</td>\n",
       "    </tr>\n",
       "    <tr>\n",
       "      <th>4</th>\n",
       "      <td>5</td>\n",
       "      <td>Worth every penny</td>\n",
       "      <td>Previously I was using one plus 3t it was a gr...</td>\n",
       "    </tr>\n",
       "    <tr>\n",
       "      <th>...</th>\n",
       "      <td>...</td>\n",
       "      <td>...</td>\n",
       "      <td>...</td>\n",
       "    </tr>\n",
       "    <tr>\n",
       "      <th>95</th>\n",
       "      <td>5</td>\n",
       "      <td>Awesome</td>\n",
       "      <td>The phone is completely good\\nAs far as camera...</td>\n",
       "    </tr>\n",
       "    <tr>\n",
       "      <th>96</th>\n",
       "      <td>3</td>\n",
       "      <td>Decent product</td>\n",
       "      <td>Everything u ll like it when u use this iPhone...</td>\n",
       "    </tr>\n",
       "    <tr>\n",
       "      <th>97</th>\n",
       "      <td>5</td>\n",
       "      <td>Brilliant</td>\n",
       "      <td>A wort full value for money decision it’s . Si...</td>\n",
       "    </tr>\n",
       "    <tr>\n",
       "      <th>98</th>\n",
       "      <td>5</td>\n",
       "      <td>Awesome</td>\n",
       "      <td>Can’t beat the software and hardware integrati...</td>\n",
       "    </tr>\n",
       "    <tr>\n",
       "      <th>99</th>\n",
       "      <td>5</td>\n",
       "      <td>Does the job</td>\n",
       "      <td>phone is good but in display is 720p lcd in th...</td>\n",
       "    </tr>\n",
       "  </tbody>\n",
       "</table>\n",
       "<p>100 rows × 3 columns</p>\n",
       "</div>"
      ],
      "text/plain": [
       "   RATING               REVIEW  \\\n",
       "0       5            Brilliant   \n",
       "1       5       Simply awesome   \n",
       "2       5  Best in the market!   \n",
       "3       5     Perfect product!   \n",
       "4       5    Worth every penny   \n",
       "..    ...                  ...   \n",
       "95      5              Awesome   \n",
       "96      3       Decent product   \n",
       "97      5            Brilliant   \n",
       "98      5              Awesome   \n",
       "99      5         Does the job   \n",
       "\n",
       "                                           FULLREVIEW  \n",
       "0   The Best Phone for the Money\\n\\nThe iPhone 11 ...  \n",
       "1   Really satisfied with the Product I received.....  \n",
       "2   Great iPhone very snappy experience as apple k...  \n",
       "3   Amazing phone with great cameras and better ba...  \n",
       "4   Previously I was using one plus 3t it was a gr...  \n",
       "..                                                ...  \n",
       "95  The phone is completely good\\nAs far as camera...  \n",
       "96  Everything u ll like it when u use this iPhone...  \n",
       "97  A wort full value for money decision it’s . Si...  \n",
       "98  Can’t beat the software and hardware integrati...  \n",
       "99  phone is good but in display is 720p lcd in th...  \n",
       "\n",
       "[100 rows x 3 columns]"
      ]
     },
     "execution_count": 76,
     "metadata": {},
     "output_type": "execute_result"
    }
   ],
   "source": [
    "CUSTOMER_REPORT=pd.DataFrame({})\n",
    "CUSTOMER_REPORT['RATING']=RATING\n",
    "CUSTOMER_REPORT['REVIEW']=REVIEW\n",
    "CUSTOMER_REPORT['FULLREVIEW']=FULLREVIEW\n",
    "\n",
    "CUSTOMER_REPORT"
   ]
  },
  {
   "cell_type": "markdown",
   "id": "e1898610",
   "metadata": {},
   "source": [
    "# Q6: Scrape data for first 100 sneakers you find when you visit flipkart.com and search for “sneakers” in thesearch field.\n"
   ]
  },
  {
   "cell_type": "code",
   "execution_count": 7,
   "id": "0ca5d156",
   "metadata": {},
   "outputs": [],
   "source": [
    "BRAND=[]\n",
    "DESC=[]\n",
    "PRICE=[]\n",
    "DISC=[]"
   ]
  },
  {
   "cell_type": "code",
   "execution_count": 18,
   "id": "25674f02",
   "metadata": {},
   "outputs": [],
   "source": [
    "url2=(\"https://www.flipkart.com/search?q=sneakers&otracker=search&otracker1=search&marketplace=FLIPKART&as-show=on&as=off&page=3\")"
   ]
  },
  {
   "cell_type": "code",
   "execution_count": 19,
   "id": "c4b06392",
   "metadata": {},
   "outputs": [],
   "source": [
    "driver.get(url2)"
   ]
  },
  {
   "cell_type": "code",
   "execution_count": 20,
   "id": "49f43a56",
   "metadata": {},
   "outputs": [
    {
     "name": "stderr",
     "output_type": "stream",
     "text": [
      "<ipython-input-20-f7e54a92a816>:1: DeprecationWarning: find_elements_by_* commands are deprecated. Please use find_elements() instead\n",
      "  Brand=driver.find_elements_by_xpath('//div[@class=\"_2WkVRV\"]')\n",
      "<ipython-input-20-f7e54a92a816>:6: DeprecationWarning: find_elements_by_* commands are deprecated. Please use find_elements() instead\n",
      "  des=driver.find_elements_by_xpath('//a[@class=\"IRpwTa\"]')\n",
      "<ipython-input-20-f7e54a92a816>:13: DeprecationWarning: find_elements_by_* commands are deprecated. Please use find_elements() instead\n",
      "  prc=driver.find_elements_by_xpath('//div[@class=\"_30jeq3\"]')\n",
      "<ipython-input-20-f7e54a92a816>:19: DeprecationWarning: find_elements_by_* commands are deprecated. Please use find_elements() instead\n",
      "  disc=driver.find_elements_by_xpath('//div[@class=\"_2WkVRV\"]')\n"
     ]
    }
   ],
   "source": [
    "\n",
    "Brand=driver.find_elements_by_xpath('//div[@class=\"_2WkVRV\"]')\n",
    "for i in Brand:\n",
    "    brd_=i.text\n",
    "    BRAND.append(brd_)\n",
    "\n",
    "des=driver.find_elements_by_xpath('//a[@class=\"IRpwTa\"]')\n",
    "for j in des:\n",
    "    des_=j.text\n",
    "    DESC.append(des_)\n",
    "\n",
    "\n",
    "\n",
    "prc=driver.find_elements_by_xpath('//div[@class=\"_30jeq3\"]')\n",
    "for k in prc:\n",
    "    prc_=k.text\n",
    "    PRICE.append(prc_)\n",
    "    \n",
    "\n",
    "disc=driver.find_elements_by_xpath('//div[@class=\"_2WkVRV\"]')\n",
    "for l in disc:\n",
    "    disc_=l.text\n",
    "    DISC.append(disc_)    "
   ]
  },
  {
   "cell_type": "code",
   "execution_count": 25,
   "id": "84d31ee5",
   "metadata": {},
   "outputs": [
    {
     "data": {
      "text/plain": [
       "120"
      ]
     },
     "execution_count": 25,
     "metadata": {},
     "output_type": "execute_result"
    }
   ],
   "source": [
    "len(DISC)"
   ]
  },
  {
   "cell_type": "code",
   "execution_count": 21,
   "id": "3dbed875",
   "metadata": {},
   "outputs": [
    {
     "name": "stderr",
     "output_type": "stream",
     "text": [
      "<ipython-input-21-2dd5f0b6a7cd>:1: DeprecationWarning: find_elements_by_* commands are deprecated. Please use find_elements() instead\n",
      "  desrb=driver.find_elements_by_xpath('//a[@class=\"IRpwTa _2-ICcC\"]')\n"
     ]
    }
   ],
   "source": [
    "desrb=driver.find_elements_by_xpath('//a[@class=\"IRpwTa _2-ICcC\"]')\n",
    "for j in desrb:\n",
    "    des_=j.text\n",
    "    DESC.append(des_)\n"
   ]
  },
  {
   "cell_type": "code",
   "execution_count": 24,
   "id": "09bc7bde",
   "metadata": {},
   "outputs": [
    {
     "data": {
      "text/plain": [
       "120"
      ]
     },
     "execution_count": 24,
     "metadata": {},
     "output_type": "execute_result"
    }
   ],
   "source": [
    "len(PRICE)"
   ]
  },
  {
   "cell_type": "code",
   "execution_count": 27,
   "id": "1caddb23",
   "metadata": {},
   "outputs": [],
   "source": [
    "BRAND=BRAND[0:100]\n",
    "DESC=DESC[0:100]\n",
    "PRICE=PRICE[0:100]\n",
    "DISC=DISC[0:100]"
   ]
  },
  {
   "cell_type": "code",
   "execution_count": 28,
   "id": "31b3fd56",
   "metadata": {},
   "outputs": [
    {
     "data": {
      "text/html": [
       "<div>\n",
       "<style scoped>\n",
       "    .dataframe tbody tr th:only-of-type {\n",
       "        vertical-align: middle;\n",
       "    }\n",
       "\n",
       "    .dataframe tbody tr th {\n",
       "        vertical-align: top;\n",
       "    }\n",
       "\n",
       "    .dataframe thead th {\n",
       "        text-align: right;\n",
       "    }\n",
       "</style>\n",
       "<table border=\"1\" class=\"dataframe\">\n",
       "  <thead>\n",
       "    <tr style=\"text-align: right;\">\n",
       "      <th></th>\n",
       "      <th>BRAND</th>\n",
       "      <th>DESC</th>\n",
       "      <th>PRICE</th>\n",
       "      <th>DISC</th>\n",
       "    </tr>\n",
       "  </thead>\n",
       "  <tbody>\n",
       "    <tr>\n",
       "      <th>0</th>\n",
       "      <td>RapidBox</td>\n",
       "      <td>White Sneaker For Men's/Boy's Sneakers For Men</td>\n",
       "      <td>₹680</td>\n",
       "      <td>RapidBox</td>\n",
       "    </tr>\n",
       "    <tr>\n",
       "      <th>1</th>\n",
       "      <td>Shoes Bank</td>\n",
       "      <td>Luxury Branded Fashionable Men's Casual Walkin...</td>\n",
       "      <td>₹345</td>\n",
       "      <td>Shoes Bank</td>\n",
       "    </tr>\n",
       "    <tr>\n",
       "      <th>2</th>\n",
       "      <td>Edoeviv</td>\n",
       "      <td>Super Stylish &amp; Trendy Combo Pack of 02 Pairs ...</td>\n",
       "      <td>₹499</td>\n",
       "      <td>Edoeviv</td>\n",
       "    </tr>\n",
       "    <tr>\n",
       "      <th>3</th>\n",
       "      <td>Chevit</td>\n",
       "      <td>Sneakers For Men</td>\n",
       "      <td>₹625</td>\n",
       "      <td>Chevit</td>\n",
       "    </tr>\n",
       "    <tr>\n",
       "      <th>4</th>\n",
       "      <td>Numenzo</td>\n",
       "      <td>Modern Trendy Sneakers Shoes Sneakers For Men</td>\n",
       "      <td>₹479</td>\n",
       "      <td>Numenzo</td>\n",
       "    </tr>\n",
       "    <tr>\n",
       "      <th>...</th>\n",
       "      <td>...</td>\n",
       "      <td>...</td>\n",
       "      <td>...</td>\n",
       "      <td>...</td>\n",
       "    </tr>\n",
       "    <tr>\n",
       "      <th>95</th>\n",
       "      <td>India hub</td>\n",
       "      <td>Combo Pack of 3 Casual Shoes, Sneakers For Men</td>\n",
       "      <td>₹499</td>\n",
       "      <td>India hub</td>\n",
       "    </tr>\n",
       "    <tr>\n",
       "      <th>96</th>\n",
       "      <td>K' Footlance</td>\n",
       "      <td>Sneakers For Men</td>\n",
       "      <td>₹424</td>\n",
       "      <td>K' Footlance</td>\n",
       "    </tr>\n",
       "    <tr>\n",
       "      <th>97</th>\n",
       "      <td>PEXLO</td>\n",
       "      <td>Casual Sneakers Shoes For Men Sneakers For Men</td>\n",
       "      <td>₹588</td>\n",
       "      <td>PEXLO</td>\n",
       "    </tr>\n",
       "    <tr>\n",
       "      <th>98</th>\n",
       "      <td>Robbie jones</td>\n",
       "      <td>Lazy Knit Slip On Sneakers For Men</td>\n",
       "      <td>₹499</td>\n",
       "      <td>Robbie jones</td>\n",
       "    </tr>\n",
       "    <tr>\n",
       "      <th>99</th>\n",
       "      <td>Robbie jones</td>\n",
       "      <td>Sneakers For Men</td>\n",
       "      <td>₹449</td>\n",
       "      <td>Robbie jones</td>\n",
       "    </tr>\n",
       "  </tbody>\n",
       "</table>\n",
       "<p>100 rows × 4 columns</p>\n",
       "</div>"
      ],
      "text/plain": [
       "           BRAND                                               DESC PRICE  \\\n",
       "0       RapidBox     White Sneaker For Men's/Boy's Sneakers For Men  ₹680   \n",
       "1     Shoes Bank  Luxury Branded Fashionable Men's Casual Walkin...  ₹345   \n",
       "2        Edoeviv  Super Stylish & Trendy Combo Pack of 02 Pairs ...  ₹499   \n",
       "3         Chevit                                   Sneakers For Men  ₹625   \n",
       "4        Numenzo      Modern Trendy Sneakers Shoes Sneakers For Men  ₹479   \n",
       "..           ...                                                ...   ...   \n",
       "95     India hub     Combo Pack of 3 Casual Shoes, Sneakers For Men  ₹499   \n",
       "96  K' Footlance                                   Sneakers For Men  ₹424   \n",
       "97         PEXLO     Casual Sneakers Shoes For Men Sneakers For Men  ₹588   \n",
       "98  Robbie jones                 Lazy Knit Slip On Sneakers For Men  ₹499   \n",
       "99  Robbie jones                                   Sneakers For Men  ₹449   \n",
       "\n",
       "            DISC  \n",
       "0       RapidBox  \n",
       "1     Shoes Bank  \n",
       "2        Edoeviv  \n",
       "3         Chevit  \n",
       "4        Numenzo  \n",
       "..           ...  \n",
       "95     India hub  \n",
       "96  K' Footlance  \n",
       "97         PEXLO  \n",
       "98  Robbie jones  \n",
       "99  Robbie jones  \n",
       "\n",
       "[100 rows x 4 columns]"
      ]
     },
     "execution_count": 28,
     "metadata": {},
     "output_type": "execute_result"
    }
   ],
   "source": [
    "SNEAKERS=pd.DataFrame({})\n",
    "SNEAKERS['BRAND']=BRAND\n",
    "SNEAKERS['DESC']=DESC\n",
    "SNEAKERS['PRICE']=PRICE\n",
    "SNEAKERS['DISC']=DISC\n",
    "SNEAKERS"
   ]
  },
  {
   "cell_type": "markdown",
   "id": "9790d02d",
   "metadata": {},
   "source": [
    "# Q7:scrape First 100 shoes data you get. The data should include “Brand” of the shoes , Short Shoedescription, price of the shoe\n"
   ]
  },
  {
   "cell_type": "code",
   "execution_count": 143,
   "id": "24deeb01",
   "metadata": {},
   "outputs": [],
   "source": [
    "url3=('https://www.myntra.com/shoes?f=Color%3ABlack_36454f&p=2&rf=Price%3A7195.0_14130.0_7195.0%20TO%2014130.0%2C7224.0_14149.0_7224.0%20TO%2014149.0')"
   ]
  },
  {
   "cell_type": "code",
   "execution_count": 144,
   "id": "c76f2f8d",
   "metadata": {},
   "outputs": [],
   "source": [
    "driver.get(url3)"
   ]
  },
  {
   "cell_type": "code",
   "execution_count": 7,
   "id": "44e18e11",
   "metadata": {},
   "outputs": [
    {
     "name": "stderr",
     "output_type": "stream",
     "text": [
      "<ipython-input-7-c3ea73ab0d88>:1: DeprecationWarning: find_element_by_* commands are deprecated. Please use find_element() instead\n",
      "  search2_filt=driver.find_element_by_xpath(\"/html/body/div[2]/div/div[1]/main/div[3]/div[1]/section/div/div[6]/ul/li[1]/label/div\")\n"
     ]
    }
   ],
   "source": [
    "search2_filt=driver.find_element_by_xpath(\"/html/body/div[2]/div/div[1]/main/div[3]/div[1]/section/div/div[6]/ul/li[1]/label/div\")\n",
    "search2_filt.click()\n",
    "\n",
    "search2_filt2=driver.find_element_by_xpath(\"/html/body/div[2]/div/div[1]/main/div[3]/div[1]/section/div/div[5]/ul/li[2]/label/div\")\n",
    "search2_filt2.click()"
   ]
  },
  {
   "cell_type": "code",
   "execution_count": 16,
   "id": "43e40f9e",
   "metadata": {},
   "outputs": [
    {
     "name": "stderr",
     "output_type": "stream",
     "text": [
      "<ipython-input-16-69f19c9f0180>:1: DeprecationWarning: find_elements_by_* commands are deprecated. Please use find_elements() instead\n",
      "  Brand_=driver.find_elements_by_xpath('//h3[@class=\"product-brand\"]')\n",
      "<ipython-input-16-69f19c9f0180>:6: DeprecationWarning: find_elements_by_* commands are deprecated. Please use find_elements() instead\n",
      "  des3=driver.find_elements_by_xpath('//h4[@class=\"product-product\"]')\n",
      "<ipython-input-16-69f19c9f0180>:13: DeprecationWarning: find_elements_by_* commands are deprecated. Please use find_elements() instead\n",
      "  prc3=driver.find_elements_by_xpath('//div[@class=\"product-price\"]/span')\n"
     ]
    }
   ],
   "source": [
    "\n",
    "Brand_=driver.find_elements_by_xpath('//h3[@class=\"product-brand\"]')\n",
    "for i in Brand_:\n",
    "    brd_=i.text\n",
    "    B_rand.append(brd_)\n",
    "\n",
    "des3=driver.find_elements_by_xpath('//h4[@class=\"product-product\"]')\n",
    "for j in des3:\n",
    "    des_=j.text\n",
    "    D_esc.append(des_)\n",
    "\n",
    "\n",
    "\n",
    "prc3=driver.find_elements_by_xpath('//div[@class=\"product-price\"]/span')\n",
    "for k in prc3:\n",
    "    prc_=k.text\n",
    "    P_rice.append(prc_)\n",
    "    \n",
    "\n"
   ]
  },
  {
   "cell_type": "code",
   "execution_count": 92,
   "id": "4bb3d1d1",
   "metadata": {},
   "outputs": [],
   "source": [
    "B_rand=[]\n",
    "D_esc=[]\n",
    "P_rice=[]"
   ]
  },
  {
   "cell_type": "code",
   "execution_count": 172,
   "id": "ce626ca1",
   "metadata": {},
   "outputs": [
    {
     "data": {
      "text/plain": [
       "98"
      ]
     },
     "execution_count": 172,
     "metadata": {},
     "output_type": "execute_result"
    }
   ],
   "source": [
    "index=P_rice.index('(20% OFF)')\n",
    "index"
   ]
  },
  {
   "cell_type": "code",
   "execution_count": 173,
   "id": "f24d64ab",
   "metadata": {},
   "outputs": [
    {
     "data": {
      "text/plain": [
       "'(20% OFF)'"
      ]
     },
     "execution_count": 173,
     "metadata": {},
     "output_type": "execute_result"
    }
   ],
   "source": [
    "P_rice.pop(98)\n"
   ]
  },
  {
   "cell_type": "code",
   "execution_count": 138,
   "id": "4c1b6ae6",
   "metadata": {},
   "outputs": [
    {
     "data": {
      "text/plain": [
       "50"
      ]
     },
     "execution_count": 138,
     "metadata": {},
     "output_type": "execute_result"
    }
   ],
   "source": [
    "len(P_rice)"
   ]
  },
  {
   "cell_type": "code",
   "execution_count": 175,
   "id": "dd4650a7",
   "metadata": {},
   "outputs": [
    {
     "data": {
      "text/plain": [
       "(100, 100, 100)"
      ]
     },
     "execution_count": 175,
     "metadata": {},
     "output_type": "execute_result"
    }
   ],
   "source": [
    "len(B_rand),len(D_esc),len(P_rice)"
   ]
  },
  {
   "cell_type": "code",
   "execution_count": 176,
   "id": "334bf0c9",
   "metadata": {},
   "outputs": [
    {
     "data": {
      "text/html": [
       "<div>\n",
       "<style scoped>\n",
       "    .dataframe tbody tr th:only-of-type {\n",
       "        vertical-align: middle;\n",
       "    }\n",
       "\n",
       "    .dataframe tbody tr th {\n",
       "        vertical-align: top;\n",
       "    }\n",
       "\n",
       "    .dataframe thead th {\n",
       "        text-align: right;\n",
       "    }\n",
       "</style>\n",
       "<table border=\"1\" class=\"dataframe\">\n",
       "  <thead>\n",
       "    <tr style=\"text-align: right;\">\n",
       "      <th></th>\n",
       "      <th>BRAND</th>\n",
       "      <th>DESC</th>\n",
       "      <th>PRICE</th>\n",
       "    </tr>\n",
       "  </thead>\n",
       "  <tbody>\n",
       "    <tr>\n",
       "      <th>0</th>\n",
       "      <td>Nike</td>\n",
       "      <td>Men Zoom Span 4 Running Shoes</td>\n",
       "      <td>Rs. 7195</td>\n",
       "    </tr>\n",
       "    <tr>\n",
       "      <th>1</th>\n",
       "      <td>UNDER ARMOUR</td>\n",
       "      <td>Men HOVR Apex 2 Training</td>\n",
       "      <td>Rs. 13999</td>\n",
       "    </tr>\n",
       "    <tr>\n",
       "      <th>2</th>\n",
       "      <td>Nike</td>\n",
       "      <td>Men FLIGHT LEGACY Sneakers</td>\n",
       "      <td>Rs. 7995</td>\n",
       "    </tr>\n",
       "    <tr>\n",
       "      <th>3</th>\n",
       "      <td>Puma</td>\n",
       "      <td>Men Deviate Nitro Running Shoe</td>\n",
       "      <td>Rs. 11249Rs. 14999</td>\n",
       "    </tr>\n",
       "    <tr>\n",
       "      <th>4</th>\n",
       "      <td>ASICS</td>\n",
       "      <td>Men GEL-KAYANO 27 Shoes</td>\n",
       "      <td>Rs. 11999Rs. 14999</td>\n",
       "    </tr>\n",
       "    <tr>\n",
       "      <th>...</th>\n",
       "      <td>...</td>\n",
       "      <td>...</td>\n",
       "      <td>...</td>\n",
       "    </tr>\n",
       "    <tr>\n",
       "      <th>95</th>\n",
       "      <td>Clarks</td>\n",
       "      <td>Men Leather Solid Sneakers</td>\n",
       "      <td>Rs. 7499</td>\n",
       "    </tr>\n",
       "    <tr>\n",
       "      <th>96</th>\n",
       "      <td>DAVINCHI</td>\n",
       "      <td>Men Textured Formal Leather Oxfords</td>\n",
       "      <td>Rs. 7990</td>\n",
       "    </tr>\n",
       "    <tr>\n",
       "      <th>97</th>\n",
       "      <td>ADIDAS</td>\n",
       "      <td>Men Supernova+ Running Shoes</td>\n",
       "      <td>Rs. 9599Rs. 11999</td>\n",
       "    </tr>\n",
       "    <tr>\n",
       "      <th>98</th>\n",
       "      <td>ADIDAS</td>\n",
       "      <td>Men X9000L3 Running Shoes</td>\n",
       "      <td>Rs. 11999</td>\n",
       "    </tr>\n",
       "    <tr>\n",
       "      <th>99</th>\n",
       "      <td>Pavers England</td>\n",
       "      <td>Men Leather Driving Shoes</td>\n",
       "      <td>Rs. 7499</td>\n",
       "    </tr>\n",
       "  </tbody>\n",
       "</table>\n",
       "<p>100 rows × 3 columns</p>\n",
       "</div>"
      ],
      "text/plain": [
       "             BRAND                                 DESC               PRICE\n",
       "0             Nike        Men Zoom Span 4 Running Shoes            Rs. 7195\n",
       "1     UNDER ARMOUR             Men HOVR Apex 2 Training           Rs. 13999\n",
       "2             Nike           Men FLIGHT LEGACY Sneakers            Rs. 7995\n",
       "3             Puma       Men Deviate Nitro Running Shoe  Rs. 11249Rs. 14999\n",
       "4            ASICS              Men GEL-KAYANO 27 Shoes  Rs. 11999Rs. 14999\n",
       "..             ...                                  ...                 ...\n",
       "95          Clarks           Men Leather Solid Sneakers            Rs. 7499\n",
       "96        DAVINCHI  Men Textured Formal Leather Oxfords            Rs. 7990\n",
       "97          ADIDAS         Men Supernova+ Running Shoes   Rs. 9599Rs. 11999\n",
       "98          ADIDAS            Men X9000L3 Running Shoes           Rs. 11999\n",
       "99  Pavers England            Men Leather Driving Shoes            Rs. 7499\n",
       "\n",
       "[100 rows x 3 columns]"
      ]
     },
     "execution_count": 176,
     "metadata": {},
     "output_type": "execute_result"
    }
   ],
   "source": [
    "SHOESMYNTRA=pd.DataFrame({})\n",
    "SHOESMYNTRA['BRAND']=B_rand\n",
    "SHOESMYNTRA['DESC']=D_esc\n",
    "SHOESMYNTRA['PRICE']=P_rice\n",
    "\n",
    "SHOESMYNTRA\n"
   ]
  },
  {
   "cell_type": "markdown",
   "id": "fb94ba6f",
   "metadata": {},
   "source": [
    "# Q8:You have to scrape 3 attributes for each laptop: "
   ]
  },
  {
   "cell_type": "code",
   "execution_count": 3,
   "id": "27fcd244",
   "metadata": {},
   "outputs": [],
   "source": [
    "url8=('https://www.amazon.in/')"
   ]
  },
  {
   "cell_type": "code",
   "execution_count": 4,
   "id": "204c8e47",
   "metadata": {},
   "outputs": [],
   "source": [
    "driver.get(url8)"
   ]
  },
  {
   "cell_type": "code",
   "execution_count": 5,
   "id": "25cd1772",
   "metadata": {},
   "outputs": [
    {
     "name": "stderr",
     "output_type": "stream",
     "text": [
      "<ipython-input-5-68d0867024b7>:1: DeprecationWarning: find_element_by_* commands are deprecated. Please use find_element() instead\n",
      "  search_job=driver.find_element_by_id(\"twotabsearchtextbox\")\n"
     ]
    }
   ],
   "source": [
    "search_job=driver.find_element_by_id(\"twotabsearchtextbox\")\n",
    "search_job.send_keys('Laptop')"
   ]
  },
  {
   "cell_type": "code",
   "execution_count": 6,
   "id": "fe6e83e3",
   "metadata": {},
   "outputs": [
    {
     "name": "stderr",
     "output_type": "stream",
     "text": [
      "<ipython-input-6-e6b2655fecd8>:1: DeprecationWarning: find_element_by_* commands are deprecated. Please use find_element() instead\n",
      "  search_bttn=driver .find_element_by_xpath(\"/html/body/div[1]/header/div/div[1]/div[2]/div/form/div[3]/div/span/input\")\n"
     ]
    }
   ],
   "source": [
    "search_bttn=driver .find_element_by_xpath(\"/html/body/div[1]/header/div/div[1]/div[2]/div/form/div[3]/div/span/input\")\n",
    "search_bttn.click()"
   ]
  },
  {
   "cell_type": "code",
   "execution_count": 9,
   "id": "388841e9",
   "metadata": {},
   "outputs": [
    {
     "name": "stderr",
     "output_type": "stream",
     "text": [
      "<ipython-input-9-130305e5b89b>:1: DeprecationWarning: find_element_by_* commands are deprecated. Please use find_element() instead\n",
      "  search_i7=driver .find_element_by_xpath(\"/html/body/div[1]/div[2]/div[1]/div[2]/div/div[3]/span/div[1]/span/div/div/div[5]/ul[2]/li[11]/span/a/div/label/i\")\n"
     ]
    }
   ],
   "source": [
    "search_i7=driver .find_element_by_xpath(\"/html/body/div[1]/div[2]/div[1]/div[2]/div/div[3]/span/div[1]/span/div/div/div[5]/ul[2]/li[11]/span/a/div/label/i\")\n",
    "search_i7.click()"
   ]
  },
  {
   "cell_type": "code",
   "execution_count": 10,
   "id": "8fa73194",
   "metadata": {},
   "outputs": [],
   "source": [
    "Title_TAG=[]"
   ]
  },
  {
   "cell_type": "code",
   "execution_count": 11,
   "id": "fa5aeade",
   "metadata": {},
   "outputs": [
    {
     "name": "stderr",
     "output_type": "stream",
     "text": [
      "<ipython-input-11-9ee8a36090fb>:1: DeprecationWarning: find_elements_by_* commands are deprecated. Please use find_elements() instead\n",
      "  Title_=driver.find_elements_by_xpath('//span[@class=\"a-size-medium a-color-base a-text-normal\"]')\n"
     ]
    }
   ],
   "source": [
    "Title_=driver.find_elements_by_xpath('//span[@class=\"a-size-medium a-color-base a-text-normal\"]')\n",
    "for i in Title_:\n",
    "    brd_=i.text\n",
    "    Title_TAG.append(brd_)"
   ]
  },
  {
   "cell_type": "code",
   "execution_count": 49,
   "id": "7a13a520",
   "metadata": {},
   "outputs": [
    {
     "data": {
      "text/plain": [
       "''"
      ]
     },
     "execution_count": 49,
     "metadata": {},
     "output_type": "execute_result"
    }
   ],
   "source": [
    "Title_TAG.pop(-1)"
   ]
  },
  {
   "cell_type": "code",
   "execution_count": 51,
   "id": "17362897",
   "metadata": {},
   "outputs": [
    {
     "data": {
      "text/plain": [
       "24"
      ]
     },
     "execution_count": 51,
     "metadata": {},
     "output_type": "execute_result"
    }
   ],
   "source": [
    "len(Title_TAG)"
   ]
  },
  {
   "cell_type": "code",
   "execution_count": 52,
   "id": "01865b3a",
   "metadata": {},
   "outputs": [],
   "source": [
    "R_A_T_I_N_G=[]"
   ]
  },
  {
   "cell_type": "code",
   "execution_count": 74,
   "id": "d9833c0d",
   "metadata": {},
   "outputs": [
    {
     "name": "stderr",
     "output_type": "stream",
     "text": [
      "<ipython-input-74-bf3a313d3d05>:1: DeprecationWarning: find_elements_by_* commands are deprecated. Please use find_elements() instead\n",
      "  R_A_T_3=driver.find_elements_by_xpath('//div[@class=\"a-row a-size-small\"]/span')\n"
     ]
    }
   ],
   "source": [
    "R_A_T_3=driver.find_elements_by_xpath('//div[@class=\"a-row a-size-small\"]/span')\n"
   ]
  },
  {
   "cell_type": "code",
   "execution_count": 75,
   "id": "ddc4545d",
   "metadata": {},
   "outputs": [
    {
     "data": {
      "text/plain": [
       "[<selenium.webdriver.remote.webelement.WebElement (session=\"6f491a20533552da3604c62f0eee13d1\", element=\"21b042e6-f3ce-42e5-93ae-21be71acf956\")>,\n",
       " <selenium.webdriver.remote.webelement.WebElement (session=\"6f491a20533552da3604c62f0eee13d1\", element=\"245ec1f9-2427-4f1d-a44a-f1ee2528a23d\")>,\n",
       " <selenium.webdriver.remote.webelement.WebElement (session=\"6f491a20533552da3604c62f0eee13d1\", element=\"9ab4e3ff-0aa1-4ad5-9a8f-38d7052879bb\")>,\n",
       " <selenium.webdriver.remote.webelement.WebElement (session=\"6f491a20533552da3604c62f0eee13d1\", element=\"eb5ca51a-2d1a-430b-bb53-d41a53a28f3c\")>,\n",
       " <selenium.webdriver.remote.webelement.WebElement (session=\"6f491a20533552da3604c62f0eee13d1\", element=\"71d7bcd7-8abd-4a2c-8898-5ed95f7dbd63\")>,\n",
       " <selenium.webdriver.remote.webelement.WebElement (session=\"6f491a20533552da3604c62f0eee13d1\", element=\"5f212a2a-0dff-4edb-b65c-0d07cd09bb6f\")>,\n",
       " <selenium.webdriver.remote.webelement.WebElement (session=\"6f491a20533552da3604c62f0eee13d1\", element=\"8a2a1ca9-a10b-416a-ac48-403883fd0068\")>,\n",
       " <selenium.webdriver.remote.webelement.WebElement (session=\"6f491a20533552da3604c62f0eee13d1\", element=\"803963cd-45a7-403e-a002-ddbc2e5f31d1\")>,\n",
       " <selenium.webdriver.remote.webelement.WebElement (session=\"6f491a20533552da3604c62f0eee13d1\", element=\"b2d99d36-bb32-4036-83a9-198cd6c4d9b2\")>,\n",
       " <selenium.webdriver.remote.webelement.WebElement (session=\"6f491a20533552da3604c62f0eee13d1\", element=\"e29b9b77-85ad-4b47-9ac6-0692f4bf3aa1\")>,\n",
       " <selenium.webdriver.remote.webelement.WebElement (session=\"6f491a20533552da3604c62f0eee13d1\", element=\"05fb9300-bf0b-4c3a-a54c-b02fec48f5fd\")>,\n",
       " <selenium.webdriver.remote.webelement.WebElement (session=\"6f491a20533552da3604c62f0eee13d1\", element=\"e18e23e1-6cba-40fe-abae-a5f2cb010d9b\")>,\n",
       " <selenium.webdriver.remote.webelement.WebElement (session=\"6f491a20533552da3604c62f0eee13d1\", element=\"df2fcd91-f651-43da-915b-81b4c6bbdaea\")>,\n",
       " <selenium.webdriver.remote.webelement.WebElement (session=\"6f491a20533552da3604c62f0eee13d1\", element=\"70e81545-380d-4905-ab04-c622717022ed\")>,\n",
       " <selenium.webdriver.remote.webelement.WebElement (session=\"6f491a20533552da3604c62f0eee13d1\", element=\"90e31b56-8c1c-4f3c-982e-f7178fc818e5\")>,\n",
       " <selenium.webdriver.remote.webelement.WebElement (session=\"6f491a20533552da3604c62f0eee13d1\", element=\"c900b693-dc85-4f4a-8fe5-6b250fd878a7\")>,\n",
       " <selenium.webdriver.remote.webelement.WebElement (session=\"6f491a20533552da3604c62f0eee13d1\", element=\"c2236c48-d4cf-46af-9f33-62cfa2de87bd\")>,\n",
       " <selenium.webdriver.remote.webelement.WebElement (session=\"6f491a20533552da3604c62f0eee13d1\", element=\"5bd040bc-b2b2-4804-8b95-403ba7987c07\")>,\n",
       " <selenium.webdriver.remote.webelement.WebElement (session=\"6f491a20533552da3604c62f0eee13d1\", element=\"2133b420-086c-4da6-a086-0e0bb225c430\")>,\n",
       " <selenium.webdriver.remote.webelement.WebElement (session=\"6f491a20533552da3604c62f0eee13d1\", element=\"98186cef-9b70-4ef2-98c1-22231f2e3b0b\")>,\n",
       " <selenium.webdriver.remote.webelement.WebElement (session=\"6f491a20533552da3604c62f0eee13d1\", element=\"90c25112-298f-4f21-bd35-55b47098cd4c\")>,\n",
       " <selenium.webdriver.remote.webelement.WebElement (session=\"6f491a20533552da3604c62f0eee13d1\", element=\"828ae787-527b-4e24-a4c3-de87b1949494\")>,\n",
       " <selenium.webdriver.remote.webelement.WebElement (session=\"6f491a20533552da3604c62f0eee13d1\", element=\"ec1f22d2-24b7-4f50-b806-7c3c4911c0fd\")>,\n",
       " <selenium.webdriver.remote.webelement.WebElement (session=\"6f491a20533552da3604c62f0eee13d1\", element=\"06c4fe03-a53f-4ba2-ba24-699d13d0a178\")>,\n",
       " <selenium.webdriver.remote.webelement.WebElement (session=\"6f491a20533552da3604c62f0eee13d1\", element=\"6fe76336-b038-4247-8118-b630e70def6e\")>,\n",
       " <selenium.webdriver.remote.webelement.WebElement (session=\"6f491a20533552da3604c62f0eee13d1\", element=\"80519614-8252-4314-ae26-5acaba286570\")>,\n",
       " <selenium.webdriver.remote.webelement.WebElement (session=\"6f491a20533552da3604c62f0eee13d1\", element=\"bb19a424-7bca-433b-8888-c638dee50676\")>,\n",
       " <selenium.webdriver.remote.webelement.WebElement (session=\"6f491a20533552da3604c62f0eee13d1\", element=\"b443e136-d621-484e-be06-b1e8919af5b8\")>,\n",
       " <selenium.webdriver.remote.webelement.WebElement (session=\"6f491a20533552da3604c62f0eee13d1\", element=\"f599b642-13d4-4462-ae67-f5dc7c07aae0\")>,\n",
       " <selenium.webdriver.remote.webelement.WebElement (session=\"6f491a20533552da3604c62f0eee13d1\", element=\"2b07274f-0068-44f9-8cbc-96256a49cbe1\")>,\n",
       " <selenium.webdriver.remote.webelement.WebElement (session=\"6f491a20533552da3604c62f0eee13d1\", element=\"39457c5d-967c-4523-8e87-751e9ba154a3\")>,\n",
       " <selenium.webdriver.remote.webelement.WebElement (session=\"6f491a20533552da3604c62f0eee13d1\", element=\"c827cad7-48b4-4108-989a-02a6c3762cf7\")>,\n",
       " <selenium.webdriver.remote.webelement.WebElement (session=\"6f491a20533552da3604c62f0eee13d1\", element=\"57ed9702-1a1a-4039-b486-df1f668f78a6\")>,\n",
       " <selenium.webdriver.remote.webelement.WebElement (session=\"6f491a20533552da3604c62f0eee13d1\", element=\"775047f4-6c68-4127-8a9b-d51097669587\")>,\n",
       " <selenium.webdriver.remote.webelement.WebElement (session=\"6f491a20533552da3604c62f0eee13d1\", element=\"865e825f-0f18-4c46-b9be-9b10292d3457\")>,\n",
       " <selenium.webdriver.remote.webelement.WebElement (session=\"6f491a20533552da3604c62f0eee13d1\", element=\"cca1a81a-18ad-4125-af18-6b87f6fe4ffc\")>,\n",
       " <selenium.webdriver.remote.webelement.WebElement (session=\"6f491a20533552da3604c62f0eee13d1\", element=\"967af719-4d82-4b41-939c-81fd62988a27\")>,\n",
       " <selenium.webdriver.remote.webelement.WebElement (session=\"6f491a20533552da3604c62f0eee13d1\", element=\"bc4034c5-f79a-49e6-91d3-8a95df20f08c\")>,\n",
       " <selenium.webdriver.remote.webelement.WebElement (session=\"6f491a20533552da3604c62f0eee13d1\", element=\"29921619-46d8-4452-9420-b0977a0e4579\")>,\n",
       " <selenium.webdriver.remote.webelement.WebElement (session=\"6f491a20533552da3604c62f0eee13d1\", element=\"5f24c4ab-c8d8-4c29-a25d-7177f2cddec5\")>,\n",
       " <selenium.webdriver.remote.webelement.WebElement (session=\"6f491a20533552da3604c62f0eee13d1\", element=\"6dbcfb78-df91-4558-bebd-595eb659b0bd\")>,\n",
       " <selenium.webdriver.remote.webelement.WebElement (session=\"6f491a20533552da3604c62f0eee13d1\", element=\"79c1275a-40d5-4c29-ba0a-6f5c293b8b29\")>,\n",
       " <selenium.webdriver.remote.webelement.WebElement (session=\"6f491a20533552da3604c62f0eee13d1\", element=\"62da1524-6476-4bd9-895f-8ba30de9d2d7\")>,\n",
       " <selenium.webdriver.remote.webelement.WebElement (session=\"6f491a20533552da3604c62f0eee13d1\", element=\"c99e5ebd-258c-40c7-bb45-1cc3fa588749\")>,\n",
       " <selenium.webdriver.remote.webelement.WebElement (session=\"6f491a20533552da3604c62f0eee13d1\", element=\"99c672fc-94d0-4972-90b7-74e156c28755\")>,\n",
       " <selenium.webdriver.remote.webelement.WebElement (session=\"6f491a20533552da3604c62f0eee13d1\", element=\"4be84225-ed6f-4670-95a2-ba238991f7f8\")>,\n",
       " <selenium.webdriver.remote.webelement.WebElement (session=\"6f491a20533552da3604c62f0eee13d1\", element=\"e06b5bd4-b2a2-49c4-86ef-e40f7047307f\")>,\n",
       " <selenium.webdriver.remote.webelement.WebElement (session=\"6f491a20533552da3604c62f0eee13d1\", element=\"14356e94-4404-461b-8da6-750588df171f\")>,\n",
       " <selenium.webdriver.remote.webelement.WebElement (session=\"6f491a20533552da3604c62f0eee13d1\", element=\"154b1dfa-efd8-4c04-9996-14621e389b11\")>,\n",
       " <selenium.webdriver.remote.webelement.WebElement (session=\"6f491a20533552da3604c62f0eee13d1\", element=\"92fb049b-14fe-420a-be09-7bc3e9fc5983\")>,\n",
       " <selenium.webdriver.remote.webelement.WebElement (session=\"6f491a20533552da3604c62f0eee13d1\", element=\"935466c9-1d2d-469a-a906-c3319281522d\")>,\n",
       " <selenium.webdriver.remote.webelement.WebElement (session=\"6f491a20533552da3604c62f0eee13d1\", element=\"61e99b65-382b-46fd-8b68-784d4213c293\")>,\n",
       " <selenium.webdriver.remote.webelement.WebElement (session=\"6f491a20533552da3604c62f0eee13d1\", element=\"1e53aa2b-7841-4629-ab8e-51a0fb4cb66c\")>,\n",
       " <selenium.webdriver.remote.webelement.WebElement (session=\"6f491a20533552da3604c62f0eee13d1\", element=\"194d28d0-9bf8-4aa3-8515-9fe195029513\")>,\n",
       " <selenium.webdriver.remote.webelement.WebElement (session=\"6f491a20533552da3604c62f0eee13d1\", element=\"9facaa4d-19d5-4318-86d4-ff1a40cc8980\")>,\n",
       " <selenium.webdriver.remote.webelement.WebElement (session=\"6f491a20533552da3604c62f0eee13d1\", element=\"04ada525-c5d5-40a5-93eb-9c9112a0e7ef\")>,\n",
       " <selenium.webdriver.remote.webelement.WebElement (session=\"6f491a20533552da3604c62f0eee13d1\", element=\"2bc014fa-02ff-4e83-9a92-0ca0fb4c4318\")>,\n",
       " <selenium.webdriver.remote.webelement.WebElement (session=\"6f491a20533552da3604c62f0eee13d1\", element=\"6c9ba6d0-8b8e-4864-b442-3135705d7f9d\")>]"
      ]
     },
     "execution_count": 75,
     "metadata": {},
     "output_type": "execute_result"
    }
   ],
   "source": [
    "R_A_T_3"
   ]
  },
  {
   "cell_type": "code",
   "execution_count": 80,
   "id": "37df9875",
   "metadata": {},
   "outputs": [],
   "source": [
    "for i in R_A_T_3:\n",
    "    rbc=(i.get_attribute('aria-label'))\n",
    "    R_A_T_I_N_G.append(rbc)"
   ]
  },
  {
   "cell_type": "code",
   "execution_count": 83,
   "id": "398b1b55",
   "metadata": {},
   "outputs": [
    {
     "data": {
      "text/plain": [
       "['4.3 out of 5 stars',\n",
       " '28',\n",
       " '4.1 out of 5 stars',\n",
       " '112',\n",
       " '4.3 out of 5 stars',\n",
       " '572',\n",
       " '4.3 out of 5 stars',\n",
       " '508',\n",
       " '4.2 out of 5 stars',\n",
       " '960',\n",
       " '4.3 out of 5 stars',\n",
       " '30',\n",
       " '4.3 out of 5 stars',\n",
       " '36',\n",
       " '4.4 out of 5 stars',\n",
       " '175',\n",
       " '4.6 out of 5 stars',\n",
       " '5',\n",
       " '3.8 out of 5 stars',\n",
       " '7',\n",
       " '4.5 out of 5 stars',\n",
       " '94',\n",
       " '4.1 out of 5 stars',\n",
       " '112',\n",
       " '4.1 out of 5 stars',\n",
       " '63',\n",
       " '4.6 out of 5 stars',\n",
       " '24',\n",
       " '4.2 out of 5 stars',\n",
       " '960',\n",
       " '4.4 out of 5 stars',\n",
       " '22',\n",
       " '4.0 out of 5 stars',\n",
       " '182',\n",
       " '5.0 out of 5 stars',\n",
       " '2',\n",
       " '4.4 out of 5 stars',\n",
       " '73',\n",
       " '4.2 out of 5 stars',\n",
       " '8',\n",
       " '3.9 out of 5 stars',\n",
       " '9',\n",
       " '5.0 out of 5 stars',\n",
       " '4',\n",
       " '4.3 out of 5 stars',\n",
       " '75',\n",
       " '4.0 out of 5 stars',\n",
       " '14',\n",
       " '4.8 out of 5 stars',\n",
       " '6',\n",
       " '4.4 out of 5 stars',\n",
       " '32',\n",
       " '4.3 out of 5 stars',\n",
       " '30',\n",
       " '3.5 out of 5 stars',\n",
       " '6',\n",
       " '4.1 out of 5 stars',\n",
       " '241']"
      ]
     },
     "execution_count": 83,
     "metadata": {},
     "output_type": "execute_result"
    }
   ],
   "source": [
    "R_A_T_I_N_G"
   ]
  },
  {
   "cell_type": "code",
   "execution_count": 87,
   "id": "193c6db8",
   "metadata": {},
   "outputs": [],
   "source": [
    "RATING__=R_A_T_I_N_G[0:58:2]"
   ]
  },
  {
   "cell_type": "code",
   "execution_count": 88,
   "id": "e98ce602",
   "metadata": {},
   "outputs": [
    {
     "data": {
      "text/plain": [
       "29"
      ]
     },
     "execution_count": 88,
     "metadata": {},
     "output_type": "execute_result"
    }
   ],
   "source": [
    "len(RATING__)"
   ]
  },
  {
   "cell_type": "code",
   "execution_count": 111,
   "id": "21de8de6",
   "metadata": {},
   "outputs": [
    {
     "name": "stderr",
     "output_type": "stream",
     "text": [
      "<ipython-input-111-d2659d46afbc>:1: DeprecationWarning: find_elements_by_* commands are deprecated. Please use find_elements() instead\n",
      "  price8=driver.find_elements_by_xpath('//a[@class=\"a-size-base a-link-normal a-text-normal\"]/span')\n"
     ]
    }
   ],
   "source": [
    "price8=driver.find_elements_by_xpath('//a[@class=\"a-size-base a-link-normal a-text-normal\"]/span')\n"
   ]
  },
  {
   "cell_type": "code",
   "execution_count": 109,
   "id": "2af51ff4",
   "metadata": {},
   "outputs": [],
   "source": [
    "price8=[]"
   ]
  },
  {
   "cell_type": "code",
   "execution_count": 112,
   "id": "0caedb39",
   "metadata": {},
   "outputs": [
    {
     "data": {
      "text/plain": [
       "[<selenium.webdriver.remote.webelement.WebElement (session=\"6f491a20533552da3604c62f0eee13d1\", element=\"b691fd9b-73e8-4d64-8977-d464a1fb27b3\")>,\n",
       " <selenium.webdriver.remote.webelement.WebElement (session=\"6f491a20533552da3604c62f0eee13d1\", element=\"18fa009b-7597-4499-8318-7fd103a2a5ce\")>,\n",
       " <selenium.webdriver.remote.webelement.WebElement (session=\"6f491a20533552da3604c62f0eee13d1\", element=\"620d1ac0-1ce7-4eb8-bb01-af122219230a\")>,\n",
       " <selenium.webdriver.remote.webelement.WebElement (session=\"6f491a20533552da3604c62f0eee13d1\", element=\"dde7812f-ac20-49db-a35c-731999702376\")>,\n",
       " <selenium.webdriver.remote.webelement.WebElement (session=\"6f491a20533552da3604c62f0eee13d1\", element=\"b25fbf62-41a9-407b-a97d-8559b15f2ac2\")>,\n",
       " <selenium.webdriver.remote.webelement.WebElement (session=\"6f491a20533552da3604c62f0eee13d1\", element=\"676633b6-3010-4f29-bb56-a76e4817be6d\")>,\n",
       " <selenium.webdriver.remote.webelement.WebElement (session=\"6f491a20533552da3604c62f0eee13d1\", element=\"75adfc51-99a1-4b05-b4f4-241f10dabd3a\")>,\n",
       " <selenium.webdriver.remote.webelement.WebElement (session=\"6f491a20533552da3604c62f0eee13d1\", element=\"99955363-95ce-4ddd-8a70-de17b307bde3\")>,\n",
       " <selenium.webdriver.remote.webelement.WebElement (session=\"6f491a20533552da3604c62f0eee13d1\", element=\"63dfbb58-1001-47b5-9d15-07d52b458136\")>,\n",
       " <selenium.webdriver.remote.webelement.WebElement (session=\"6f491a20533552da3604c62f0eee13d1\", element=\"738b4a11-92d2-4458-a481-6f28a4325063\")>,\n",
       " <selenium.webdriver.remote.webelement.WebElement (session=\"6f491a20533552da3604c62f0eee13d1\", element=\"f21c8602-9a4c-407e-9709-498c2b80c250\")>,\n",
       " <selenium.webdriver.remote.webelement.WebElement (session=\"6f491a20533552da3604c62f0eee13d1\", element=\"6758bbd1-af1a-4024-b3fd-5af161ba0e26\")>,\n",
       " <selenium.webdriver.remote.webelement.WebElement (session=\"6f491a20533552da3604c62f0eee13d1\", element=\"bc1f32bd-86ba-44fe-b342-7ae62d745389\")>,\n",
       " <selenium.webdriver.remote.webelement.WebElement (session=\"6f491a20533552da3604c62f0eee13d1\", element=\"c52cd686-0cb9-4745-aaad-1c7c87a25b9f\")>,\n",
       " <selenium.webdriver.remote.webelement.WebElement (session=\"6f491a20533552da3604c62f0eee13d1\", element=\"88408198-0f37-4796-af5f-1352e058283b\")>,\n",
       " <selenium.webdriver.remote.webelement.WebElement (session=\"6f491a20533552da3604c62f0eee13d1\", element=\"0e1cc5c2-c493-4be5-95c3-a6f499dc6726\")>,\n",
       " <selenium.webdriver.remote.webelement.WebElement (session=\"6f491a20533552da3604c62f0eee13d1\", element=\"87e89d80-3ea5-4013-a514-a16f48cba84a\")>,\n",
       " <selenium.webdriver.remote.webelement.WebElement (session=\"6f491a20533552da3604c62f0eee13d1\", element=\"fd82e728-89b6-4054-beb4-6cc5918834cc\")>,\n",
       " <selenium.webdriver.remote.webelement.WebElement (session=\"6f491a20533552da3604c62f0eee13d1\", element=\"3e21605c-ec22-4388-a770-0f2fa548580a\")>,\n",
       " <selenium.webdriver.remote.webelement.WebElement (session=\"6f491a20533552da3604c62f0eee13d1\", element=\"235e9845-0cc5-4c18-b899-f15c94d6c668\")>,\n",
       " <selenium.webdriver.remote.webelement.WebElement (session=\"6f491a20533552da3604c62f0eee13d1\", element=\"424f5500-ec90-4403-bcba-fc8567f1f3bc\")>,\n",
       " <selenium.webdriver.remote.webelement.WebElement (session=\"6f491a20533552da3604c62f0eee13d1\", element=\"ca100766-9765-48c4-be76-8ad85f5b0a73\")>,\n",
       " <selenium.webdriver.remote.webelement.WebElement (session=\"6f491a20533552da3604c62f0eee13d1\", element=\"95069e06-35f5-4151-ad1c-e85f0e2bab26\")>,\n",
       " <selenium.webdriver.remote.webelement.WebElement (session=\"6f491a20533552da3604c62f0eee13d1\", element=\"fc0d1028-902a-4517-8d48-e6f7253c788a\")>,\n",
       " <selenium.webdriver.remote.webelement.WebElement (session=\"6f491a20533552da3604c62f0eee13d1\", element=\"ad3a0dbf-45c3-449a-b092-8760facf9602\")>,\n",
       " <selenium.webdriver.remote.webelement.WebElement (session=\"6f491a20533552da3604c62f0eee13d1\", element=\"1487393a-81fd-466a-b52b-2df99ff166e2\")>,\n",
       " <selenium.webdriver.remote.webelement.WebElement (session=\"6f491a20533552da3604c62f0eee13d1\", element=\"3d5c60c3-0826-428b-9b89-301c2d3b3f80\")>,\n",
       " <selenium.webdriver.remote.webelement.WebElement (session=\"6f491a20533552da3604c62f0eee13d1\", element=\"50dcf253-4242-4348-911c-e868d2e25e4f\")>,\n",
       " <selenium.webdriver.remote.webelement.WebElement (session=\"6f491a20533552da3604c62f0eee13d1\", element=\"817b90ea-16e1-4741-bc03-3e6925c5be40\")>,\n",
       " <selenium.webdriver.remote.webelement.WebElement (session=\"6f491a20533552da3604c62f0eee13d1\", element=\"576e29de-122b-4d22-b528-d4a7cb6af09f\")>,\n",
       " <selenium.webdriver.remote.webelement.WebElement (session=\"6f491a20533552da3604c62f0eee13d1\", element=\"e36116b6-396e-4f3f-b866-dc0883205530\")>,\n",
       " <selenium.webdriver.remote.webelement.WebElement (session=\"6f491a20533552da3604c62f0eee13d1\", element=\"0b9f9a8b-5378-479e-80a0-4090bcda28e9\")>,\n",
       " <selenium.webdriver.remote.webelement.WebElement (session=\"6f491a20533552da3604c62f0eee13d1\", element=\"de27de70-3d98-47de-b37b-ab1ea28c33fd\")>,\n",
       " <selenium.webdriver.remote.webelement.WebElement (session=\"6f491a20533552da3604c62f0eee13d1\", element=\"d875cf1d-64a9-40fd-b1af-5de11ec5cdbd\")>,\n",
       " <selenium.webdriver.remote.webelement.WebElement (session=\"6f491a20533552da3604c62f0eee13d1\", element=\"de3d5710-8d97-4eeb-82c7-f608e783dfa6\")>,\n",
       " <selenium.webdriver.remote.webelement.WebElement (session=\"6f491a20533552da3604c62f0eee13d1\", element=\"353cee5e-c3b1-4dd8-a29e-9bc326a40a9f\")>,\n",
       " <selenium.webdriver.remote.webelement.WebElement (session=\"6f491a20533552da3604c62f0eee13d1\", element=\"f9e2376c-d68b-4fd0-87b0-0d0bf4e3ecd2\")>,\n",
       " <selenium.webdriver.remote.webelement.WebElement (session=\"6f491a20533552da3604c62f0eee13d1\", element=\"47047556-5ae5-4a00-9c36-72ae37f0f253\")>,\n",
       " <selenium.webdriver.remote.webelement.WebElement (session=\"6f491a20533552da3604c62f0eee13d1\", element=\"1931d86a-c04c-4f07-803f-dc6ce68365d8\")>,\n",
       " <selenium.webdriver.remote.webelement.WebElement (session=\"6f491a20533552da3604c62f0eee13d1\", element=\"2ad6b298-a74c-4a9d-b574-4367c4ed3b34\")>,\n",
       " <selenium.webdriver.remote.webelement.WebElement (session=\"6f491a20533552da3604c62f0eee13d1\", element=\"446cde06-26ba-4192-bb10-119352fbf229\")>,\n",
       " <selenium.webdriver.remote.webelement.WebElement (session=\"6f491a20533552da3604c62f0eee13d1\", element=\"3346fa3c-9971-4e64-bbda-d53792a39096\")>,\n",
       " <selenium.webdriver.remote.webelement.WebElement (session=\"6f491a20533552da3604c62f0eee13d1\", element=\"09d79939-72ab-48ba-8fa2-f093ae4fdf95\")>,\n",
       " <selenium.webdriver.remote.webelement.WebElement (session=\"6f491a20533552da3604c62f0eee13d1\", element=\"5d41b8f0-8033-44bd-b7e6-85b81aa2c91b\")>,\n",
       " <selenium.webdriver.remote.webelement.WebElement (session=\"6f491a20533552da3604c62f0eee13d1\", element=\"9b5323b7-9a65-4fcf-b1fb-fbc1bdbd9bf4\")>,\n",
       " <selenium.webdriver.remote.webelement.WebElement (session=\"6f491a20533552da3604c62f0eee13d1\", element=\"b41805bc-f33b-4744-af30-57503eeb5811\")>,\n",
       " <selenium.webdriver.remote.webelement.WebElement (session=\"6f491a20533552da3604c62f0eee13d1\", element=\"46445b20-23a5-499f-af6b-e0ce1a680bd7\")>,\n",
       " <selenium.webdriver.remote.webelement.WebElement (session=\"6f491a20533552da3604c62f0eee13d1\", element=\"317609b9-1e1e-4bbb-9cc2-8bf82934f47f\")>,\n",
       " <selenium.webdriver.remote.webelement.WebElement (session=\"6f491a20533552da3604c62f0eee13d1\", element=\"4effe198-e39f-426d-89ca-038906d6b280\")>,\n",
       " <selenium.webdriver.remote.webelement.WebElement (session=\"6f491a20533552da3604c62f0eee13d1\", element=\"bfefe278-7d75-4fcb-b2d4-c99d35fff006\")>,\n",
       " <selenium.webdriver.remote.webelement.WebElement (session=\"6f491a20533552da3604c62f0eee13d1\", element=\"d33dea48-bf14-4646-8557-59aaa7a223da\")>,\n",
       " <selenium.webdriver.remote.webelement.WebElement (session=\"6f491a20533552da3604c62f0eee13d1\", element=\"f78fd71e-274c-4dda-984a-7dd5657be373\")>,\n",
       " <selenium.webdriver.remote.webelement.WebElement (session=\"6f491a20533552da3604c62f0eee13d1\", element=\"eff9187d-5279-4fdb-96cd-03bd6b370328\")>,\n",
       " <selenium.webdriver.remote.webelement.WebElement (session=\"6f491a20533552da3604c62f0eee13d1\", element=\"f7943feb-5b4c-4574-bcb9-b383b3a01d4f\")>,\n",
       " <selenium.webdriver.remote.webelement.WebElement (session=\"6f491a20533552da3604c62f0eee13d1\", element=\"3320ae0c-349b-4e36-9741-32e49d3b3f9c\")>,\n",
       " <selenium.webdriver.remote.webelement.WebElement (session=\"6f491a20533552da3604c62f0eee13d1\", element=\"d72305fa-a2f3-43ca-89ee-4887a68ecb83\")>]"
      ]
     },
     "execution_count": 112,
     "metadata": {},
     "output_type": "execute_result"
    }
   ],
   "source": [
    "price8"
   ]
  },
  {
   "cell_type": "code",
   "execution_count": 113,
   "id": "bffe476c",
   "metadata": {},
   "outputs": [],
   "source": [
    "PRICE8=[]"
   ]
  },
  {
   "cell_type": "code",
   "execution_count": 114,
   "id": "e25aca43",
   "metadata": {},
   "outputs": [],
   "source": [
    "for i in price8:\n",
    "    brd_=i.text\n",
    "    PRICE8.append(brd_)"
   ]
  },
  {
   "cell_type": "code",
   "execution_count": 141,
   "id": "95ed5e50",
   "metadata": {},
   "outputs": [
    {
     "data": {
      "text/plain": [
       "['₹72,999',\n",
       " '₹87,999',\n",
       " '₹84,990',\n",
       " '₹97,867',\n",
       " '₹49,990',\n",
       " '₹65,999',\n",
       " '₹90,990',\n",
       " '₹1,40,958',\n",
       " '₹85,990',\n",
       " '₹1,34,820',\n",
       " '₹1,00,990',\n",
       " '₹1,53,490',\n",
       " '₹88,490',\n",
       " '₹1,16,526',\n",
       " '₹95,289',\n",
       " '₹1,21,188',\n",
       " '₹98,999',\n",
       " '₹1,50,000',\n",
       " '₹1,07,199',\n",
       " '₹1,19,999',\n",
       " '₹86,990',\n",
       " '₹1,05,618',\n",
       " '₹87,979',\n",
       " '₹1,03,279',\n",
       " '',\n",
       " '₹1,09,990',\n",
       " '₹1,49,990',\n",
       " '₹92,990',\n",
       " '₹1,22,990',\n",
       " '₹34,899',\n",
       " '₹1,20,000',\n",
       " '₹82,604',\n",
       " '₹1,18,890',\n",
       " '₹1,05,703',\n",
       " '₹1,29,547',\n",
       " '₹89,990',\n",
       " '₹1,18,990',\n",
       " '₹1,06,990',\n",
       " '₹1,39,990',\n",
       " '₹95,240',\n",
       " '₹2,29,000',\n",
       " '₹96,990',\n",
       " '₹1,14,990',\n",
       " '₹1,07,990',\n",
       " '₹1,40,990']"
      ]
     },
     "execution_count": 141,
     "metadata": {},
     "output_type": "execute_result"
    }
   ],
   "source": [
    "PRICE8"
   ]
  },
  {
   "cell_type": "code",
   "execution_count": 152,
   "id": "5faf2211",
   "metadata": {},
   "outputs": [],
   "source": [
    "RATING__=RATING__[0:10]"
   ]
  },
  {
   "cell_type": "code",
   "execution_count": 146,
   "id": "f1a10b5b",
   "metadata": {},
   "outputs": [],
   "source": [
    "Title_TAG=Title_TAG[0:10]"
   ]
  },
  {
   "cell_type": "code",
   "execution_count": 149,
   "id": "1af485e8",
   "metadata": {},
   "outputs": [],
   "source": [
    "PRICE8=PRICE8[0:10]"
   ]
  },
  {
   "cell_type": "code",
   "execution_count": 155,
   "id": "3b075aba",
   "metadata": {},
   "outputs": [
    {
     "data": {
      "text/html": [
       "<div>\n",
       "<style scoped>\n",
       "    .dataframe tbody tr th:only-of-type {\n",
       "        vertical-align: middle;\n",
       "    }\n",
       "\n",
       "    .dataframe tbody tr th {\n",
       "        vertical-align: top;\n",
       "    }\n",
       "\n",
       "    .dataframe thead th {\n",
       "        text-align: right;\n",
       "    }\n",
       "</style>\n",
       "<table border=\"1\" class=\"dataframe\">\n",
       "  <thead>\n",
       "    <tr style=\"text-align: right;\">\n",
       "      <th></th>\n",
       "      <th>TITLE</th>\n",
       "      <th>PRICE</th>\n",
       "      <th>RATING</th>\n",
       "    </tr>\n",
       "  </thead>\n",
       "  <tbody>\n",
       "    <tr>\n",
       "      <th>0</th>\n",
       "      <td>Mi Notebook Pro QHD+ IPS Anti Glare Display In...</td>\n",
       "      <td>₹72,999</td>\n",
       "      <td>4.3 out of 5 stars</td>\n",
       "    </tr>\n",
       "    <tr>\n",
       "      <th>1</th>\n",
       "      <td>HP Pavilion (2021) Intel 11th Gen Core i7 14 i...</td>\n",
       "      <td>₹87,999</td>\n",
       "      <td>4.1 out of 5 stars</td>\n",
       "    </tr>\n",
       "    <tr>\n",
       "      <th>2</th>\n",
       "      <td>Mi Notebook Horizon Edition 14 Intel Core i7-1...</td>\n",
       "      <td>₹84,990</td>\n",
       "      <td>4.3 out of 5 stars</td>\n",
       "    </tr>\n",
       "    <tr>\n",
       "      <th>3</th>\n",
       "      <td>Lenovo ThinkBook 13s Intel 11th Gen Core i7 13...</td>\n",
       "      <td>₹97,867</td>\n",
       "      <td>4.3 out of 5 stars</td>\n",
       "    </tr>\n",
       "    <tr>\n",
       "      <th>4</th>\n",
       "      <td>Lenovo ThinkBook 15 Intel 11th Gen Core i7 15....</td>\n",
       "      <td>₹49,990</td>\n",
       "      <td>4.2 out of 5 stars</td>\n",
       "    </tr>\n",
       "    <tr>\n",
       "      <th>5</th>\n",
       "      <td>Lenovo Legion 5 11th Gen Intel Core i7 15.6\"(3...</td>\n",
       "      <td>₹65,999</td>\n",
       "      <td>4.3 out of 5 stars</td>\n",
       "    </tr>\n",
       "    <tr>\n",
       "      <th>6</th>\n",
       "      <td>Dell 14 (2021) i7-1195G7 2in1 Touch Screen Lap...</td>\n",
       "      <td>₹90,990</td>\n",
       "      <td>4.3 out of 5 stars</td>\n",
       "    </tr>\n",
       "    <tr>\n",
       "      <th>7</th>\n",
       "      <td>Dell 15 (2021) i7-10870H Gaming Laptop, 16GB D...</td>\n",
       "      <td>₹1,40,958</td>\n",
       "      <td>4.4 out of 5 stars</td>\n",
       "    </tr>\n",
       "    <tr>\n",
       "      <th>8</th>\n",
       "      <td>LG Gram 17-inches Ultra-Light Intel Evo 11th G...</td>\n",
       "      <td>₹85,990</td>\n",
       "      <td>4.6 out of 5 stars</td>\n",
       "    </tr>\n",
       "    <tr>\n",
       "      <th>9</th>\n",
       "      <td>Acer Nitro 5 AN515-57 Gaming Laptop | Intel Co...</td>\n",
       "      <td>₹1,34,820</td>\n",
       "      <td>3.8 out of 5 stars</td>\n",
       "    </tr>\n",
       "  </tbody>\n",
       "</table>\n",
       "</div>"
      ],
      "text/plain": [
       "                                               TITLE      PRICE  \\\n",
       "0  Mi Notebook Pro QHD+ IPS Anti Glare Display In...    ₹72,999   \n",
       "1  HP Pavilion (2021) Intel 11th Gen Core i7 14 i...    ₹87,999   \n",
       "2  Mi Notebook Horizon Edition 14 Intel Core i7-1...    ₹84,990   \n",
       "3  Lenovo ThinkBook 13s Intel 11th Gen Core i7 13...    ₹97,867   \n",
       "4  Lenovo ThinkBook 15 Intel 11th Gen Core i7 15....    ₹49,990   \n",
       "5  Lenovo Legion 5 11th Gen Intel Core i7 15.6\"(3...    ₹65,999   \n",
       "6  Dell 14 (2021) i7-1195G7 2in1 Touch Screen Lap...    ₹90,990   \n",
       "7  Dell 15 (2021) i7-10870H Gaming Laptop, 16GB D...  ₹1,40,958   \n",
       "8  LG Gram 17-inches Ultra-Light Intel Evo 11th G...    ₹85,990   \n",
       "9  Acer Nitro 5 AN515-57 Gaming Laptop | Intel Co...  ₹1,34,820   \n",
       "\n",
       "               RATING  \n",
       "0  4.3 out of 5 stars  \n",
       "1  4.1 out of 5 stars  \n",
       "2  4.3 out of 5 stars  \n",
       "3  4.3 out of 5 stars  \n",
       "4  4.2 out of 5 stars  \n",
       "5  4.3 out of 5 stars  \n",
       "6  4.3 out of 5 stars  \n",
       "7  4.4 out of 5 stars  \n",
       "8  4.6 out of 5 stars  \n",
       "9  3.8 out of 5 stars  "
      ]
     },
     "execution_count": 155,
     "metadata": {},
     "output_type": "execute_result"
    }
   ],
   "source": [
    "LAPTOP=pd.DataFrame({})\n",
    "LAPTOP['TITLE']=Title_TAG\n",
    "LAPTOP['PRICE']=PRICE8\n",
    "LAPTOP['RATING']=RATING__\n",
    "LAPTOP"
   ]
  },
  {
   "cell_type": "markdown",
   "id": "d87974a0",
   "metadata": {},
   "source": [
    "# Q9: Write a python program to scrape data for first 10 job results for Data Scientist Designation in Noidalocation. You have to scrape company name, No. of days ago when job was posted, Rating of the company.\n"
   ]
  },
  {
   "cell_type": "code",
   "execution_count": 155,
   "id": "bf3cc4c8",
   "metadata": {},
   "outputs": [],
   "source": [
    "driver.get(\" https://www.ambitionbox.com/\")"
   ]
  },
  {
   "cell_type": "code",
   "execution_count": 5,
   "id": "ce4b7fcd",
   "metadata": {},
   "outputs": [
    {
     "name": "stderr",
     "output_type": "stream",
     "text": [
      "<ipython-input-5-aab3440b3d60>:1: DeprecationWarning: find_element_by_* commands are deprecated. Please use find_element() instead\n",
      "  jobs9=driver.find_element_by_xpath('/html/body/div[1]/nav/nav/a[6]')\n"
     ]
    }
   ],
   "source": [
    "jobs9=driver.find_element_by_xpath('/html/body/div[1]/nav/nav/a[6]')\n",
    "jobs9.click()"
   ]
  },
  {
   "cell_type": "code",
   "execution_count": 6,
   "id": "5f191374",
   "metadata": {},
   "outputs": [
    {
     "name": "stderr",
     "output_type": "stream",
     "text": [
      "<ipython-input-6-0235647da9ba>:1: DeprecationWarning: find_element_by_* commands are deprecated. Please use find_element() instead\n",
      "  search_job9=driver.find_element_by_name(\"ab_jobsSearch\")\n"
     ]
    }
   ],
   "source": [
    "search_job9=driver.find_element_by_name(\"ab_jobsSearch\")\n",
    "search_job9.send_keys('Data Scientist')\n",
    "\n",
    "\n",
    "                                   "
   ]
  },
  {
   "cell_type": "code",
   "execution_count": 7,
   "id": "481c79bf",
   "metadata": {},
   "outputs": [
    {
     "name": "stderr",
     "output_type": "stream",
     "text": [
      "<ipython-input-7-26dc2595abd4>:1: DeprecationWarning: find_element_by_* commands are deprecated. Please use find_element() instead\n",
      "  search_btn9=driver.find_element_by_xpath('//button[@class=\"ab_btn search-btn round\"]/span')\n"
     ]
    }
   ],
   "source": [
    "search_btn9=driver.find_element_by_xpath('//button[@class=\"ab_btn search-btn round\"]/span')\n",
    "search_btn9.click()\n"
   ]
  },
  {
   "cell_type": "code",
   "execution_count": 8,
   "id": "fbd55ced",
   "metadata": {},
   "outputs": [
    {
     "name": "stderr",
     "output_type": "stream",
     "text": [
      "<ipython-input-8-2e282a5a8f92>:1: DeprecationWarning: find_element_by_* commands are deprecated. Please use find_element() instead\n",
      "  search_loc9=driver.find_element_by_xpath('//div[@title=\"Location\"]')\n"
     ]
    }
   ],
   "source": [
    "search_loc9=driver.find_element_by_xpath('//div[@title=\"Location\"]')\n",
    "search_loc9.click()\n"
   ]
  },
  {
   "cell_type": "code",
   "execution_count": 9,
   "id": "985e400f",
   "metadata": {},
   "outputs": [
    {
     "name": "stderr",
     "output_type": "stream",
     "text": [
      "<ipython-input-9-481cb4ba420c>:1: DeprecationWarning: find_element_by_* commands are deprecated. Please use find_element() instead\n",
      "  search_locd9=driver.find_element_by_xpath('/html/body/div/div/div/div[2]/div[2]/div[1]/div/div/div/div[2]/div[2]/div/div[3]/div[1]/div[7]/div/label')\n"
     ]
    }
   ],
   "source": [
    "search_locd9=driver.find_element_by_xpath('/html/body/div/div/div/div[2]/div[2]/div[1]/div/div/div/div[2]/div[2]/div/div[3]/div[1]/div[7]/div/label')\n",
    "search_locd9.click()"
   ]
  },
  {
   "cell_type": "code",
   "execution_count": 12,
   "id": "52123eaf",
   "metadata": {},
   "outputs": [
    {
     "name": "stderr",
     "output_type": "stream",
     "text": [
      "<ipython-input-12-b929666ec15d>:1: DeprecationWarning: find_elements_by_* commands are deprecated. Please use find_elements() instead\n",
      "  Title9=driver.find_elements_by_xpath('//a[@class=\"title noclick\"]')\n"
     ]
    }
   ],
   "source": [
    "Title9=driver.find_elements_by_xpath('//a[@class=\"title noclick\"]')\n",
    "for i in Title9:\n",
    "    rbc=i.text\n",
    "    TITLE9.append(rbc)"
   ]
  },
  {
   "cell_type": "code",
   "execution_count": 13,
   "id": "4c4dbc21",
   "metadata": {},
   "outputs": [
    {
     "data": {
      "text/plain": [
       "['Data Scientist',\n",
       " 'Senior Data Scientist',\n",
       " 'Senior Data Scientist',\n",
       " 'Hiring For Data Scientist',\n",
       " 'NTT DATA_ Hiring For BIG DATA ,DATA Scientist, Devops',\n",
       " 'Job Opportunity || Data Scientist || HCL Technologies',\n",
       " 'Manager - Data Scientist - Retail/BFSI (8-15 yrs)',\n",
       " 'Data Scientist - Risk and Pricing',\n",
       " 'BeatO - Data Scientist (3-6 yrs)',\n",
       " 'Oye! Rickshaw - Manager - Analytics (4-8 yrs)']"
      ]
     },
     "execution_count": 13,
     "metadata": {},
     "output_type": "execute_result"
    }
   ],
   "source": [
    "TITLE9"
   ]
  },
  {
   "cell_type": "code",
   "execution_count": 15,
   "id": "94d2078c",
   "metadata": {},
   "outputs": [
    {
     "name": "stderr",
     "output_type": "stream",
     "text": [
      "<ipython-input-15-4fda2e753079>:1: DeprecationWarning: find_elements_by_* commands are deprecated. Please use find_elements() instead\n",
      "  comp9=driver.find_elements_by_xpath('//p[@class=\"company body-medium\"]')\n"
     ]
    }
   ],
   "source": [
    "comp9=driver.find_elements_by_xpath('//p[@class=\"company body-medium\"]')\n",
    "for i in comp9:\n",
    "    rbc=i.text\n",
    "    COMP9.append(rbc)"
   ]
  },
  {
   "cell_type": "code",
   "execution_count": 16,
   "id": "d6e80538",
   "metadata": {},
   "outputs": [
    {
     "data": {
      "text/plain": [
       "['LG Electronics India Pvt. Ltd.',\n",
       " 'Wipro Limited',\n",
       " 'Wipro Limited',\n",
       " 'Tata Consultancy Services Ltd.',\n",
       " 'NTT Data Business Solutions Pvt Ltd',\n",
       " 'HCL Technologies',\n",
       " 'GI Group',\n",
       " 'Vichara Technology (India) Private Limited',\n",
       " 'BeatO',\n",
       " 'OYE Rickshaw']"
      ]
     },
     "execution_count": 16,
     "metadata": {},
     "output_type": "execute_result"
    }
   ],
   "source": [
    "COMP9\n",
    "    "
   ]
  },
  {
   "cell_type": "code",
   "execution_count": 94,
   "id": "2228f86e",
   "metadata": {},
   "outputs": [
    {
     "name": "stderr",
     "output_type": "stream",
     "text": [
      "<ipython-input-94-5898ecb10072>:1: DeprecationWarning: find_elements_by_* commands are deprecated. Please use find_elements() instead\n",
      "  Exp9=driver.find_elements_by_xpath('//p[@class=\"body-small-l\"]')\n"
     ]
    }
   ],
   "source": [
    "Exp9=driver.find_elements_by_xpath('//p[@class=\"body-small-l\"]')\n",
    "for i in Exp9:\n",
    "    rbc=i.text\n",
    "    EXP98.append(rbc)"
   ]
  },
  {
   "cell_type": "code",
   "execution_count": 77,
   "id": "9e67493a",
   "metadata": {},
   "outputs": [],
   "source": [
    "EXP9=EXP9[4:-2]"
   ]
  },
  {
   "cell_type": "code",
   "execution_count": 79,
   "id": "023f9789",
   "metadata": {},
   "outputs": [
    {
     "data": {
      "text/plain": [
       "['0-2 Yrs', '5-10 Yrs', '4-9 Yrs', '4-9 Yrs', '3-8 Yrs', '2-6 Yrs', '8-15 Yrs']"
      ]
     },
     "execution_count": 79,
     "metadata": {},
     "output_type": "execute_result"
    }
   ],
   "source": [
    "EXP9=EXP9[0:-10:4]\n",
    "EXP9"
   ]
  },
  {
   "cell_type": "code",
   "execution_count": 78,
   "id": "5041ca21",
   "metadata": {},
   "outputs": [
    {
     "data": {
      "text/plain": [
       "['0-2 Yrs',\n",
       " 'Not Disclosed',\n",
       " 'Faridabad, Delhi NCR, New Delhi +2 more',\n",
       " 'Python, Deep Learning, NLP +6 more',\n",
       " '5-10 Yrs',\n",
       " 'Not Disclosed',\n",
       " 'Chennai, Pune, Delhi NCR +4 more',\n",
       " 'Machine Learning, Python, Data Science +7 more',\n",
       " '4-9 Yrs',\n",
       " 'Not Disclosed',\n",
       " 'Pune, Delhi NCR, Bengaluru/Bangalore',\n",
       " 'Machine Learning, Python, Data Science +7 more',\n",
       " '4-9 Yrs',\n",
       " 'Not Disclosed',\n",
       " 'Chennai, Pune, Delhi NCR +3 more',\n",
       " 'Python, Scipy, R +7 more',\n",
       " '3-8 Yrs',\n",
       " 'Not Disclosed',\n",
       " 'Chennai, Delhi NCR, Ahmedabad +6 more',\n",
       " 'Big Data, Data Science, Devops +8 more',\n",
       " '2-6 Yrs',\n",
       " 'Not Disclosed',\n",
       " 'Delhi NCR',\n",
       " 'Machine Learning, Deep Learning, Python +1 more',\n",
       " '8-15 Yrs',\n",
       " 'Delhi NCR, Noida, Gurgaon/Gurugram +4 more',\n",
       " 'Data Analytics, Data Scientist, Data Visualization +7 more',\n",
       " '4-9 Yrs',\n",
       " '₹ 18-30 LPA',\n",
       " 'Pune, Delhi NCR, Mumbai',\n",
       " 'Machine Learning, Natural Language Processing, Data Science +10 more',\n",
       " '3-6 Yrs',\n",
       " 'New Delhi, Delhi NCR',\n",
       " 'Data Science, Data Scientist, Data Management +8 more',\n",
       " '4-8 Yrs']"
      ]
     },
     "execution_count": 78,
     "metadata": {},
     "output_type": "execute_result"
    }
   ],
   "source": [
    "EXP9"
   ]
  },
  {
   "cell_type": "code",
   "execution_count": 70,
   "id": "6c74abb2",
   "metadata": {},
   "outputs": [],
   "source": [
    "EXP98=EXP98[-10:39:4]"
   ]
  },
  {
   "cell_type": "code",
   "execution_count": 93,
   "id": "3ac63b0f",
   "metadata": {},
   "outputs": [],
   "source": [
    "EXP98[]"
   ]
  },
  {
   "cell_type": "code",
   "execution_count": 108,
   "id": "61f51d74",
   "metadata": {},
   "outputs": [],
   "source": [
    "EXP99=EXP9+EXP98"
   ]
  },
  {
   "cell_type": "code",
   "execution_count": 104,
   "id": "be9da70a",
   "metadata": {},
   "outputs": [],
   "source": [
    "EXP98=EXP98[-10:39]"
   ]
  },
  {
   "cell_type": "code",
   "execution_count": 105,
   "id": "6ef4ad34",
   "metadata": {},
   "outputs": [
    {
     "data": {
      "text/plain": [
       "['4-9 Yrs',\n",
       " '₹ 18-30 LPA',\n",
       " 'Pune, Delhi NCR, Mumbai',\n",
       " 'Machine Learning, Natural Language Processing, Data Science +10 more',\n",
       " '3-6 Yrs',\n",
       " 'New Delhi, Delhi NCR',\n",
       " 'Data Science, Data Scientist, Data Management +8 more',\n",
       " '4-8 Yrs']"
      ]
     },
     "execution_count": 105,
     "metadata": {},
     "output_type": "execute_result"
    }
   ],
   "source": [
    "EXP98"
   ]
  },
  {
   "cell_type": "code",
   "execution_count": 125,
   "id": "739552db",
   "metadata": {},
   "outputs": [
    {
     "data": {
      "text/plain": [
       "['0-2 Yrs',\n",
       " '5-10 Yrs',\n",
       " '4-9 Yrs',\n",
       " '4-9 Yrs',\n",
       " '3-8 Yrs',\n",
       " '2-6 Yrs',\n",
       " '8-15 Yrs',\n",
       " '4-9 Yrs',\n",
       " '3-6 Yrs',\n",
       " '4-8 Yrs']"
      ]
     },
     "execution_count": 125,
     "metadata": {},
     "output_type": "execute_result"
    }
   ],
   "source": [
    "EXP99"
   ]
  },
  {
   "cell_type": "code",
   "execution_count": 124,
   "id": "61133081",
   "metadata": {},
   "outputs": [
    {
     "data": {
      "text/plain": [
       "'₹ 18-30 LPA'"
      ]
     },
     "execution_count": 124,
     "metadata": {},
     "output_type": "execute_result"
    }
   ],
   "source": [
    "EXP99.pop(-3)"
   ]
  },
  {
   "cell_type": "code",
   "execution_count": 126,
   "id": "8ad64dd6",
   "metadata": {},
   "outputs": [
    {
     "data": {
      "text/html": [
       "<div>\n",
       "<style scoped>\n",
       "    .dataframe tbody tr th:only-of-type {\n",
       "        vertical-align: middle;\n",
       "    }\n",
       "\n",
       "    .dataframe tbody tr th {\n",
       "        vertical-align: top;\n",
       "    }\n",
       "\n",
       "    .dataframe thead th {\n",
       "        text-align: right;\n",
       "    }\n",
       "</style>\n",
       "<table border=\"1\" class=\"dataframe\">\n",
       "  <thead>\n",
       "    <tr style=\"text-align: right;\">\n",
       "      <th></th>\n",
       "      <th>TITLE</th>\n",
       "      <th>COMPANY</th>\n",
       "      <th>EXPERIENCE</th>\n",
       "    </tr>\n",
       "  </thead>\n",
       "  <tbody>\n",
       "    <tr>\n",
       "      <th>0</th>\n",
       "      <td>Data Scientist</td>\n",
       "      <td>LG Electronics India Pvt. Ltd.</td>\n",
       "      <td>0-2 Yrs</td>\n",
       "    </tr>\n",
       "    <tr>\n",
       "      <th>1</th>\n",
       "      <td>Senior Data Scientist</td>\n",
       "      <td>Wipro Limited</td>\n",
       "      <td>5-10 Yrs</td>\n",
       "    </tr>\n",
       "    <tr>\n",
       "      <th>2</th>\n",
       "      <td>Senior Data Scientist</td>\n",
       "      <td>Wipro Limited</td>\n",
       "      <td>4-9 Yrs</td>\n",
       "    </tr>\n",
       "    <tr>\n",
       "      <th>3</th>\n",
       "      <td>Hiring For Data Scientist</td>\n",
       "      <td>Tata Consultancy Services Ltd.</td>\n",
       "      <td>4-9 Yrs</td>\n",
       "    </tr>\n",
       "    <tr>\n",
       "      <th>4</th>\n",
       "      <td>NTT DATA_ Hiring For BIG DATA ,DATA Scientist,...</td>\n",
       "      <td>NTT Data Business Solutions Pvt Ltd</td>\n",
       "      <td>3-8 Yrs</td>\n",
       "    </tr>\n",
       "    <tr>\n",
       "      <th>5</th>\n",
       "      <td>Job Opportunity || Data Scientist || HCL Techn...</td>\n",
       "      <td>HCL Technologies</td>\n",
       "      <td>2-6 Yrs</td>\n",
       "    </tr>\n",
       "    <tr>\n",
       "      <th>6</th>\n",
       "      <td>Manager - Data Scientist - Retail/BFSI (8-15 yrs)</td>\n",
       "      <td>GI Group</td>\n",
       "      <td>8-15 Yrs</td>\n",
       "    </tr>\n",
       "    <tr>\n",
       "      <th>7</th>\n",
       "      <td>Data Scientist - Risk and Pricing</td>\n",
       "      <td>Vichara Technology (India) Private Limited</td>\n",
       "      <td>4-9 Yrs</td>\n",
       "    </tr>\n",
       "    <tr>\n",
       "      <th>8</th>\n",
       "      <td>BeatO - Data Scientist (3-6 yrs)</td>\n",
       "      <td>BeatO</td>\n",
       "      <td>3-6 Yrs</td>\n",
       "    </tr>\n",
       "    <tr>\n",
       "      <th>9</th>\n",
       "      <td>Oye! Rickshaw - Manager - Analytics (4-8 yrs)</td>\n",
       "      <td>OYE Rickshaw</td>\n",
       "      <td>4-8 Yrs</td>\n",
       "    </tr>\n",
       "  </tbody>\n",
       "</table>\n",
       "</div>"
      ],
      "text/plain": [
       "                                               TITLE  \\\n",
       "0                                     Data Scientist   \n",
       "1                              Senior Data Scientist   \n",
       "2                              Senior Data Scientist   \n",
       "3                          Hiring For Data Scientist   \n",
       "4  NTT DATA_ Hiring For BIG DATA ,DATA Scientist,...   \n",
       "5  Job Opportunity || Data Scientist || HCL Techn...   \n",
       "6  Manager - Data Scientist - Retail/BFSI (8-15 yrs)   \n",
       "7                  Data Scientist - Risk and Pricing   \n",
       "8                   BeatO - Data Scientist (3-6 yrs)   \n",
       "9      Oye! Rickshaw - Manager - Analytics (4-8 yrs)   \n",
       "\n",
       "                                      COMPANY EXPERIENCE  \n",
       "0              LG Electronics India Pvt. Ltd.    0-2 Yrs  \n",
       "1                               Wipro Limited   5-10 Yrs  \n",
       "2                               Wipro Limited    4-9 Yrs  \n",
       "3              Tata Consultancy Services Ltd.    4-9 Yrs  \n",
       "4         NTT Data Business Solutions Pvt Ltd    3-8 Yrs  \n",
       "5                            HCL Technologies    2-6 Yrs  \n",
       "6                                    GI Group   8-15 Yrs  \n",
       "7  Vichara Technology (India) Private Limited    4-9 Yrs  \n",
       "8                                       BeatO    3-6 Yrs  \n",
       "9                                OYE Rickshaw    4-8 Yrs  "
      ]
     },
     "execution_count": 126,
     "metadata": {},
     "output_type": "execute_result"
    }
   ],
   "source": [
    "JOBAMBITION=pd.DataFrame({})\n",
    "JOBAMBITION['TITLE']=TITLE9\n",
    "JOBAMBITION['COMPANY']=COMP9\n",
    "JOBAMBITION['EXPERIENCE']=EXP99\n",
    "JOBAMBITION"
   ]
  },
  {
   "cell_type": "markdown",
   "id": "ac19f160",
   "metadata": {},
   "source": [
    "# Q10: Write a python program to scrape the salary data for Data Scientist designation.You have to scrape Company name, Number of salaries, Average salary, Min salary, Max Salary. \n"
   ]
  },
  {
   "cell_type": "code",
   "execution_count": 156,
   "id": "ca980525",
   "metadata": {},
   "outputs": [
    {
     "name": "stderr",
     "output_type": "stream",
     "text": [
      "<ipython-input-156-900898dc1de2>:1: DeprecationWarning: find_element_by_* commands are deprecated. Please use find_element() instead\n",
      "  search_sal10=driver.find_element_by_xpath('//a[@title=\"Company Salaries\"]')\n"
     ]
    }
   ],
   "source": [
    "search_sal10=driver.find_element_by_xpath('//a[@title=\"Company Salaries\"]')\n",
    "search_sal10.click()"
   ]
  },
  {
   "cell_type": "code",
   "execution_count": 170,
   "id": "c6b2481b",
   "metadata": {},
   "outputs": [
    {
     "name": "stderr",
     "output_type": "stream",
     "text": [
      "<ipython-input-170-ea72cf2efc4a>:1: DeprecationWarning: find_element_by_* commands are deprecated. Please use find_element() instead\n",
      "  search_job10=driver.find_element_by_id(\"jobProfileSearchbox\")\n"
     ]
    }
   ],
   "source": [
    "search_job10=driver.find_element_by_id(\"jobProfileSearchbox\")\n",
    "search_job10.send_keys('Data Scientist')"
   ]
  },
  {
   "cell_type": "code",
   "execution_count": 176,
   "id": "5759fb6d",
   "metadata": {},
   "outputs": [
    {
     "name": "stderr",
     "output_type": "stream",
     "text": [
      "<ipython-input-176-427347bc78c0>:1: DeprecationWarning: find_element_by_* commands are deprecated. Please use find_element() instead\n",
      "  search_btn10=driver.find_element_by_xpath('//span[@class=\"ctas-btn-medium\"]')\n"
     ]
    }
   ],
   "source": [
    "search_btn10=driver.find_element_by_xpath('//span[@class=\"ctas-btn-medium\"]')\n",
    "search_btn10.click()\n"
   ]
  },
  {
   "cell_type": "code",
   "execution_count": 177,
   "id": "230629d9",
   "metadata": {},
   "outputs": [
    {
     "name": "stderr",
     "output_type": "stream",
     "text": [
      "<ipython-input-177-ac1b03097ec4>:1: DeprecationWarning: find_elements_by_* commands are deprecated. Please use find_elements() instead\n",
      "  compy10=driver.find_elements_by_xpath('//div[@class=\"name\"]')\n"
     ]
    }
   ],
   "source": [
    "compy10=driver.find_elements_by_xpath('//div[@class=\"name\"]')\n",
    "for i in compy10:\n",
    "    rbc=i.text\n",
    "    COMP10.append(rbc)"
   ]
  },
  {
   "cell_type": "code",
   "execution_count": 196,
   "id": "de913392",
   "metadata": {},
   "outputs": [
    {
     "data": {
      "text/plain": [
       "['Ab Inbev\\nbased on 20 salaries',\n",
       " 'ZS\\nbased on 12 salaries',\n",
       " 'Optum\\nbased on 23 salaries',\n",
       " 'Fractal Analytics\\nbased on 66 salaries',\n",
       " 'UnitedHealth\\nbased on 47 salaries',\n",
       " 'Tiger Analytics\\nbased on 26 salaries',\n",
       " 'Verizon\\nbased on 14 salaries',\n",
       " 'Ganit Business Solutions\\nbased on 13 salaries',\n",
       " 'Ericsson\\nbased on 42 salaries',\n",
       " 'Deloitte\\nbased on 49 salaries']"
      ]
     },
     "execution_count": 196,
     "metadata": {},
     "output_type": "execute_result"
    }
   ],
   "source": [
    "COMP10"
   ]
  },
  {
   "cell_type": "code",
   "execution_count": 204,
   "id": "509a1632",
   "metadata": {},
   "outputs": [
    {
     "name": "stderr",
     "output_type": "stream",
     "text": [
      "<ipython-input-204-adc9e00bc7f5>:1: DeprecationWarning: find_elements_by_* commands are deprecated. Please use find_elements() instead\n",
      "  exp10=driver.find_elements_by_xpath('//div[@class=\"salaries sbold-list-header\"]')\n"
     ]
    }
   ],
   "source": [
    "exp10=driver.find_elements_by_xpath('//div[@class=\"salaries sbold-list-header\"]')\n",
    "for i in exp10:\n",
    "    rbc=i.text\n",
    "    EXP10.append(rbc)"
   ]
  },
  {
   "cell_type": "code",
   "execution_count": 238,
   "id": "2f1582d5",
   "metadata": {},
   "outputs": [
    {
     "data": {
      "text/plain": [
       "['Data Scientist\\n . \\n3-4 yrs exp',\n",
       " 'Data Scientist\\n . \\n2 yrs exp',\n",
       " 'Data Scientist\\n . \\n3-4 yrs exp',\n",
       " 'Data Scientist\\n . \\n2-4 yrs exp',\n",
       " 'Data Scientist\\n . \\n2-4 yrs exp',\n",
       " 'Data Scientist\\n . \\n3-4 yrs exp',\n",
       " 'Data Scientist\\n . \\n4 yrs exp',\n",
       " 'Data Scientist\\n . \\n4 yrs exp',\n",
       " 'Data Scientist\\n . \\n3-4 yrs exp',\n",
       " 'Data Scientist\\n . \\n2-4 yrs exp']"
      ]
     },
     "execution_count": 238,
     "metadata": {},
     "output_type": "execute_result"
    }
   ],
   "source": [
    "EXP10\n"
   ]
  },
  {
   "cell_type": "code",
   "execution_count": 252,
   "id": "4ad5dbfb",
   "metadata": {},
   "outputs": [
    {
     "name": "stdout",
     "output_type": "stream",
     "text": [
      "['Data Scientist', '. \\n3-4 yrs exp', 'Data Scientist', '. \\n2 yrs exp', 'Data Scientist', '. \\n3-4 yrs exp', 'Data Scientist', '. \\n2-4 yrs exp', 'Data Scientist', '. \\n2-4 yrs exp', 'Data Scientist', '. \\n3-4 yrs exp', 'Data Scientist', '. \\n4 yrs exp', 'Data Scientist', '. \\n4 yrs exp', 'Data Scientist', '. \\n3-4 yrs exp', 'Data Scientist', '. \\n2-4 yrs exp']\n"
     ]
    }
   ],
   "source": [
    "\n",
    "separator, list2 = '\\n ', []\n",
    "for e in EXP10:\n",
    "    if separator in e:\n",
    "        list2.extend(e.split(separator))\n",
    "    else:\n",
    "        list2.append(e)\n",
    "print(list2)"
   ]
  },
  {
   "cell_type": "code",
   "execution_count": 247,
   "id": "1e269aeb",
   "metadata": {},
   "outputs": [
    {
     "data": {
      "text/plain": [
       "20"
      ]
     },
     "execution_count": 247,
     "metadata": {},
     "output_type": "execute_result"
    }
   ],
   "source": [
    "len(list2)"
   ]
  },
  {
   "cell_type": "code",
   "execution_count": 253,
   "id": "1ca577a7",
   "metadata": {},
   "outputs": [
    {
     "data": {
      "text/plain": [
       "['. \\n3-4 yrs exp',\n",
       " '. \\n2 yrs exp',\n",
       " '. \\n3-4 yrs exp',\n",
       " '. \\n2-4 yrs exp',\n",
       " '. \\n2-4 yrs exp',\n",
       " '. \\n3-4 yrs exp',\n",
       " '. \\n4 yrs exp',\n",
       " '. \\n4 yrs exp',\n",
       " '. \\n3-4 yrs exp',\n",
       " '. \\n2-4 yrs exp']"
      ]
     },
     "execution_count": 253,
     "metadata": {},
     "output_type": "execute_result"
    }
   ],
   "source": [
    "\n",
    "list2=list2[1:20:2]\n",
    "list2"
   ]
  },
  {
   "cell_type": "code",
   "execution_count": 265,
   "id": "53ef1498",
   "metadata": {},
   "outputs": [],
   "source": [
    "for i in list3:\n",
    "    rbc=i.replace('.','')\n",
    "    list4.append(rbc)\n",
    "    "
   ]
  },
  {
   "cell_type": "code",
   "execution_count": 266,
   "id": "b669c6c3",
   "metadata": {},
   "outputs": [
    {
     "data": {
      "text/plain": [
       "[' 3-4 yrs exp',\n",
       " ' 2 yrs exp',\n",
       " ' 3-4 yrs exp',\n",
       " ' 2-4 yrs exp',\n",
       " ' 2-4 yrs exp',\n",
       " ' 3-4 yrs exp',\n",
       " ' 4 yrs exp',\n",
       " ' 4 yrs exp',\n",
       " ' 3-4 yrs exp',\n",
       " ' 2-4 yrs exp']"
      ]
     },
     "execution_count": 266,
     "metadata": {},
     "output_type": "execute_result"
    }
   ],
   "source": [
    "list4"
   ]
  },
  {
   "cell_type": "code",
   "execution_count": 191,
   "id": "adc4864b",
   "metadata": {},
   "outputs": [
    {
     "name": "stderr",
     "output_type": "stream",
     "text": [
      "<ipython-input-191-f1276682f16b>:1: DeprecationWarning: find_elements_by_* commands are deprecated. Please use find_elements() instead\n",
      "  sal10ll=driver.find_elements_by_xpath('//div[@class=\"salary-range-wrapper\"]')\n"
     ]
    }
   ],
   "source": [
    "sal10ll=driver.find_elements_by_xpath('//div[@class=\"salary-range-wrapper\"]')\n",
    "for i in sal10ll:\n",
    "    rbc=i.text\n",
    "    SAL10LL.append(rbc)"
   ]
  },
  {
   "cell_type": "code",
   "execution_count": 194,
   "id": "ac4f5c23",
   "metadata": {},
   "outputs": [],
   "source": [
    "\n",
    "for i in SAL10LL:\n",
    "    rbs=i.replace('\\n','-')\n",
    "    sal98.append(rbs)"
   ]
  },
  {
   "cell_type": "code",
   "execution_count": 267,
   "id": "b85f6a80",
   "metadata": {},
   "outputs": [
    {
     "data": {
      "text/plain": [
       "(10, 10, 10)"
      ]
     },
     "execution_count": 267,
     "metadata": {},
     "output_type": "execute_result"
    }
   ],
   "source": [
    "len(sal98),len(COMP10),len(list4)"
   ]
  },
  {
   "cell_type": "code",
   "execution_count": 277,
   "id": "1e1e2daf",
   "metadata": {},
   "outputs": [
    {
     "data": {
      "text/html": [
       "<div>\n",
       "<style scoped>\n",
       "    .dataframe tbody tr th:only-of-type {\n",
       "        vertical-align: middle;\n",
       "    }\n",
       "\n",
       "    .dataframe tbody tr th {\n",
       "        vertical-align: top;\n",
       "    }\n",
       "\n",
       "    .dataframe thead th {\n",
       "        text-align: right;\n",
       "    }\n",
       "</style>\n",
       "<table border=\"1\" class=\"dataframe\">\n",
       "  <thead>\n",
       "    <tr style=\"text-align: right;\">\n",
       "      <th></th>\n",
       "      <th>COMPANY</th>\n",
       "      <th>EXPERIENCE</th>\n",
       "      <th>LOWEST SALARY----AVERAGE SALARY---HIGHEST SALARY</th>\n",
       "    </tr>\n",
       "  </thead>\n",
       "  <tbody>\n",
       "    <tr>\n",
       "      <th>0</th>\n",
       "      <td>Ab Inbev\\nbased on 20 salaries</td>\n",
       "      <td>3-4 yrs exp</td>\n",
       "      <td>₹ 19.0L-₹ 15.0L-₹ 23.0L</td>\n",
       "    </tr>\n",
       "    <tr>\n",
       "      <th>1</th>\n",
       "      <td>ZS\\nbased on 12 salaries</td>\n",
       "      <td>2 yrs exp</td>\n",
       "      <td>₹ 15.3L-₹ 9.8L-₹ 19.5L</td>\n",
       "    </tr>\n",
       "    <tr>\n",
       "      <th>2</th>\n",
       "      <td>Optum\\nbased on 23 salaries</td>\n",
       "      <td>3-4 yrs exp</td>\n",
       "      <td>₹ 15.0L-₹ 11.0L-₹ 21.3L</td>\n",
       "    </tr>\n",
       "    <tr>\n",
       "      <th>3</th>\n",
       "      <td>Fractal Analytics\\nbased on 66 salaries</td>\n",
       "      <td>2-4 yrs exp</td>\n",
       "      <td>₹ 15.0L-₹ 9.5L-₹ 22.0L</td>\n",
       "    </tr>\n",
       "    <tr>\n",
       "      <th>4</th>\n",
       "      <td>UnitedHealth\\nbased on 47 salaries</td>\n",
       "      <td>2-4 yrs exp</td>\n",
       "      <td>₹ 13.5L-₹ 7.2L-₹ 20.5L</td>\n",
       "    </tr>\n",
       "    <tr>\n",
       "      <th>5</th>\n",
       "      <td>Tiger Analytics\\nbased on 26 salaries</td>\n",
       "      <td>3-4 yrs exp</td>\n",
       "      <td>₹ 13.5L-₹ 8.3L-₹ 18.5L</td>\n",
       "    </tr>\n",
       "    <tr>\n",
       "      <th>6</th>\n",
       "      <td>Verizon\\nbased on 14 salaries</td>\n",
       "      <td>4 yrs exp</td>\n",
       "      <td>₹ 12.7L-₹ 10.0L-₹ 21.0L</td>\n",
       "    </tr>\n",
       "    <tr>\n",
       "      <th>7</th>\n",
       "      <td>Ganit Business Solutions\\nbased on 13 salaries</td>\n",
       "      <td>4 yrs exp</td>\n",
       "      <td>₹ 12.4L-₹ 8.5L-₹ 15.0L</td>\n",
       "    </tr>\n",
       "    <tr>\n",
       "      <th>8</th>\n",
       "      <td>Ericsson\\nbased on 42 salaries</td>\n",
       "      <td>3-4 yrs exp</td>\n",
       "      <td>₹ 11.7L-₹ 5.2L-₹ 21.5L</td>\n",
       "    </tr>\n",
       "    <tr>\n",
       "      <th>9</th>\n",
       "      <td>Deloitte\\nbased on 49 salaries</td>\n",
       "      <td>2-4 yrs exp</td>\n",
       "      <td>₹ 11.2L-₹ 6.8L-₹ 20.5L</td>\n",
       "    </tr>\n",
       "  </tbody>\n",
       "</table>\n",
       "</div>"
      ],
      "text/plain": [
       "                                          COMPANY    EXPERIENCE  \\\n",
       "0                  Ab Inbev\\nbased on 20 salaries   3-4 yrs exp   \n",
       "1                        ZS\\nbased on 12 salaries     2 yrs exp   \n",
       "2                     Optum\\nbased on 23 salaries   3-4 yrs exp   \n",
       "3         Fractal Analytics\\nbased on 66 salaries   2-4 yrs exp   \n",
       "4              UnitedHealth\\nbased on 47 salaries   2-4 yrs exp   \n",
       "5           Tiger Analytics\\nbased on 26 salaries   3-4 yrs exp   \n",
       "6                   Verizon\\nbased on 14 salaries     4 yrs exp   \n",
       "7  Ganit Business Solutions\\nbased on 13 salaries     4 yrs exp   \n",
       "8                  Ericsson\\nbased on 42 salaries   3-4 yrs exp   \n",
       "9                  Deloitte\\nbased on 49 salaries   2-4 yrs exp   \n",
       "\n",
       "  LOWEST SALARY----AVERAGE SALARY---HIGHEST SALARY  \n",
       "0                          ₹ 19.0L-₹ 15.0L-₹ 23.0L  \n",
       "1                           ₹ 15.3L-₹ 9.8L-₹ 19.5L  \n",
       "2                          ₹ 15.0L-₹ 11.0L-₹ 21.3L  \n",
       "3                           ₹ 15.0L-₹ 9.5L-₹ 22.0L  \n",
       "4                           ₹ 13.5L-₹ 7.2L-₹ 20.5L  \n",
       "5                           ₹ 13.5L-₹ 8.3L-₹ 18.5L  \n",
       "6                          ₹ 12.7L-₹ 10.0L-₹ 21.0L  \n",
       "7                           ₹ 12.4L-₹ 8.5L-₹ 15.0L  \n",
       "8                           ₹ 11.7L-₹ 5.2L-₹ 21.5L  \n",
       "9                           ₹ 11.2L-₹ 6.8L-₹ 20.5L  "
      ]
     },
     "execution_count": 277,
     "metadata": {},
     "output_type": "execute_result"
    }
   ],
   "source": [
    "JOBAMBITIONSAL=pd.DataFrame({})\n",
    "JOBAMBITIONSAL['COMPANY']=COMP10\n",
    "JOBAMBITIONSAL['EXPERIENCE']=list4\n",
    "JOBAMBITIONSAL['LOWEST SALARY----AVERAGE SALARY---HIGHEST SALARY']=sal98\n",
    "JOBAMBITIONSAL"
   ]
  },
  {
   "cell_type": "code",
   "execution_count": null,
   "id": "6ec5415e",
   "metadata": {},
   "outputs": [],
   "source": []
  }
 ],
 "metadata": {
  "kernelspec": {
   "display_name": "Python 3",
   "language": "python",
   "name": "python3"
  },
  "language_info": {
   "codemirror_mode": {
    "name": "ipython",
    "version": 3
   },
   "file_extension": ".py",
   "mimetype": "text/x-python",
   "name": "python",
   "nbconvert_exporter": "python",
   "pygments_lexer": "ipython3",
   "version": "3.8.8"
  }
 },
 "nbformat": 4,
 "nbformat_minor": 5
}
